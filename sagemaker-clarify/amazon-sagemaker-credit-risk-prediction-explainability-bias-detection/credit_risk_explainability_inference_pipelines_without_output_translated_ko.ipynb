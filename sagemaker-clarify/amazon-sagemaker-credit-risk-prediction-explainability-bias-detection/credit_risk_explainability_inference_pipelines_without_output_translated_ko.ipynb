{
 "cells": [
  {
   "cell_type": "markdown",
   "id": "644daf99",
   "metadata": {},
   "source": [
    "# Amazon SageMaker를 활용한 신용 위험 예측, 설명 가능성 및 편향 감지"
   ]
  },
  {
   "cell_type": "markdown",
   "id": "a897c36e",
   "metadata": {},
   "source": [
    "![Credit risk explainability use case](credit_risk_prediction.png)\n",
    "\n",
    "1. [개요](#Overview)\n",
    "1. [사전 요구 사항 및 데이터](#Prerequisites-and-Data)\n",
    "    1. [SageMaker 초기화](#Initialize-SageMaker)\n",
    "    1. [데이터 다운로드](#Download-data)\n",
    "    1. [데이터 로딩: 독일 신용(업데이트) 데이터셋](#Loading-the-data:-German-credit-Dataset) \n",
    "    1. [데이터 검사](#Data-inspection) \n",
    "    1. [데이터 전처리 모델 및 S3 업로드](#Preprocess-and-Upload-Training-Data) \n",
    "1. [XGBoost 모델 훈련](#Train-XGBoost-Model)\n",
    "    1. [모델 훈련](#Train-Model)\n",
    "1. [추론 파이프라인이 포함된 SageMaker 모델 생성](#Create-SageMaker-Model)\n",
    "1. [Amazon SageMaker Clarify](#Amazon-SageMaker-Clarify)\n",
    "    1. [예측 설명](#Explaining-Predictions)\n",
    "        1. [설명 가능성 보고서 보기](#Viewing-the-Explainability-Report)\n",
    "        2. [개별 불량 신용 예측 예시 설명](#Explaining-individual-prediction)\n",
    "    2. [편향 이해하기](#Bias-Detection)\n",
    "        1. [훈련 전 편향 지표](#pre-training)\n",
    "        2. [훈련 후 편향 지표](#post-training)\n",
    "1. [정리](#Clean-Up)\n",
    "1. [추가 리소스](#Additional-Resources)\n",
    "\n",
    "## 1. 개요\n",
    "Amazon SageMaker는 데이터 과학자와 개발자가 ML을 위해 특별히 제작된 광범위한 기능을 통합하여 고품질 머신 러닝(ML) 모델을 빠르게 준비, 구축, 훈련 및 배포할 수 있도록 지원합니다.\n",
    "\n",
    "[Amazon SageMaker Clarify](https://aws.amazon.com/sagemaker/clarify/)는 잠재적 편향을 감지하고 이러한 모델이 예측을 수행하는 방법을 설명하는 데 도움을 줌으로써 머신 러닝 모델을 개선하는 데 도움이 됩니다. SageMaker Clarify가 제공하는 공정성 및 설명 가능성 기능은 AWS 고객이 신뢰할 수 있고 이해하기 쉬운 머신 러닝 모델을 구축할 수 있도록 하는 단계를 제공합니다.\n",
    "\n",
    "Amazon SageMaker는 Scikit-Learn, XGBoost, TensorFlow, PyTorch, MXNet 또는 Chainer와 같은 지원되는 프레임워크를 위한 머신 러닝 및 딥 러닝 프레임워크용 사전 제작된 이미지를 제공합니다. 이러한 이미지에는 해당 프레임워크와 Pandas 및 NumPy와 같은 추가 Python 패키지가 미리 로드되어 있어 모델 훈련을 위한 자체 코드를 작성할 수 있습니다. 자세한 내용은 [여기](https://docs.aws.amazon.com/sagemaker/latest/dg/algorithms-choose.html#supported-frameworks-benefits)를 참조하세요.\n",
    "\n",
    "[Amazon SageMaker Studio](https://aws.amazon.com/sagemaker/studio/)는 노트북, 실험 관리, 자동 모델 생성, 디버깅, 모델 및 데이터 드리프트 감지를 포함한 모든 ML 개발 활동을 수행할 수 있는 단일 웹 기반 시각적 인터페이스를 제공합니다.\n",
    "\n",
    "이 SageMaker Studio 노트북에서는 SageMaker를 사용하여 모델을 훈련하고, 배포 가능한 SageMaker 모델을 생성하며, 편향 감지 및 설명 가능성을 제공하여 데이터를 분석하고 모델의 예측 결과를 이해하는 방법을 강조합니다.\n",
    "이 샘플 노트북은 다음 과정을 안내합니다:\n",
    "\n",
    "1. 신용 위험 데이터셋 다운로드 및 탐색 - [남부 독일 신용(업데이트) 데이터셋](https://archive.ics.uci.edu/ml/datasets/South+German+Credit+%28UPDATE%29)\n",
    "2. sklearn을 사용한 데이터셋 전처리\n",
    "3. XGBoost를 사용한 데이터셋에 GBM 모델 훈련\n",
    "4. 입력 데이터를 전처리하고 인스턴스별 예측 결과를 생성하기 위한 추론 파이프라인 모델(sklearn 모델과 XGBoost 모델 함께) 구축\n",
    "5. 단일 모델 호스팅 및 점수 매기기(선택 사항)\n",
    "6. 훈련 및 테스트 데이터셋에 대한 SageMaker 모델의 Kernel SHAP 값을 제공하는 SageMaker Clarify 작업\n",
    "7. 데이터에 대한 훈련 전 편향 지표를 포함한 편향 지표를 제공하는 SageMaker Clarify 작업\n",
    "\n",
    "![신용 위험 설명 가능성 모델 추론](clarify_inf_pipeline_arch.jpg)"
   ]
  },
  {
   "cell_type": "markdown",
   "id": "05308d2d",
   "metadata": {},
   "source": [
    "## 2. 사전 준비 및 데이터 탐색과 특성 공학\n",
    "### SageMaker 초기화"
   ]
  },
  {
   "cell_type": "code",
   "execution_count": null,
   "id": "ffa25473",
   "metadata": {},
   "outputs": [],
   "source": [
    "# cell 01\n",
    "from io import StringIO\n",
    "import os\n",
    "import time\n",
    "import sys\n",
    "import IPython\n",
    "from time import gmtime, strftime\n",
    "\n",
    "import boto3\n",
    "import numpy as np\n",
    "import pandas as pd\n",
    "import urllib\n",
    "\n",
    "import sagemaker\n",
    "from sagemaker.s3 import S3Uploader\n",
    "from sagemaker.processing import ProcessingInput, ProcessingOutput\n",
    "from sagemaker.sklearn.processing import SKLearnProcessor\n",
    "from sagemaker.inputs import TrainingInput\n",
    "from sagemaker.xgboost import XGBoost\n",
    "from sagemaker.s3 import S3Downloader\n",
    "from sagemaker.s3 import S3Uploader\n",
    "from sagemaker import Session\n",
    "from sagemaker import get_execution_role\n",
    "from sagemaker.xgboost import XGBoostModel\n",
    "from sagemaker.sklearn import SKLearnModel\n",
    "from sagemaker.pipeline import PipelineModel\n",
    "\n",
    "\n",
    "session = Session()\n",
    "bucket = session.default_bucket()\n",
    "prefix = \"sagemaker/sagemaker-clarify-credit-risk-model\"\n",
    "region = session.boto_region_name\n",
    "\n",
    "# Define IAM role\n",
    "role = get_execution_role()"
   ]
  },
  {
   "cell_type": "markdown",
   "id": "2fed18b8",
   "metadata": {},
   "source": [
    "### 데이터 다운로드\n",
    "\n",
    "먼저, 데이터를 __다운로드__하고 `data` 폴더에 저장하세요.\n",
    "\n",
    "\n",
    "$^{[2]}$ Ulrike Grömping\n",
    "Beuth University of Applied Sciences Berlin\n",
    "연락처 정보가 있는 웹사이트: https://prof.beuth-hochschule.de/groemping/."
   ]
  },
  {
   "cell_type": "code",
   "execution_count": null,
   "id": "abf8b687",
   "metadata": {},
   "outputs": [],
   "source": [
    "# cell 02\n",
    "S3Downloader.download(\n",
    "    \"s3://sagemaker-sample-files/datasets/tabular/uci_statlog_german_credit_data/SouthGermanCredit.asc\",\n",
    "    \"data\",\n",
    ")"
   ]
  },
  {
   "cell_type": "code",
   "execution_count": null,
   "id": "44c57441",
   "metadata": {},
   "outputs": [],
   "source": [
    "# cell 03\n",
    "credit_columns = [\n",
    "    \"status\",\n",
    "    \"duration\",\n",
    "    \"credit_history\",\n",
    "    \"purpose\",\n",
    "    \"amount\",\n",
    "    \"savings\",\n",
    "    \"employment_duration\",\n",
    "    \"installment_rate\",\n",
    "    \"personal_status_sex\",\n",
    "    \"other_debtors\",\n",
    "    \"present_residence\",\n",
    "    \"property\",\n",
    "    \"age\",\n",
    "    \"other_installment_plans\",\n",
    "    \"housing\",\n",
    "    \"number_credits\",\n",
    "    \"job\",\n",
    "    \"people_liable\",\n",
    "    \"telephone\",\n",
    "    \"foreign_worker\",\n",
    "    \"credit_risk\",\n",
    "]"
   ]
  },
  {
   "cell_type": "markdown",
   "id": "2a14ce28",
   "metadata": {},
   "source": [
    "$`laufkont = status`\n",
    "                                               \n",
    " 1 : 당좌 계좌 없음                       \n",
    " 2 : ... < 0 DM                                \n",
    " 3 : 0<= ... < 200 DM                          \n",
    " 4 : ... >= 200 DM / 최소 1년 이상의 급여\n",
    "\n",
    "$`laufzeit = duration`\n",
    "     \n",
    "\n",
    "$`moral = credit_history`\n",
    "                                                \n",
    " 0 : 과거 상환 지연                            \n",
    " 1 : 중요 계좌/다른 곳에서의 신용 대출   \n",
    " 2 : 대출 이력 없음/모든 대출 정상 상환\n",
    " 3 : 현재까지 기존 대출 정상 상환   \n",
    " 4 : 이 은행의 모든 대출 정상 상환    \n",
    "\n",
    "$`verw = purpose`\n",
    "                        \n",
    " 0 : 기타             \n",
    " 1 : 자동차(신차)          \n",
    " 2 : 자동차(중고차)         \n",
    " 3 : 가구/장비\n",
    " 4 : 라디오/텔레비전   \n",
    " 5 : 가전제품\n",
    " 6 : 수리            \n",
    " 7 : 교육          \n",
    " 8 : 휴가           \n",
    " 9 : 재교육         \n",
    " 10 : 사업          \n",
    "\n",
    "$`hoehe = amount`\n",
    "     \n",
    "\n",
    "$`sparkont = savings`\n",
    "                               \n",
    " 1 : 알 수 없음/저축 계좌 없음\n",
    " 2 : ... <  100 DM             \n",
    " 3 : 100 <= ... <  500 DM      \n",
    " 4 : 500 <= ... < 1000 DM      \n",
    " 5 : ... >= 1000 DM            \n",
    "\n",
    "$`beszeit = employment_duration`\n",
    "                     \n",
    " 1 : 실업 상태      \n",
    " 2 : < 1년          \n",
    " 3 : 1 <= ... < 4년\n",
    " 4 : 4 <= ... < 7년\n",
    " 5 : >= 7년        \n",
    "\n",
    "$`rate = installment_rate`\n",
    "                   \n",
    " 1 : >= 35         \n",
    " 2 : 25 <= ... < 35\n",
    " 3 : 20 <= ... < 25\n",
    " 4 : < 20          \n",
    "\n",
    "$`famges = personal_status_sex`\n",
    "                                         \n",
    " 1 : 남성 : 이혼/별거           \n",
    " 2 : 여성 : 비독신 또는 남성 : 독신\n",
    " 3 : 남성 : 기혼/사별              \n",
    " 4 : 여성 : 독신                     \n",
    "\n",
    "$`buerge = other_debtors`\n",
    "                 \n",
    " 1 : 없음        \n",
    " 2 : 공동 신청인\n",
    " 3 : 보증인   \n",
    "\n",
    "$`wohnzeit = present_residence`\n",
    "                     \n",
    " 1 : < 1년          \n",
    " 2 : 1 <= ... < 4년\n",
    " 3 : 4 <= ... < 7년\n",
    " 4 : >= 7년        \n",
    "\n",
    "$`verm = property`\n",
    "                                              \n",
    " 1 : 알 수 없음 / 재산 없음                    \n",
    " 2 : 자동차 또는 기타                             \n",
    " 3 : 건축 저축 계약/생명 보험\n",
    " 4 : 부동산                              \n",
    "\n",
    "$`alter = age`\n",
    "     \n",
    "\n",
    "$`weitkred = other_installment_plans`\n",
    "           \n",
    " 1 : 은행  \n",
    " 2 : 상점\n",
    " 3 : 없음  \n",
    "\n",
    "$`wohn = housing`\n",
    "             \n",
    " 1 : 무상\n",
    " 2 : 임대    \n",
    " 3 : 자가     \n",
    "\n",
    "$`bishkred = number_credits`\n",
    "         \n",
    " 1 : 1   \n",
    " 2 : 2-3 \n",
    " 3 : 4-5 \n",
    " 4 : >= 6\n",
    "\n",
    "$`beruf = job`\n",
    "                                               \n",
    " 1 : 실업자/비숙련 - 비거주자       \n",
    " 2 : 비숙련 - 거주자                      \n",
    " 3 : 숙련된 직원/공무원                 \n",
    " 4 : 관리자/자영업자/고도로 자격을 갖춘 직원\n",
    "\n",
    "$`pers = people_liable`\n",
    "              \n",
    " 1 : 3명 이상\n",
    " 2 : 0~2명   \n",
    "\n",
    "$`telef = telephone`\n",
    "                              \n",
    " 1 : 아니오                       \n",
    " 2 : 예(고객 이름으로)\n",
    "\n",
    "$`gastarb = foreign_worker`\n",
    "        \n",
    " 1 : 예\n",
    " 2 : 아니오 \n",
    "\n",
    "$`kredit = credit_risk`\n",
    "         \n",
    " 0 : 나쁨 \n",
    " 1 : 좋음"
   ]
  },
  {
   "cell_type": "markdown",
   "id": "a27cdf4e",
   "metadata": {},
   "source": [
    "### 데이터 검사"
   ]
  },
  {
   "cell_type": "code",
   "execution_count": null,
   "id": "cad26f74",
   "metadata": {
    "scrolled": true
   },
   "outputs": [],
   "source": [
    "# cell 04\n",
    "training_data = pd.read_csv(\n",
    "    \"data/SouthGermanCredit.asc\",\n",
    "    names=credit_columns,\n",
    "    header=0,\n",
    "    sep=r\" \",\n",
    "    engine=\"python\",\n",
    "    na_values=\"?\",\n",
    ").dropna()\n",
    "\n",
    "print(training_data.head())"
   ]
  },
  {
   "cell_type": "markdown",
   "id": "70e9f768",
   "metadata": {},
   "source": [
    "다양한 특성의 분포에 대한 히스토그램을 그리는 것은 데이터를 시각화하는 좋은 방법입니다."
   ]
  },
  {
   "cell_type": "code",
   "execution_count": null,
   "id": "27f13ecd",
   "metadata": {},
   "outputs": [],
   "source": [
    "# cell 05\n",
    "%matplotlib inline\n",
    "training_data[\"credit_risk\"].value_counts().sort_values().plot(\n",
    "    kind=\"bar\", title=\"Counts of Target\", rot=0\n",
    ")"
   ]
  },
  {
   "cell_type": "markdown",
   "id": "2624c672",
   "metadata": {},
   "source": [
    "### 원시 훈련 및 테스트 CSV 파일 생성하기\n",
    "\n",
    "Korean: 원시 훈련 및 테스트 CSV 파일 생성하기"
   ]
  },
  {
   "cell_type": "code",
   "execution_count": null,
   "id": "9b713629",
   "metadata": {},
   "outputs": [],
   "source": [
    "# cell 06\n",
    "# prepare raw test data\n",
    "test_data = training_data.sample(frac=0.1)\n",
    "test_data = test_data.drop([\"credit_risk\"], axis=1)\n",
    "test_filename = \"test.csv\"\n",
    "test_columns = [\n",
    "    \"status\",\n",
    "    \"duration\",\n",
    "    \"credit_history\",\n",
    "    \"purpose\",\n",
    "    \"amount\",\n",
    "    \"savings\",\n",
    "    \"employment_duration\",\n",
    "    \"installment_rate\",\n",
    "    \"personal_status_sex\",\n",
    "    \"other_debtors\",\n",
    "    \"present_residence\",\n",
    "    \"property\",\n",
    "    \"age\",\n",
    "    \"other_installment_plans\",\n",
    "    \"housing\",\n",
    "    \"number_credits\",\n",
    "    \"job\",\n",
    "    \"people_liable\",\n",
    "    \"telephone\",\n",
    "    \"foreign_worker\",\n",
    "]\n",
    "test_data.to_csv(test_filename, index=False, header=True, columns=test_columns, sep=\",\")\n",
    "\n",
    "# prepare raw training data\n",
    "train_filename = \"train.csv\"\n",
    "training_data.to_csv(train_filename, index=False, header=True, columns=credit_columns, sep=\",\")"
   ]
  },
  {
   "cell_type": "markdown",
   "id": "078d9680",
   "metadata": {},
   "source": [
    "### 데이터 인코딩 및 업로드\n",
    "여기서는 훈련 및 테스트 데이터를 인코딩합니다. 입력 데이터 인코딩은 SageMaker Clarify에는 필요하지 않지만, XGBoost 모델에는 필요합니다."
   ]
  },
  {
   "cell_type": "code",
   "execution_count": null,
   "id": "921e68a9",
   "metadata": {},
   "outputs": [],
   "source": [
    "# cell 07\n",
    "test_raw = S3Uploader.upload(test_filename, \"s3://{}/{}/data/test\".format(bucket, prefix))\n",
    "print(test_raw)"
   ]
  },
  {
   "cell_type": "code",
   "execution_count": null,
   "id": "b250bd5d",
   "metadata": {},
   "outputs": [],
   "source": [
    "# cell 08\n",
    "train_raw = S3Uploader.upload(train_filename, \"s3://{}/{}/data/train\".format(bucket, prefix))\n",
    "print(train_raw)"
   ]
  },
  {
   "cell_type": "markdown",
   "id": "6b84ab1e",
   "metadata": {},
   "source": [
    "### SageMaker Processing 작업을 통한 전처리 및 특성 엔지니어링\n",
    "\n",
    "SageMaker Processing 작업을 사용하여 원시 데이터에 대한 전처리를 수행하겠습니다. SageMaker Processing은 여기서 사용할 SKlearn을 위한 사전 구축된 컨테이너를 제공합니다. 추론 요청 전처리에 사용할 수 있는 sklearn 모델을 출력하겠습니다."
   ]
  },
  {
   "cell_type": "code",
   "execution_count": null,
   "id": "7573a3d6",
   "metadata": {},
   "outputs": [],
   "source": [
    "# cell 09\n",
    "sklearn_processor = SKLearnProcessor(\n",
    "    role=role,\n",
    "    base_job_name=\"sagemaker-clarify-credit-risk-processing-job\",\n",
    "    instance_type=\"ml.m5.large\",\n",
    "    instance_count=1,\n",
    "    framework_version=\"0.20.0\",\n",
    ")"
   ]
  },
  {
   "cell_type": "markdown",
   "id": "4200afeb",
   "metadata": {},
   "source": [
    "프로세싱 작업에서 실행할 전처리 스크립트를 살펴볼 수 있습니다."
   ]
  },
  {
   "cell_type": "code",
   "execution_count": null,
   "id": "372ac2df",
   "metadata": {},
   "outputs": [],
   "source": [
    "# cell 10\n",
    "!pygmentize processing/preprocessor.py"
   ]
  },
  {
   "cell_type": "markdown",
   "id": "0baa3b9d",
   "metadata": {},
   "source": [
    "#### 참고: 이 셀은 약 5-8분 동안 실행됩니다! 기다려 주세요.\n",
    "SageMaker Processing에 대한 추가 문서는 [여기](https://docs.aws.amazon.com/sagemaker/latest/dg/processing-job.html)에서 확인할 수 있습니다."
   ]
  },
  {
   "cell_type": "code",
   "execution_count": null,
   "id": "1eba3c01",
   "metadata": {},
   "outputs": [],
   "source": [
    "# cell 11\n",
    "raw_data_path = \"s3://{0}/{1}/data/train/\".format(bucket, prefix)\n",
    "train_data_path = \"s3://{0}/{1}/data/preprocessed/train/\".format(bucket, prefix)\n",
    "val_data_path = \"s3://{0}/{1}/data/preprocessed/val/\".format(bucket, prefix)\n",
    "model_path = \"s3://{0}/{1}/sklearn/\".format(bucket, prefix)\n",
    "\n",
    "\n",
    "sklearn_processor.run(\n",
    "    code=\"processing/preprocessor.py\",\n",
    "    inputs=[\n",
    "        ProcessingInput(\n",
    "            input_name=\"raw_data\", source=raw_data_path, destination=\"/opt/ml/processing/input\"\n",
    "        )\n",
    "    ],\n",
    "    outputs=[\n",
    "        ProcessingOutput(\n",
    "            output_name=\"train_data\", source=\"/opt/ml/processing/train\", destination=train_data_path\n",
    "        ),\n",
    "        ProcessingOutput(\n",
    "            output_name=\"val_data\", source=\"/opt/ml/processing/val\", destination=val_data_path\n",
    "        ),\n",
    "        ProcessingOutput(\n",
    "            output_name=\"model\", source=\"/opt/ml/processing/model\", destination=model_path\n",
    "        ),\n",
    "    ],\n",
    "    arguments=[\"--train-test-split-ratio\", \"0.2\"],\n",
    "    logs=False,\n",
    ")"
   ]
  },
  {
   "cell_type": "markdown",
   "id": "2d80a01e",
   "metadata": {},
   "source": [
    "## XGBoost 모델 훈련\n",
    "이 단계에서는 전처리된 데이터로 XGBoost 모델을 훈련시키겠습니다. SageMaker에서 제공하는 내장 XGBoost 컨테이너와 함께 자체 훈련 스크립트를 사용할 것입니다.\n",
    "\n",
    "또는 자체 사용 사례의 경우, SageMaker Clarify로 처리하기 위해 (다른 곳에서 훈련된) 자체 모델을 SageMaker로 가져올 수도 있습니다."
   ]
  },
  {
   "cell_type": "code",
   "execution_count": null,
   "id": "80fda4e5",
   "metadata": {},
   "outputs": [],
   "source": [
    "# cell 12\n",
    "!pygmentize training/train_xgboost.py"
   ]
  },
  {
   "cell_type": "markdown",
   "id": "0961b18e",
   "metadata": {},
   "source": [
    "### XGBoost Estimator 설정하기\n",
    "\n",
    "다음으로 설정해 보겠습니다:\n",
    "1. XGBoost 알고리즘을 위한 하이퍼파라미터의 사전 정의된 값\n",
    "1. SageMaker용 XGBoost Estimator"
   ]
  },
  {
   "cell_type": "code",
   "execution_count": null,
   "id": "3496079f",
   "metadata": {},
   "outputs": [],
   "source": [
    "# cell 13\n",
    "hyperparameters = {\n",
    "    \"max_depth\": \"5\",\n",
    "    \"eta\": \"0.1\",\n",
    "    \"gamma\": \"4\",\n",
    "    \"min_child_weight\": \"6\",\n",
    "    \"silent\": \"1\",\n",
    "    \"objective\": \"binary:logistic\",\n",
    "    \"num_round\": \"100\",\n",
    "    \"subsample\": \"0.8\",\n",
    "    \"eval_metric\": \"auc\",\n",
    "    \"early_stopping_rounds\": \"20\",\n",
    "}\n",
    "\n",
    "entry_point = \"train_xgboost.py\"\n",
    "source_dir = \"training/\"\n",
    "output_path = \"s3://{0}/{1}/{2}\".format(bucket, prefix, \"xgb_model\")\n",
    "code_location = \"s3://{0}/{1}/code\".format(bucket, prefix)\n",
    "\n",
    "estimator = XGBoost(\n",
    "    entry_point=entry_point,\n",
    "    source_dir=source_dir,\n",
    "    output_path=output_path,\n",
    "    code_location=code_location,\n",
    "    hyperparameters=hyperparameters,\n",
    "    instance_type=\"ml.c5.xlarge\",\n",
    "    instance_count=1,\n",
    "    framework_version=\"0.90-2\",\n",
    "    py_version=\"py3\",\n",
    "    role=role,\n",
    ")"
   ]
  },
  {
   "cell_type": "markdown",
   "id": "587baa2f",
   "metadata": {},
   "source": [
    "### SageMaker 훈련\n",
    "\n",
    "이제 모델을 훈련시킬 시간입니다\n",
    "\n",
    "#### 참고: 이 셀은 약 5-8분 동안 실행됩니다! 기다려 주세요.\n",
    "SageMaker 훈련에 대한 자세한 문서는 [여기](https://docs.aws.amazon.com/sagemaker/latest/dg/train-model.html)에서 확인할 수 있습니다."
   ]
  },
  {
   "cell_type": "code",
   "execution_count": null,
   "id": "f04c0a41",
   "metadata": {},
   "outputs": [],
   "source": [
    "# cell 14\n",
    "job_name = f\"credit-risk-xgb-{strftime('%Y-%m-%d-%H-%M-%S', gmtime())}\"\n",
    "\n",
    "train_input = TrainingInput(\n",
    "    \"s3://{0}/{1}/data/preprocessed/train/\".format(bucket, prefix), content_type=\"csv\"\n",
    ")\n",
    "val_input = TrainingInput(\n",
    "    \"s3://{0}/{1}/data/preprocessed/val/\".format(bucket, prefix), content_type=\"csv\"\n",
    ")\n",
    "\n",
    "inputs = {\"train\": train_input, \"validation\": val_input}\n",
    "\n",
    "estimator.fit(inputs, job_name=job_name)"
   ]
  },
  {
   "cell_type": "markdown",
   "id": "6c48e275",
   "metadata": {},
   "source": [
    "## 4. SageMaker 모델 생성\n",
    "\n",
    "엔드포인트로 배포하거나 SageMaker Clarify와 함께 사용할 수 있는 SageMaker 추론 파이프라인 모델을 준비하겠습니다:\n",
    "  1. 원시 데이터를 입력으로 받음\n",
    "  1. 앞서 구축한 SKlearn 모델로 데이터 전처리\n",
    "  1. SKlearn 모델의 출력을 자동으로 XGBoost 모델의 입력으로 전달\n",
    "  1. XGBoost 모델에서 최종 추론 결과 제공\n",
    "  \n",
    "\n",
    "추론 파이프라인에 대한 자세한 내용은 다음 문서를 참조하세요: https://docs.aws.amazon.com/sagemaker/latest/dg/inference-pipelines.html"
   ]
  },
  {
   "cell_type": "markdown",
   "id": "cec929da",
   "metadata": {},
   "source": [
    "### 모델 아티팩트 검색하기\n",
    "\n",
    "먼저, 두 개의 Amazon SageMaker Model 객체를 생성해야 합니다. 이 객체들은 훈련의 아티팩트(Amazon S3에 저장된 직렬화된 모델 아티팩트)를 추론에 사용되는 Docker 컨테이너와 연결합니다. 이를 위해 Amazon S3에 있는 직렬화된 모델의 경로를 가져와야 합니다. 여기서 SKlearn 및 XGBoost 모델의 모델 데이터 위치를 정의합니다."
   ]
  },
  {
   "cell_type": "code",
   "execution_count": null,
   "id": "8171e0f5",
   "metadata": {},
   "outputs": [],
   "source": [
    "# cell 15\n",
    "preprocessor_model_data = \"s3://{}/{}/{}\".format(bucket, prefix, \"sklearn\") + \"/model.tar.gz\"\n",
    "\n",
    "xgboost_model_data = (\n",
    "    \"s3://{}/{}/{}/{}\".format(bucket, prefix, \"xgb_model\", job_name) + \"/output/model.tar.gz\"\n",
    ")"
   ]
  },
  {
   "cell_type": "markdown",
   "id": "87f61322",
   "metadata": {},
   "source": [
    "### SageMaker SKlearn 모델 객체 생성하기\n",
    "\n",
    "다음 단계는 다음과 같은 중요한 정보를 포함하는 `SKlearnModel` 객체를 생성하는 것입니다:\n",
    "  1. sklearn 모델 데이터의 위치\n",
    "  1. 사용자 정의 추론 코드\n",
    "  1. 사용할 SKlearn 버전(전처리 중에 사용한 버전과 동일한지 확인)"
   ]
  },
  {
   "cell_type": "markdown",
   "id": "881a72aa",
   "metadata": {},
   "source": [
    "이 모델을 호스팅하기 위해 입력과 출력을 처리하고 변환을 실행하는 데 사용되는 사용자 정의 추론 스크립트를 제공합니다.\n",
    "\n",
    "추론 스크립트는 `inference/sklearn/inference.py` 파일에 구현되어 있습니다. 이 사용자 정의 스크립트는 다음을 정의합니다:\n",
    "\n",
    "- 추론 요청을 전처리하기 위한 사용자 정의 `input_fn`. 우리의 입력 함수는 CSV 입력만 허용하며, 입력을 Pandas 데이터프레임으로 로드하고 특성 열 이름을 데이터프레임에 할당합니다.\n",
    "- 입력에 대해 변환을 실행하기 위한 사용자 정의 `predict_fn`\n",
    "- 모델을 역직렬화하기 위한 사용자 정의 `model_fn`\n",
    "\n",
    "SageMaker SKlearn 컨테이너에서 제공하는 `output_function`의 기본 구현을 사용할 것입니다. 자세한 내용은 다음을 확인하세요: https://github.com/aws/sagemaker-scikit-learn-container"
   ]
  },
  {
   "cell_type": "code",
   "execution_count": null,
   "id": "df55a667",
   "metadata": {},
   "outputs": [],
   "source": [
    "# cell 16\n",
    "!pygmentize inference/sklearn/inference.py"
   ]
  },
  {
   "cell_type": "markdown",
   "id": "be338887",
   "metadata": {},
   "source": [
    "이제 SKLearnModel 객체를 정의해보겠습니다.\n",
    "\n",
    "Korean: 이제 SKLearnModel 객체를 정의해보겠습니다."
   ]
  },
  {
   "cell_type": "code",
   "execution_count": null,
   "id": "4c437a96",
   "metadata": {},
   "outputs": [],
   "source": [
    "# cell 17\n",
    "sklearn_inference_code_location = \"s3://{}/{}/{}/code\".format(bucket, prefix, \"sklearn\")\n",
    "\n",
    "sklearn_model = SKLearnModel(\n",
    "    name=\"sklearn-model-{0}\".format(str(int(time.time()))),\n",
    "    model_data=preprocessor_model_data,\n",
    "    entry_point=\"inference.py\",\n",
    "    source_dir=\"inference/sklearn/\",\n",
    "    code_location=sklearn_inference_code_location,\n",
    "    role=role,\n",
    "    sagemaker_session=session,\n",
    "    framework_version=\"0.20.0\",\n",
    "    py_version=\"py3\",\n",
    ")"
   ]
  },
  {
   "cell_type": "markdown",
   "id": "1136e906",
   "metadata": {},
   "source": [
    "### SageMaker XGBoost 모델 객체 생성하기\n",
    "\n",
    "이전 단계와 유사하게, XGBoost 모델 객체를 생성할 수 있습니다. 여기서도 사용자 정의 추론 스크립트를 제공해야 합니다.\n",
    "\n",
    "추론 스크립트는 `inference/xgboost/inference.py` 파일에 구현되어 있습니다. 이 사용자 정의 스크립트는 다음을 정의합니다:\n",
    "\n",
    "- 추론 요청을 전처리하기 위한 사용자 정의 `input_fn`. 이 입력 함수는 JSON 요청뿐만 아니라 기본 XGBoost 컨테이너가 지원하는 모든 콘텐츠 유형을 처리할 수 있습니다. 추가 정보는 다음 링크를 참조하세요: https://github.com/aws/sagemaker-xgboost-container/blob/master/src/sagemaker_xgboost_container/encoder.py. JSON 콘텐츠 유형을 추가한 이유는 추론 파이프라인에서 컨테이너 간 기본 요청 콘텐츠 유형이 JSON이기 때문입니다.\n",
    "\n",
    "- 모델 역직렬화를 위한 사용자 정의 `model_fn`\n",
    "\n",
    "추론 스크립트를 살펴보겠습니다."
   ]
  },
  {
   "cell_type": "code",
   "execution_count": null,
   "id": "336a4c11",
   "metadata": {},
   "outputs": [],
   "source": [
    "# cell 18\n",
    "!pygmentize inference/xgboost/inference.py"
   ]
  },
  {
   "cell_type": "markdown",
   "id": "fc484db7",
   "metadata": {},
   "source": [
    "이제 XGBoost 모델 객체를 정의해 보겠습니다."
   ]
  },
  {
   "cell_type": "code",
   "execution_count": null,
   "id": "ec0bf895",
   "metadata": {},
   "outputs": [],
   "source": [
    "# cell 19\n",
    "xgboost_inference_code_location = \"s3://{}/{}/{}/code\".format(bucket, prefix, \"xgb_model\")\n",
    "\n",
    "xgboost_model = XGBoostModel(\n",
    "    name=\"xgb-model-{0}\".format(str(int(time.time()))),\n",
    "    model_data=xgboost_model_data,\n",
    "    entry_point=\"inference.py\",\n",
    "    source_dir=\"inference/xgboost/\",\n",
    "    code_location=xgboost_inference_code_location,\n",
    "    framework_version=\"0.90-2\",\n",
    "    py_version=\"py3\",\n",
    "    role=role,\n",
    "    sagemaker_session=session,\n",
    ")"
   ]
  },
  {
   "cell_type": "markdown",
   "id": "97d831e8",
   "metadata": {},
   "source": [
    "## SageMaker Pipeline Model 객체 생성하기\n",
    "\n",
    "모델이 준비되면 PipelineModel 객체를 구축하고 deploy() 메서드를 호출하여 파이프라인에 배포할 수 있습니다."
   ]
  },
  {
   "cell_type": "code",
   "execution_count": null,
   "id": "050c3898",
   "metadata": {},
   "outputs": [],
   "source": [
    "# cell 20\n",
    "pipeline_model_name = \"credit-risk-inference-pipeline-{0}\".format(str(int(time.time())))\n",
    "\n",
    "pipeline_model = PipelineModel(\n",
    "    name=pipeline_model_name,\n",
    "    role=role,\n",
    "    models=[sklearn_model, xgboost_model],\n",
    "    sagemaker_session=session,\n",
    ")"
   ]
  },
  {
   "cell_type": "markdown",
   "id": "5a4c2cbf",
   "metadata": {},
   "source": [
    "### 설명 가능성 작업을 설정할 때 필요하므로 `model name`을 기록해 두세요."
   ]
  },
  {
   "cell_type": "code",
   "execution_count": null,
   "id": "fcd894a8",
   "metadata": {},
   "outputs": [],
   "source": [
    "# cell 21\n",
    "pipeline_model.name"
   ]
  },
  {
   "cell_type": "markdown",
   "id": "484e87bc",
   "metadata": {},
   "source": [
    "### 모델 배포 (선택 사항 - Clarify에는 필요하지 않음)\n",
    "\n",
    "모델을 배포하고 추론 파이프라인을 테스트해보겠습니다.\n",
    "\n",
    "#### 참고: 이 셀은 약 5-8분 동안 실행됩니다! 기다려 주세요.\n",
    "SageMaker 추론에 대한 자세한 문서는 [여기](https://docs.aws.amazon.com/sagemaker/latest/dg/deploy-model.html)에서 확인할 수 있습니다."
   ]
  },
  {
   "cell_type": "code",
   "execution_count": null,
   "id": "e37963f5",
   "metadata": {},
   "outputs": [],
   "source": [
    "# cell 22\n",
    "endpoint_name = \"credit-risk-pipeline-endpoint-{0}\".format(str(int(time.time())))\n",
    "print(endpoint_name)\n",
    "\n",
    "pipeline_model.deploy(\n",
    "    initial_instance_count=1, instance_type=\"ml.m5.xlarge\", endpoint_name=endpoint_name\n",
    ")"
   ]
  },
  {
   "cell_type": "markdown",
   "id": "d5714f13",
   "metadata": {},
   "source": [
    "### 추론 (선택 사항 - Clarify에는 필요하지 않음)\n",
    "\n",
    "이제 모델이 배포되었으니, 선택적으로 이 노트북에서 앞서 생성한 원시 테스트 데이터로 테스트해보겠습니다."
   ]
  },
  {
   "cell_type": "code",
   "execution_count": null,
   "id": "0c0eebad",
   "metadata": {},
   "outputs": [],
   "source": [
    "# cell 23\n",
    "test_dataset = S3Downloader.read_file(test_raw)\n",
    "\n",
    "predictor = sagemaker.predictor.Predictor(\n",
    "    endpoint_name,\n",
    "    session,\n",
    "    serializer=sagemaker.serializers.CSVSerializer(),\n",
    "    deserializer=sagemaker.deserializers.CSVDeserializer(),\n",
    ")\n",
    "\n",
    "predictions = predictor.predict(test_dataset)"
   ]
  },
  {
   "cell_type": "code",
   "execution_count": null,
   "id": "b1ce788e",
   "metadata": {},
   "outputs": [],
   "source": [
    "# cell 24\n",
    "predictions"
   ]
  },
  {
   "cell_type": "markdown",
   "id": "0a51f92d",
   "metadata": {},
   "source": [
    "## 5. Amazon SageMaker Clarify\n",
    "\n",
    "사전 요구사항:\n",
    "\n",
    "1. 엔드포인트에 배포할 수 있는 [SageMaker Model](https://sagemaker.readthedocs.io/en/stable/api/inference/model.html)\n",
    "\n",
    "2. 입력 데이터셋\n",
    "                  \n",
    "3. SHAP 기준선\n",
    "\n",
    "이제 모델 설정이 완료되었습니다. SageMaker Clarify를 시작해 보겠습니다!"
   ]
  },
  {
   "cell_type": "code",
   "execution_count": null,
   "id": "02107669",
   "metadata": {},
   "outputs": [],
   "source": [
    "# cell 25\n",
    "from sagemaker import clarify\n",
    "\n",
    "clarify_processor = clarify.SageMakerClarifyProcessor(\n",
    "    role=role, instance_count=1, instance_type=\"ml.c4.xlarge\", sagemaker_session=session\n",
    ")"
   ]
  },
  {
   "cell_type": "markdown",
   "id": "ed326eab",
   "metadata": {},
   "source": [
    "### 예측 설명하기\n",
    "모델이 내린 결정의 _이유_에 대한 설명을 요구하는 비즈니스 요구사항과 법적 규제가 증가하고 있습니다. SageMaker Clarify는 [SHAP 라이브러리](https://github.com/slundberg/shap)를 사용하여 각 입력 특성이 최종 결정에 기여하는 정도를 설명합니다. SageMaker Clarify는 확장 가능하고 효율적인 [Kernel SHAP](https://github.com/slundberg/shap#model-agnostic-example-with-kernelexplainer-explains-any-function) 구현을 사용하며, 여러 처리 인스턴스로 Spark 기반 병렬 처리를 선택할 수 있습니다. Kernel SHAP 및 SageMaker Clarify는 모델에 구애받지 않는 특성 기여도 접근 방식을 가지고 있습니다. [SageMaker 모델](https://sagemaker.readthedocs.io/en/stable/api/inference/model.html)로 표현되는 모든 머신 러닝 모델은 설명 가능성을 위해 Clarify와 함께 사용할 수 있습니다.\n",
    "\n",
    "Clarify와 SHAP를 사용한 설명 가능성에 대한 자세한 정보는 다음과 같습니다:\n",
    "\n",
    "    https://docs.aws.amazon.com/sagemaker/latest/dg/clarify-model-explainability.html\n",
    "    \n",
    "    https://docs.aws.amazon.com/sagemaker/latest/dg/clarify-shapley-values.html\n",
    "    \n",
    "    https://papers.nips.cc/paper/2017/file/8a20a8621978632d76c43dfd28b67767-Paper.pdf"
   ]
  },
  {
   "cell_type": "markdown",
   "id": "fa04701b",
   "metadata": {},
   "source": [
    "### SHAP을 위한 기준선 생성하기\n",
    "\n",
    "Korean: 기준선 생성하기\n",
    "\n",
    "머신 러닝 모델의 예측을 해석하는 데 있어 SHAP(SHapley Additive exPlanations)는 매우 유용한 도구입니다. SHAP 값은 각 특성이 모델의 예측에 얼마나 기여하는지를 보여줍니다."
   ]
  },
  {
   "cell_type": "markdown",
   "id": "48595f84",
   "metadata": {},
   "source": [
    "대조적 설명 기법으로서, SHAP 값은 기준 샘플에 대해 생성된 합성 데이터에 모델을 평가하여 계산됩니다. 동일한 사례에 대한 설명은 이 기준 샘플의 선택에 따라 달라질 수 있습니다.\n",
    "\n",
    "우리는 불량 신용 예측을 설명하는 데 관심이 있습니다. 따라서, 기준 선택이 E(x)를 1(우량 신용 클래스에 속함)에 더 가깝게 하고자 합니다.\n",
    "\n",
    "기준을 만들기 위해 [최빈값](https://en.wikipedia.org/wiki/Mode_(statistics)) 통계를 사용합니다. 최빈값은 범주형 변수에 좋은 선택입니다. 기준에 대한 모델 예측이 우량 신용 클래스에 대해 높은 확률을 가지므로 기준에 대한 요구 사항을 충족한다는 것을 관찰할 수 있습니다.\n",
    "\n",
    "유익한 기준과 비유익한 기준 선택에 대한 자세한 정보는 [설명 가능성을 위한 SHAP 기준](https://docs.aws.amazon.com/sagemaker/latest/dg/clarify-feature-attribute-shap-baselines.html)을 참조하세요."
   ]
  },
  {
   "cell_type": "code",
   "execution_count": null,
   "id": "15545ced",
   "metadata": {},
   "outputs": [],
   "source": [
    "# cell 26\n",
    "# load the raw training data in a data frame\n",
    "raw_train_df = pd.read_csv(\"train.csv\", header=0, names=None, sep=\",\")\n",
    "\n",
    "# drop the target column\n",
    "baseline = raw_train_df.drop([\"credit_risk\"], axis=1).mode().iloc[0].values.astype(\"int\").tolist()\n",
    "\n",
    "print(baseline)"
   ]
  },
  {
   "cell_type": "code",
   "execution_count": null,
   "id": "7df752bc",
   "metadata": {},
   "outputs": [],
   "source": [
    "# cell 27\n",
    "# check baseline prediction E[f(x)]\n",
    "pred_baseline = predictor.predict(baseline)\n",
    "print(pred_baseline)"
   ]
  },
  {
   "cell_type": "markdown",
   "id": "4f1387a0",
   "metadata": {},
   "source": [
    "### Clarify 구성 설정하기\n",
    "\n",
    "Korean: 설정하기"
   ]
  },
  {
   "cell_type": "markdown",
   "id": "6f52afc4",
   "metadata": {},
   "source": [
    "다음으로, Clarify를 통한 설명 가능성 분석을 시작하기 위한 추가 구성을 설정하겠습니다. 다음 항목을 설정해야 합니다:\n",
    "  1. **SHAPConfig**: 기준선을 생성합니다. 이 예제에서는 mean_abs가 모든 인스턴스에 대한 절대 SHAP 값의 평균으로, 기준선으로 지정됩니다.\n",
    "  1. **DataConfig**: SageMaker Clarify에 데이터 I/O에 관한 기본 정보를 제공합니다. 입력 데이터셋의 위치, 출력 저장 위치, 헤더 이름 및 데이터셋 유형을 지정합니다.\n",
    "  1. **ModelConfig**: 학습된 모델에 대한 정보를 지정합니다. 여기서는 앞서 생성한 모델 이름을 재사용합니다.\n",
    "  \n",
    "  참고: 프로덕션 모델에 대한 추가 트래픽을 방지하기 위해 SageMaker Clarify는 처리 중에 임시 엔드포인트를 설정하고 해제합니다. ModelConfig는 Clarify 처리 중에 모델을 실행하는 데 사용할 선호하는 인스턴스 유형과 인스턴스 수를 지정합니다.\n",
    "  \n",
    "Clarify에 대한 이러한 구성의 의미에 대해 자세히 알아보려면 다음 문서를 참조하세요: https://docs.aws.amazon.com/sagemaker/latest/dg/clarify-configure-processing-jobs.html"
   ]
  },
  {
   "cell_type": "code",
   "execution_count": null,
   "id": "f7e8eb6b",
   "metadata": {},
   "outputs": [],
   "source": [
    "# cell 28\n",
    "shap_config = clarify.SHAPConfig(\n",
    "    baseline=[baseline],\n",
    "    num_samples=2000,  # num_samples are permutations from your features, so should be large enough as compared to number of input features, for example, 2k + 2* num_features\n",
    "    agg_method=\"mean_abs\",\n",
    "    use_logit=True,\n",
    ")  # we want the shap values to have log-odds units so that the equation 'shap values + expected probability =  predicted probability' for each instance record )"
   ]
  },
  {
   "cell_type": "code",
   "execution_count": null,
   "id": "d4bd1223",
   "metadata": {},
   "outputs": [],
   "source": [
    "# cell 29\n",
    "explainability_report_prefix = \"{}/clarify-explainability\".format(prefix)\n",
    "explainability_output_path = \"s3://{}/{}\".format(bucket, explainability_report_prefix)\n",
    "\n",
    "explainability_data_config = clarify.DataConfig(\n",
    "    s3_data_input_path=test_raw,\n",
    "    s3_output_path=explainability_output_path,\n",
    "    # label='credit_risk', # target column is not present in the test dataset\n",
    "    headers=test_columns,\n",
    "    dataset_type=\"text/csv\",\n",
    ")"
   ]
  },
  {
   "cell_type": "code",
   "execution_count": null,
   "id": "48fa229b",
   "metadata": {},
   "outputs": [],
   "source": [
    "# cell 30\n",
    "model_config = clarify.ModelConfig(\n",
    "    model_name=pipeline_model.name,  # specify the inference pipeline model name\n",
    "    instance_type=\"ml.c5.xlarge\",\n",
    "    instance_count=1,\n",
    "    accept_type=\"text/csv\",\n",
    ")"
   ]
  },
  {
   "cell_type": "markdown",
   "id": "488f3213",
   "metadata": {},
   "source": [
    "### SageMaker Clarify 설명 가능성 작업 실행\n",
    "\n",
    "모든 구성이 준비되었습니다. 이제 설명 가능성 작업을 시작해 보겠습니다. 이 작업은 임시 SageMaker 엔드포인트를 생성하고 해당 엔드포인트에서 추론을 수행하며 설명을 계산합니다. 기존의 프로덕션 엔드포인트 배포는 사용하지 않습니다.\n",
    "\n",
    "#### 참고: 이 셀은 약 5-8분 동안 실행됩니다! 기다려 주세요.\n",
    "SageMaker Clarify에 대한 자세한 내용은 [여기](https://docs.aws.amazon.com/sagemaker/latest/dg/clarify-fairness-and-explainability.html)에서 문서를 참조할 수 있습니다."
   ]
  },
  {
   "cell_type": "code",
   "execution_count": null,
   "id": "33329990",
   "metadata": {},
   "outputs": [],
   "source": [
    "# cell 31\n",
    "clarify_processor.run_explainability(\n",
    "    data_config=explainability_data_config,\n",
    "    model_config=model_config,\n",
    "    explainability_config=shap_config,\n",
    ")"
   ]
  },
  {
   "cell_type": "markdown",
   "id": "f05ca9b0",
   "metadata": {},
   "source": [
    "### 설명 가능성 보고서 보기\n",
    "\n",
    "작업이 완료되면 Studio의 'Experiments and trials' 탭에서 설명 가능성 보고서를 볼 수 있습니다.\n",
    "\n",
    "'clarify-explainability-'라는 이름의 트라이얼 컴포넌트를 찾아 설명 가능성 탭을 확인하세요.\n",
    "\n",
    "아직 Studio 사용자가 아니라면, 다음 S3 버킷에서 이 보고서에 접근할 수 있습니다.\n",
    "\n",
    "이 보고서는 입력 데이터셋을 사용한 모델에 대한 전역 설명을 포함하고 있습니다."
   ]
  },
  {
   "cell_type": "code",
   "execution_count": null,
   "id": "801ab892",
   "metadata": {},
   "outputs": [],
   "source": [
    "# cell 32\n",
    "explainability_output_path"
   ]
  },
  {
   "cell_type": "code",
   "execution_count": null,
   "id": "eb70a2ff",
   "metadata": {},
   "outputs": [],
   "source": [
    "# cell 33\n",
    "run_explainability_job_name = clarify_processor.latest_job.job_name\n",
    "run_explainability_job_name\n"
   ]
  },
  {
   "cell_type": "code",
   "execution_count": null,
   "id": "e66ac028",
   "metadata": {},
   "outputs": [],
   "source": [
    "# cell 34\n",
    "from IPython.core.display import display, HTML\n",
    "\n",
    "display(\n",
    "    HTML(\n",
    "        '<b>Review <a target=\"blank\" href=\"https://console.aws.amazon.com/sagemaker/home?region={}#/processing-jobs/{}\">Processing Job</a></b>'.format(\n",
    "            region, run_explainability_job_name\n",
    "        )\n",
    "    )\n",
    ")"
   ]
  },
  {
   "cell_type": "code",
   "execution_count": null,
   "id": "0632eb68",
   "metadata": {},
   "outputs": [],
   "source": [
    "# cell 35\n",
    "from IPython.core.display import display, HTML\n",
    "\n",
    "display(\n",
    "    HTML(\n",
    "        '<b>Review <a target=\"blank\" href=\"https://console.aws.amazon.com/cloudwatch/home?region={}#logStream:group=/aws/sagemaker/ProcessingJobs;prefix={};streamFilter=typeLogStreamPrefix\">CloudWatch Logs</a> After About 5 Minutes</b>'.format(\n",
    "            region, run_explainability_job_name\n",
    "        )\n",
    "    )\n",
    ")"
   ]
  },
  {
   "cell_type": "code",
   "execution_count": null,
   "id": "5e3dc71c",
   "metadata": {},
   "outputs": [],
   "source": [
    "# cell 36\n",
    "from IPython.core.display import display, HTML\n",
    "\n",
    "display(\n",
    "    HTML(\n",
    "        '<b>Review <a target=\"blank\" href=\"https://s3.console.aws.amazon.com/s3/buckets/{}?prefix={}/\">S3 Output Data</a> After The Processing Job Has Completed</b>'.format(\n",
    "            bucket, explainability_report_prefix\n",
    "        )\n",
    "    )\n",
    ")"
   ]
  },
  {
   "cell_type": "code",
   "execution_count": null,
   "id": "2723da55",
   "metadata": {},
   "outputs": [],
   "source": [
    "# cell 37\n",
    "explainability_output_path"
   ]
  },
  {
   "cell_type": "markdown",
   "id": "d3d34858",
   "metadata": {},
   "source": [
    "### S3에서 보고서 다운로드"
   ]
  },
  {
   "cell_type": "code",
   "execution_count": null,
   "id": "91833771",
   "metadata": {},
   "outputs": [],
   "source": [
    "# cell 38\n",
    "!aws s3 ls $explainability_output_path/\n"
   ]
  },
  {
   "cell_type": "code",
   "execution_count": null,
   "id": "40c461a5",
   "metadata": {},
   "outputs": [],
   "source": [
    "# cell 39\n",
    "!aws s3 cp --recursive $explainability_output_path ./explainability_report/"
   ]
  },
  {
   "cell_type": "markdown",
   "id": "f2201979",
   "metadata": {},
   "source": [
    "#### 아래의 설명 가능성 PDF 보고서를 통해 모델에 대한 SHAP를 사용한 전역 설명을 확인하세요. 이 보고서에는 데이터셋의 모든 개별 인스턴스에 대한 SHAP 요약 플롯도 포함되어 있습니다."
   ]
  },
  {
   "cell_type": "code",
   "execution_count": null,
   "id": "a4e3f014",
   "metadata": {},
   "outputs": [],
   "source": [
    "# cell 40\n",
    "from IPython.core.display import display, HTML\n",
    "\n",
    "display(HTML('<b>Review <a target=\"blank\" href=\"./explainability_report/report.html\">Explainability Report</a></b>'))\n",
    "\n"
   ]
  },
  {
   "cell_type": "markdown",
   "id": "e8d5f23e",
   "metadata": {},
   "source": [
    "### SageMaker Studio에서 설명 가능성 보고서 보기"
   ]
  },
  {
   "cell_type": "markdown",
   "id": "d8763eeb",
   "metadata": {},
   "source": [
    "Studio의 실험 탭에서 설명 가능성 보고서를 볼 수도 있습니다."
   ]
  },
  {
   "cell_type": "markdown",
   "id": "4bf52e3b",
   "metadata": {},
   "source": [
    "![title](explainability_detail.gif)"
   ]
  },
  {
   "cell_type": "markdown",
   "id": "c3c11014",
   "metadata": {},
   "source": [
    "### Clarify를 통한 개별 예측의 로컬 설명 분석하기\n",
    "\n",
    "#### 이 섹션의 선행 조건은 앞서 선택적 섹션에서 SageMaker 엔드포인트로 추론을 실행하여 테스트 데이터셋에 대한 개별 예측을 생성했어야 합니다\n",
    "이 섹션에서는 Clarify가 생성한 각 개별 예측에 대한 로컬 설명 가능성 결과를 분석하고 이해하겠습니다. Clarify는 각 예측별로 각 특성에 대한 SHAP 값이 포함된 CSV 파일을 생성합니다. 이 CSV 파일을 다운로드해 보겠습니다."
   ]
  },
  {
   "cell_type": "code",
   "execution_count": null,
   "id": "985574a6",
   "metadata": {},
   "outputs": [],
   "source": [
    "# cell 41\n",
    "from sagemaker.s3 import S3Downloader\n",
    "import json\n",
    "import io\n",
    "\n",
    "# read the shap values\n",
    "S3Downloader.download(s3_uri=explainability_output_path + \"/explanations_shap\", local_path=\"output\")\n",
    "shap_values_df = pd.read_csv(\"output/out.csv\")\n",
    "print(shap_values_df.shape)"
   ]
  },
  {
   "cell_type": "markdown",
   "id": "9a1e7513",
   "metadata": {},
   "source": [
    "SHAP은 기본적으로 분류기 모델을 로지스틱 링크 함수 이전의 마진 출력 측면에서 설명합니다. 이는 SHAP 출력의 단위가 로그 오즈(log-odds) 단위이며, 음수 값은 0.5 미만의 확률을 의미하여 불량 신용 등급(클래스 0)을 나타냅니다.\n",
    "\n",
    "#### 로지스틱 링크 함수 이전의 예측 출력 및 SHAP 값에 대한 간략한 기술 요약\n",
    "\n",
    "y = f(x)는 예측 출력에 대한 로그 오즈(logit) 단위입니다.\n",
    "\n",
    "E(y)는 입력 기준선에 대한 예측의 로그 오즈(logit) 단위입니다.\n",
    "\n",
    "SHAP 값도 로그 오즈 단위로 표시됩니다.\n",
    "\n",
    "모든 개별 예측에 대해 다음이 성립해야 합니다:\n",
    "\n",
    "sum(SHAP values) + E(y)) == model_prediction_logit\n",
    "\n",
    "logistic(model_prediction_logit) = model_prediction_probability\n",
    "\n",
    "E(y) < 0은 기준 확률이 0.5 미만(불량 신용 기준선)임을 의미합니다.\n",
    "\n",
    "E(y) > 0은 기준 확률이 0.5 초과(양호한 신용 기준선)임을 의미합니다.\n",
    "\n",
    "y < 0은 예측 확률이 0.5 미만(불량 신용)임을 의미합니다.\n",
    "\n",
    "y > 0은 예측 확률이 0.5 초과(양호한 신용)임을 의미합니다."
   ]
  },
  {
   "cell_type": "markdown",
   "id": "7e00012d",
   "metadata": {},
   "source": [
    "기준 입력에 대한 예측의 로그 오즈 단위인 E(y)를 검색할 수 있습니다."
   ]
  },
  {
   "cell_type": "code",
   "execution_count": null,
   "id": "e04dd30a",
   "metadata": {},
   "outputs": [],
   "source": [
    "# cell 42\n",
    "# get the base expected value to be used to plot SHAP values\n",
    "S3Downloader.download(s3_uri=explainability_output_path + \"/analysis.json\", local_path=\"output\")\n",
    "\n",
    "with open(\"output/analysis.json\") as json_file:\n",
    "    data = json.load(json_file)\n",
    "    base_value = data[\"explanations\"][\"kernel_shap\"][\"label0\"][\"expected_value\"]\n",
    "\n",
    "print(\"E(y): \", base_value)"
   ]
  },
  {
   "cell_type": "markdown",
   "id": "b419be42",
   "metadata": {},
   "source": [
    "앞서 설명한 대로, 불량 신용 예측을 대조하고 설명하기 위해 SHAP과 함께 사용할 양호한 신용 예측을 나타내는 기준선이 있습니다. E(y) > 0은 기준 확률이 0.5보다 크다는 것을 의미합니다(양호한 신용 기준선)."
   ]
  },
  {
   "cell_type": "markdown",
   "id": "d997e60e",
   "metadata": {},
   "source": [
    "### 이전에 추론 중에 생성된 모델 예측을 포함하는 데이터프레임 생성"
   ]
  },
  {
   "cell_type": "code",
   "execution_count": null,
   "id": "f5cd2c2f",
   "metadata": {},
   "outputs": [],
   "source": [
    "# cell 43\n",
    "from pandas import DataFrame\n",
    "\n",
    "predictions_df = DataFrame(predictions, columns=[\"probability_score\"])\n",
    "\n",
    "predictions_df"
   ]
  },
  {
   "cell_type": "markdown",
   "id": "aaf1682c",
   "metadata": {},
   "source": [
    "### 예측, SHAP 값 및 테스트 데이터 결합\n",
    "\n",
    "이제 모든 테스트 데이터 행과 해당 SHAP 값 및 예측 점수를 포함하는 단일 데이터프레임을 생성합니다."
   ]
  },
  {
   "cell_type": "code",
   "execution_count": null,
   "id": "ecc200d8",
   "metadata": {},
   "outputs": [],
   "source": [
    "# cell 44\n",
    "# join the probability score and shap values together in a single data frame\n",
    "predictions_df.reset_index(drop=True, inplace=True)\n",
    "shap_values_df.reset_index(drop=True, inplace=True)\n",
    "test_data.reset_index(drop=True, inplace=True)\n",
    "\n",
    "prediction_shap_df = pd.concat([predictions_df, shap_values_df, test_data], axis=1)\n",
    "prediction_shap_df[\"probability_score\"] = pd.to_numeric(\n",
    "    prediction_shap_df[\"probability_score\"], downcast=\"float\"\n",
    ")\n",
    "\n",
    "prediction_shap_df"
   ]
  },
  {
   "cell_type": "markdown",
   "id": "38c9cf08",
   "metadata": {},
   "source": [
    "### 확률 점수를 이진 예측으로 변환\n",
    "\n",
    "이제 확률 점수를 임계값(0.5)을 기준으로 이진 값(1/0)으로 변환합니다. 0.5보다 큰 확률 점수는 긍정적 결과(양호한 신용)이고 그보다 작은 점수는 부정적 결과(불량 신용)입니다."
   ]
  },
  {
   "cell_type": "code",
   "execution_count": null,
   "id": "2b87dadd",
   "metadata": {},
   "outputs": [],
   "source": [
    "# cell 45\n",
    "# create a new column as 'Prediction' converting the probability score to either 1 or 0\n",
    "prediction_shap_df.insert(\n",
    "    0, \"Prediction\", (prediction_shap_df[\"probability_score\"] > 0.5).astype(int)\n",
    ")\n",
    "\n",
    "prediction_shap_df"
   ]
  },
  {
   "cell_type": "markdown",
   "id": "d2934b4c",
   "metadata": {},
   "source": [
    "### 불량 신용 예측만 필터링\n",
    "\n",
    "이 사용 사례에서는 부정적 결과(불량 신용 예측)만 설명하는 데 관심이 있으므로, 예측이 0인 레코드만 유지하도록 필터링합니다."
   ]
  },
  {
   "cell_type": "code",
   "execution_count": null,
   "id": "1ed52b8f",
   "metadata": {},
   "outputs": [],
   "source": [
    "# cell 46\n",
    "bad_credit_outcomes_df = prediction_shap_df[prediction_shap_df.iloc[:, 0] == 0]\n",
    "bad_credit_outcomes_df"
   ]
  },
  {
   "cell_type": "markdown",
   "id": "2012fd2c",
   "metadata": {},
   "source": [
    "### SHAP 플롯 생성\n",
    "\n",
    "이제 다양한 특성이 특정 부정적 결과에 얼마나 기여했는지 이해하기 위해 추가 SHAP 플롯을 생성해 보겠습니다."
   ]
  },
  {
   "cell_type": "markdown",
   "id": "7ecbe3df",
   "metadata": {},
   "source": [
    "#### 더 많은 시각화를 위한 오픈 소스 SHAP 라이브러리 설치"
   ]
  },
  {
   "cell_type": "code",
   "execution_count": null,
   "id": "0e4cc6f3",
   "metadata": {},
   "outputs": [],
   "source": [
    "# cell 47\n",
    "!conda install -c conda-forge shap -y"
   ]
  },
  {
   "cell_type": "code",
   "execution_count": null,
   "id": "d02a5928",
   "metadata": {},
   "outputs": [],
   "source": [
    "# cell 48\n",
    "import shap"
   ]
  },
  {
   "cell_type": "markdown",
   "id": "d4f1b697",
   "metadata": {},
   "source": [
    "#### 단일 불량 신용 앙상블 예측 인스턴스에 대한 SHAP 설명 플롯. 가장 낮은 확률을 가진 예측 인스턴스를 선택하겠습니다."
   ]
  },
  {
   "cell_type": "code",
   "execution_count": null,
   "id": "f402e678",
   "metadata": {},
   "outputs": [],
   "source": [
    "# cell 49\n",
    "import matplotlib.pyplot as plt\n",
    "\n",
    "min_index = prediction_shap_df[\"probability_score\"].idxmin()\n",
    "print(min_index)\n",
    "print(\"mean probability of dataset\")\n",
    "print(prediction_shap_df[[\"probability_score\"]].mean())\n",
    "print(\"individual probability\")\n",
    "print(prediction_shap_df.iloc[min_index, 1])\n",
    "print(\"sum of shap values\")\n",
    "print(prediction_shap_df.iloc[min_index, 2:22].sum())\n",
    "print(\"base value from analysis.json\")\n",
    "print(base_value)"
   ]
  },
  {
   "cell_type": "markdown",
   "id": "02baabb9",
   "metadata": {},
   "source": [
    "'불량 신용' 예측 SHAP 값 예시.\n",
    "\n",
    "아래 차트에서 f(x)는 이 특정 개별 인스턴스의 예측을 로그 오즈 단위로 나타냅니다. 음수인 경우 불량 신용 예측을 의미합니다.\n",
    "\n",
    "아래 차트에서 E(f(x))는 기준선 입력의 예측을 로그 오즈 단위로 나타냅니다. 양수이므로 양호한 신용 클래스에 속합니다.\n",
    "\n",
    "개별 예시는 양호한 신용 기준선과 대조됩니다. 따라서 음수 SHAP 값을 가진 특성들이 초기 기준선 양수 값에서 최종 부정적 결정으로 이끕니다."
   ]
  },
  {
   "cell_type": "markdown",
   "id": "f3a0bbbb",
   "metadata": {},
   "source": [
    "### 아래 예시에서 입력 특성 (status = 1), (purpose = 0) 및 (personal_status_sex = 2)는 부정적 결정을 이끄는 상위 3개 특성입니다."
   ]
  },
  {
   "cell_type": "markdown",
   "id": "3f92b366",
   "metadata": {},
   "source": [
    "이러한 값들이 논리적 카테고리에 어떻게 매핑되는지 이해하려면 데이터 설명을 참조할 수 있습니다."
   ]
  },
  {
   "cell_type": "code",
   "execution_count": null,
   "id": "0efb4dca",
   "metadata": {},
   "outputs": [],
   "source": [
    "# cell 50\n",
    "import inspect\n",
    "import shap.plots._waterfall\n",
    "source = inspect.getsource(shap.plots._waterfall)\n",
    "new_source = source.replace(\"as pl\", \"as plt\")\n",
    "exec(new_source, shap.plots._waterfall.__dict__)\n",
    "\n",
    "explanation_obj = shap._explanation.Explanation(\n",
    "    values=prediction_shap_df.iloc[min_index, 2:22].to_numpy(),\n",
    "    base_values=base_value,\n",
    "    data=test_data.iloc[min_index].to_numpy(),\n",
    "    feature_names=test_data.columns,\n",
    ")\n",
    "shap.plots.waterfall(shap_values=explanation_obj, max_display=20, show=False)"
   ]
  },
  {
   "cell_type": "markdown",
   "id": "1e7f24f3",
   "metadata": {},
   "source": [
    "위의 플롯에서 min_index를 변경하여 다른 개별 인스턴스의 예측을 설명해 볼 수 있습니다."
   ]
  },
  {
   "cell_type": "markdown",
   "id": "bb27dc56",
   "metadata": {},
   "source": [
    "### Amazon SageMaker Clarify로 데이터 편향 감지\n",
    "#### Amazon Science: [Clarify가 머신 러닝 개발자가 의도하지 않은 편향을 감지하는 데 어떻게 도움이 되는지](https://www.amazon.science/latest-news/how-clarify-helps-machine-learning-developers-detect-unintended-bias)\n",
    "\n",
    "#### [편향 및 공정성에 대한 Clarify 용어](https://docs.aws.amazon.com/sagemaker/latest/dg/clarify-detect-data-bias.html)\n",
    "\n",
    "#### [사전 훈련 편향 메트릭](https://docs.aws.amazon.com/sagemaker/latest/dg/clarify-measure-data-bias.html)\n",
    "\n",
    "#### [사후 훈련 편향 메트릭](https://docs.aws.amazon.com/sagemaker/latest/dg/clarify-measure-post-training-bias.html)\n",
    "\n",
    "#### 사전 훈련 및 사후 훈련 편향 메트릭 계산\n",
    "\n",
    "참고: 사전 훈련 및 사후 훈련 편향 감지 작업을 별도로 실행할 수도 있습니다."
   ]
  },
  {
   "cell_type": "markdown",
   "id": "7b2273fa",
   "metadata": {},
   "source": [
    "DataConfig 객체는 Clarify에 데이터 I/O에 대한 기본 정보를 전달합니다. 입력 데이터셋의 위치, 출력을 저장할 위치, 대상 열(레이블), 헤더 이름 및 데이터셋 유형을 지정합니다.\n",
    "\n",
    "마찬가지로, ModelConfig(이전에 설명 가능성 작업을 위해 생성됨) 객체는 훈련된 모델에 대한 정보를 전달하고 ModelPredictedLabelConfig는 예측 형식에 대한 정보를 제공합니다."
   ]
  },
  {
   "cell_type": "code",
   "execution_count": null,
   "id": "27f533e6",
   "metadata": {},
   "outputs": [],
   "source": [
    "# cell 51\n",
    "bias_report_prefix = \"{}/clarify-bias\".format( prefix)\n",
    "bias_report_output_path = \"s3://{}/{}\".format(bucket,bias_report_prefix)\n",
    "bias_data_config = clarify.DataConfig(\n",
    "    s3_data_input_path=train_raw,\n",
    "    s3_output_path=bias_report_output_path,\n",
    "    label=\"credit_risk\",\n",
    "    headers=training_data.columns.to_list(),\n",
    "    dataset_type=\"text/csv\",\n",
    ")\n",
    "predictions_config = clarify.ModelPredictedLabelConfig(label=None, probability=0)"
   ]
  },
  {
   "cell_type": "markdown",
   "id": "0913266b",
   "metadata": {},
   "source": [
    "SageMaker Clarify는 민감한 열(facets)과 바람직한 결과(facet_values_or_threshold)도 필요로 합니다.\n",
    "\n",
    "BiasConfig API에서 이 정보를 지정합니다. 여기서 age는 분석하는 facet이고 40은 임계값입니다. 'personal_status_sex' 그룹은 조건부 인구통계 격차(CDD) 메트릭 측정을 위한 하위 그룹을 형성하는 데 사용됩니다."
   ]
  },
  {
   "cell_type": "code",
   "execution_count": null,
   "id": "617a2343",
   "metadata": {},
   "outputs": [],
   "source": [
    "# cell 52\n",
    "bias_config = clarify.BiasConfig(\n",
    "    label_values_or_threshold=[1],\n",
    "    facet_name=\"age\",\n",
    "    facet_values_or_threshold=[40],\n",
    "    group_name=\"personal_status_sex\",\n",
    ")"
   ]
  },
  {
   "cell_type": "markdown",
   "id": "2227bb82",
   "metadata": {},
   "source": [
    "#### 참고: 이 셀은 약 5-8분 동안 실행됩니다! 기다려 주세요.\n",
    "SageMaker Clarify에 대한 자세한 문서는 [여기](https://docs.aws.amazon.com/sagemaker/latest/dg/clarify-fairness-and-explainability.html)에서 참조할 수 있습니다."
   ]
  },
  {
   "cell_type": "code",
   "execution_count": null,
   "id": "a54f2db9",
   "metadata": {},
   "outputs": [],
   "source": [
    "# cell 53\n",
    "clarify_processor.run_bias(\n",
    "    data_config=bias_data_config,\n",
    "    bias_config=bias_config,\n",
    "    model_config=model_config,\n",
    "    model_predicted_label_config=predictions_config,\n",
    "    pre_training_methods=\"all\",\n",
    "    post_training_methods=\"all\",\n",
    ")"
   ]
  },
  {
   "cell_type": "markdown",
   "id": "41de5b4c",
   "metadata": {},
   "source": [
    "#### 편향 감지 보고서 보기\n",
    "Studio의 실험 탭에서 편향 감지 보고서를 볼 수 있습니다.\n",
    "\n",
    "아직 Studio 사용자가 아닌 경우, 다음 S3 버킷에서 이 보고서에 접근할 수 있습니다."
   ]
  },
  {
   "cell_type": "code",
   "execution_count": null,
   "id": "df2e15a0",
   "metadata": {},
   "outputs": [],
   "source": [
    "# cell 54\n",
    "bias_report_output_path"
   ]
  },
  {
   "cell_type": "code",
   "execution_count": null,
   "id": "b6b50269",
   "metadata": {},
   "outputs": [],
   "source": [
    "# cell 55\n",
    "run_post_training_bias_processing_job_name = clarify_processor.latest_job.job_name\n",
    "run_post_training_bias_processing_job_name"
   ]
  },
  {
   "cell_type": "code",
   "execution_count": null,
   "id": "319641b5",
   "metadata": {},
   "outputs": [],
   "source": [
    "# cell 56\n",
    "\n",
    "from IPython.core.display import display, HTML\n",
    "\n",
    "display(\n",
    "    HTML(\n",
    "        '<b>Review <a target=\"blank\" href=\"https://console.aws.amazon.com/sagemaker/home?region={}#/processing-jobs/{}\">Processing Job</a></b>'.format(\n",
    "            region, run_post_training_bias_processing_job_name\n",
    "        )\n",
    "    )\n",
    ")\n",
    "\n"
   ]
  },
  {
   "cell_type": "code",
   "execution_count": null,
   "id": "0b194c1f",
   "metadata": {},
   "outputs": [],
   "source": [
    "# cell 57\n",
    "from IPython.core.display import display, HTML\n",
    "\n",
    "display(\n",
    "    HTML(\n",
    "        '<b>Review <a target=\"blank\" href=\"https://console.aws.amazon.com/cloudwatch/home?region={}#logStream:group=/aws/sagemaker/ProcessingJobs;prefix={};streamFilter=typeLogStreamPrefix\">CloudWatch Logs</a> After About 5 Minutes</b>'.format(\n",
    "            region, run_post_training_bias_processing_job_name\n",
    "        )\n",
    "    )\n",
    ")"
   ]
  },
  {
   "cell_type": "code",
   "execution_count": null,
   "id": "9fdd46cd",
   "metadata": {},
   "outputs": [],
   "source": [
    "# cell 58\n",
    "from IPython.core.display import display, HTML\n",
    "\n",
    "display(\n",
    "    HTML(\n",
    "        '<b>Review <a target=\"blank\" href=\"https://s3.console.aws.amazon.com/s3/buckets/{}?prefix={}/\">S3 Output Data</a> After The Processing Job Has Completed</b>'.format(\n",
    "            bucket, bias_report_prefix\n",
    "        )\n",
    "    )\n",
    ")"
   ]
  },
  {
   "cell_type": "markdown",
   "id": "a58748f1",
   "metadata": {},
   "source": [
    "#### S3에서 보고서 다운로드"
   ]
  },
  {
   "cell_type": "code",
   "execution_count": null,
   "id": "2205f25d",
   "metadata": {},
   "outputs": [],
   "source": [
    "# cell 59\n",
    "!aws s3 ls $bias_report_output_path/"
   ]
  },
  {
   "cell_type": "code",
   "execution_count": null,
   "id": "94a7b9bf",
   "metadata": {},
   "outputs": [],
   "source": [
    "# cell 60\n",
    "bias_report_output_path"
   ]
  },
  {
   "cell_type": "code",
   "execution_count": null,
   "id": "117e2fcf",
   "metadata": {},
   "outputs": [],
   "source": [
    "# cell 61\n",
    "!aws s3 cp --recursive $bias_report_output_path ./generated_bias_report/"
   ]
  },
  {
   "cell_type": "markdown",
   "id": "5a07c6e4",
   "metadata": {},
   "source": [
    "#### 사전 훈련 편향 및 사후 훈련 편향 지표가 포함된 편향 보고서 PDF를 확인합니다."
   ]
  },
  {
   "cell_type": "code",
   "execution_count": null,
   "id": "cc4b3f24",
   "metadata": {},
   "outputs": [],
   "source": [
    "# cell 62\n",
    "from IPython.core.display import display, HTML\n",
    "\n",
    "display(HTML('<b>Review <a target=\"blank\" href=\"./generated_bias_report/report.html\">Bias Report</a></b>'))"
   ]
  },
  {
   "cell_type": "markdown",
   "id": "2c4d7b12",
   "metadata": {},
   "source": [
    "### Studio에서 편향 보고서 보기"
   ]
  },
  {
   "cell_type": "markdown",
   "id": "8eeecae7",
   "metadata": {},
   "source": [
    "또는 Studio의 실험 탭에서 편향 보고서를 볼 수도 있습니다. 각 편향 지표에는 탐색할 수 있는 자세한 설명과 예시가 포함되어 있습니다. 결과를 유용한 표로 요약할 수도 있습니다!"
   ]
  },
  {
   "cell_type": "markdown",
   "id": "7f8f2b46",
   "metadata": {},
   "source": [
    "![title](bias_report.gif)"
   ]
  },
  {
   "cell_type": "markdown",
   "id": "40b7ce80",
   "metadata": {},
   "source": [
    "몇 가지 사전 훈련 및 사후 훈련 편향 지표를 구체적으로 살펴보겠습니다.\n",
    "\n",
    "사전 훈련 편향 지표\n",
    "1. 클래스 불균형(Class imbalance)\n",
    "2. DPL - 실제 레이블의 긍정적 비율 차이\n",
    "\n",
    "사후 훈련 편향 지표\n",
    "1. DPPL - 예측 레이블의 긍정적 비율 차이\n",
    "2. DI - 불균형 영향"
   ]
  },
  {
   "cell_type": "code",
   "execution_count": null,
   "id": "956087db",
   "metadata": {},
   "outputs": [],
   "source": [
    "# cell 63\n",
    "S3Downloader.download(s3_uri=bias_report_output_path + \"/analysis.json\", local_path=\"output\")\n",
    "\n",
    "with open(\"output/analysis.json\") as json_file:\n",
    "    data = json.load(json_file)\n",
    "    print(\"pre-training bias metrics\")\n",
    "    class_imbalance = data[\"pre_training_bias_metrics\"][\"facets\"][\"age\"][0][\"metrics\"][1][\"value\"]\n",
    "    print(\"class imbalance: \", class_imbalance)\n",
    "    DPL = data[\"pre_training_bias_metrics\"][\"facets\"][\"age\"][0][\"metrics\"][2][\"value\"]\n",
    "    print(\"DPL: \", DPL)\n",
    "    print(\"\\n\")\n",
    "    print(\"post training bias metrics\")\n",
    "    DPPL = data[\"post_training_bias_metrics\"][\"facets\"][\"age\"][0][\"metrics\"][6][\"value\"]\n",
    "    print(\"DPPL: \", DPPL)\n",
    "    DI = data[\"post_training_bias_metrics\"][\"facets\"][\"age\"][0][\"metrics\"][5][\"value\"]\n",
    "    print(\"DI: \", DI)"
   ]
  },
  {
   "cell_type": "markdown",
   "id": "75655a9c",
   "metadata": {},
   "source": [
    "여기서 임계값이 [40]인 \"age\" 측면에 대해 [CI](https://docs.aws.amazon.com/sagemaker/latest/dg/clarify-bias-metric-class-imbalance.html)와 [DI](https://docs.aws.amazon.com/sagemaker/latest/dg/clarify-post-training-bias-metric-di.html)는 높은 반면, [DPL](https://docs.aws.amazon.com/sagemaker/latest/dg/clarify-data-bias-metric-true-label-imbalance.html)과 [DPPL](https://docs.aws.amazon.com/sagemaker/latest/dg/clarify-post-training-bias-metric-dppl.html)은 낮은 것을 볼 수 있습니다. 사전 훈련 편향을 완화하기 위해 데이터 전처리 기술을 적용할 수 있으며, 사후 훈련 편향을 완화하기 위해 훈련 알고리즘을 재평가할 수 있습니다."
   ]
  },
  {
   "cell_type": "markdown",
   "id": "88f844b3",
   "metadata": {},
   "source": [
    "### 6. 정리\n",
    "마지막으로, 이 데모를 위해 설정하고 사용한 리소스를 정리하는 것을 잊지 마세요!"
   ]
  },
  {
   "cell_type": "code",
   "execution_count": null,
   "id": "c7a613dd",
   "metadata": {},
   "outputs": [],
   "source": [
    "# cell 64\n",
    "session.delete_endpoint(endpoint_name)"
   ]
  },
  {
   "cell_type": "code",
   "execution_count": null,
   "id": "cd9ebaab",
   "metadata": {},
   "outputs": [],
   "source": [
    "# cell 65\n",
    "session.delete_model(pipeline_model.name)"
   ]
  },
  {
   "cell_type": "markdown",
   "id": "911c87cd",
   "metadata": {},
   "source": [
    "## 7. 추가 탐색 자료"
   ]
  },
  {
   "cell_type": "markdown",
   "id": "b17c1a12",
   "metadata": {},
   "source": [
    "* [더 공정한 머신 러닝을 향해](https://www.amazon.science/research-awards/success-stories/algorithmic-bias-and-fairness-in-machine-learning)\n",
    "* [금융 분야 머신 러닝을 위한 공정성 측정](https://pages.awscloud.com/rs/112-TZM-766/images/Fairness.Measures.for.Machine.Learning.in.Finance.pdf)\n",
    "* [Amazon SageMaker Clarify: 클라우드에서의 머신 러닝 편향 감지 및 설명 가능성](https://www.amazon.science/publications/amazon-sagemaker-clarify-machine-learning-bias-detection-and-explainability-in-the-cloud)\n",
    "* [Amazon AI 공정성 및 설명 가능성 백서](https://pages.awscloud.com/rs/112-TZM-766/images/Amazon.AI.Fairness.and.Explainability.Whitepaper.pdf)\n",
    "* [Clarify가 머신 러닝 개발자가 의도하지 않은 편향을 감지하는 데 어떻게 도움이 되는지](https://www.amazon.science/latest-news/how-clarify-helps-machine-learning-developers-detect-unintended-bias)"
   ]
  },
  {
   "cell_type": "code",
   "execution_count": null,
   "id": "e409b4b7",
   "metadata": {},
   "outputs": [],
   "source": []
  }
 ],
 "metadata": {
  "instance_type": "ml.t3.medium",
  "kernelspec": {
   "display_name": "Python 3 (Data Science)",
   "language": "python",
   "name": "python3__SAGEMAKER_INTERNAL__arn:aws:sagemaker:eu-west-1:470317259841:image/datascience-1.0"
  },
  "language_info": {
   "codemirror_mode": {
    "name": "ipython",
    "version": 3
   },
   "file_extension": ".py",
   "mimetype": "text/x-python",
   "name": "python",
   "nbconvert_exporter": "python",
   "pygments_lexer": "ipython3",
   "version": "3.7.6"
  }
 },
 "nbformat": 4,
 "nbformat_minor": 5
}
