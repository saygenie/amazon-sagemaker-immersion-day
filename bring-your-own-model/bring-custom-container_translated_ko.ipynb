{
 "cells": [
  {
   "cell_type": "markdown",
   "id": "a5539260",
   "metadata": {},
   "source": [
    "# Lab: Amazon SageMaker에서 자체 커스텀 컨테이너 가져오기\n",
    "\n",
    "<div class=\"alert alert-block alert-info\">\n",
    "⚠️ 이 노트북을 실행하기 위해서는 SageMaker Studio Domain에서 Docker가 활성화되어 있는지 확인하세요. AWS에서 진행하는 이벤트에서 이 노트북을 실행하는 경우, <b>이 부분을 건너뛰어도 됩니다</b>. 직접 SageMaker Studio Domain을 프로비저닝한 경우, <a href=\"https://docs.aws.amazon.com/sagemaker/latest/dg/studio-updated-local.html#studio-updated-local-enable\">여기를 참조하여</a> AWS CLI를 통해 기존 SageMaker Studio Domain에서 Docker를 활성화하는 방법을 확인하세요. 이 명령을 실행한 후, <b>변경 사항을 적용하려면 JupyterApp을 재시작해야 합니다</b>.\n",
    "</div>\n",
    "\n",
    "<div class=\"alert alert-block alert-info\">\n",
    "⚠️ 이 노트북과 호환되는 것으로 알려진 최신 SageMaker Distribution 이미지 버전은 <code>3.1.0</code>입니다. 다른 버전에서 문제가 발생하면 버전 <code>3.1.0</code>으로 다운그레이드하세요. <b>이를 위해서는 JupyterApp을 중지하고, SageMaker Distribution 이미지를 <code>3.1.0</code>으로 다운그레이드한 다음, 변경 사항을 적용하기 위해 JupyterLabApp을 재시작해야 합니다</b>.</div>"
   ]
  },
  {
   "cell_type": "markdown",
   "id": "8dfa07e8",
   "metadata": {},
   "source": [
    "## 개요\n",
    "\n",
    "### 배경\n",
    "여기서는 환경과 코드를 패키징하는 도커 컨테이너를 가져오는 방법을 보여드리겠습니다. 널리 사용되는 [scikit-learn](http://scikit-learn.org/stable/) 머신 러닝 패키지의 [decision tree](http://scikit-learn.org/stable/modules/tree.html) 알고리즘을 선보입니다. 이 예제는 의도적으로 상당히 간단하게 만들었습니다. 그 이유는 여러분이 자신의 컨테이너에 추가하고자 하는 주변 구조를 보여주는 것이 목적이기 때문입니다. 이를 통해 Amazon SageMaker에서 훈련 및 호스팅을 할 수 있습니다.\n",
    "\n",
    "\n",
    "### 상위 수준 개요\n",
    "\n",
    "다음 다이어그램은 일반적으로 Amazon SageMaker로 모델을 훈련하고 배포하는 방법을 보여줍니다:"
   ]
  },
  {
   "cell_type": "markdown",
   "id": "b867fc9a",
   "metadata": {},
   "source": [
    "<div>\n",
    "<img src=\"https://docs.aws.amazon.com/sagemaker/latest/dg/images/sagemaker-architecture.png\" width=\"900\"/>\n",
    "</div>"
   ]
  },
  {
   "cell_type": "markdown",
   "id": "f25bfec3",
   "metadata": {},
   "source": [
    "SageMaker로 표시된 영역은 SageMaker의 두 가지 구성 요소인 모델 훈련과 모델 배포를 강조합니다. [EC2 container registry](https://aws.amazon.com/ecr/)로 표시된 영역은 Docker 컨테이너 이미지를 저장, 관리 및 배포하는 곳입니다. 훈련 데이터와 모델 아티팩트는 S3 버킷에 저장됩니다.\n",
    "\n",
    "이 실습에서는 간단하게 하기 위해 모델 훈련과 호스팅 모두에 단일 이미지를 사용합니다. 때로는 훈련과 호스팅에 서로 다른 요구 사항이 있기 때문에 별도의 이미지를 원할 수도 있습니다.\n",
    "\n",
    "주요 단계는 다음과 같습니다:\n",
    "1. **컨테이너 빌드** - 컨테이너의 다양한 구성 요소를 살펴보고 도커 파일을 검사합니다. 그런 다음 컨테이너를 빌드하고 ECR에 푸시합니다.\n",
    "2. **설정 및 데이터 업로드** - 컨테이너가 빌드되고 등록되면 SageMaker를 준비하고 데이터를 S3에 업로드합니다.\n",
    "3. **모델 훈련** - SageMaker Python SDK를 사용하여 훈련 작업을 생성합니다. S3에서 데이터를 가져와 우리가 빌드한 컨테이너를 사용합니다.\n",
    "4. **모델 배포** - 훈련이 완료되면 SageMaker Python SDK를 사용하여 모델을 HTTP 엔드포인트에 배포합니다.\n",
    "5. **추론 실행** - 모델을 테스트하기 위해 예측을 실행합니다.\n",
    "6. **정리**"
   ]
  },
  {
   "cell_type": "markdown",
   "id": "4191f309",
   "metadata": {},
   "source": [
    "## 컨테이너 구축하기\n",
    "[Docker](https://aws.amazon.com/docker/#:~:text=Docker%20is%20a%20software%20platform,test%2C%20and%20deploy%20applications%20quickly.&text=Running%20Docker%20on%20AWS%20provides,distributed%20applications%20at%20any%20scale.)는 소프트웨어를 [컨테이너](https://aws.amazon.com/containers/)라고 불리는 표준화된 단위로 패키징합니다. 이 컨테이너에는 소프트웨어 실행에 필요한 라이브러리, 시스템 도구, 코드 및 런타임 등 모든 것이 포함되어 있습니다. Docker를 사용하면 어떤 환경에서든 애플리케이션을 빠르게 배포하고 확장할 수 있으며, 코드가 확실히 실행될 것이라는 것을 알 수 있습니다.\n",
    "\n",
    "Amazon SageMaker는 Docker를 사용하여 사용자가 임의의 알고리즘을 훈련하고 배포할 수 있게 합니다. [SageMaker에서 Docker 컨테이너를 사용하는 방법](https://docs.aws.amazon.com/sagemaker/latest/dg/docker-containers.html)에 대한 자세한 내용을 확인하세요."
   ]
  },
  {
   "cell_type": "markdown",
   "id": "0773085c",
   "metadata": {},
   "source": [
    "### 컨테이너 디렉토리 살펴보기\n",
    "[이 GitHub 저장소](https://github.com/aws/amazon-sagemaker-examples/tree/main/advanced_functionality/scikit_bring_your_own)에서 사용 중인 샘플 컨테이너의 소스 코드를 찾을 수 있습니다.\n",
    "\n",
    "컨테이너 디렉토리에는 SageMaker용으로 패키징해야 하는 모든 구성 요소가 포함되어 있습니다."
   ]
  },
  {
   "cell_type": "markdown",
   "id": "c4432952",
   "metadata": {},
   "source": [
    "```\n",
    ".\n",
    "|-- Dockerfile\n",
    "|-- build_and_push.sh\n",
    "|-- local_test\n",
    "`-- decision_trees\n",
    "    |-- nginx.conf\n",
    "    |-- predictor.py\n",
    "    |-- serve\n",
    "    |-- train\n",
    "    `-- wsgi.py\n",
    "```"
   ]
  },
  {
   "cell_type": "markdown",
   "id": "43438c32",
   "metadata": {},
   "source": [
    "각각에 대해 차례대로 살펴보겠습니다:\n",
    "\n",
    "- `Dockerfile`은 Docker 컨테이너 이미지를 빌드하는 방법을 설명합니다. 자세한 내용은 아래에 있습니다.\n",
    "- `build_and_push.sh`는 Dockerfile을 사용하여 컨테이너 이미지를 빌드한 다음 ECR에 푸시하는 스크립트입니다. 이 노트북의 뒷부분에서 명령어를 직접 호출할 것이지만, 자신의 알고리즘을 위해 스크립트를 복사하여 실행할 수 있습니다.\n",
    "- `local_test`는 Amazon SageMaker 노트북 인스턴스를 포함하여 Docker를 실행할 수 있는 모든 컴퓨터에서 새 컨테이너를 테스트하는 방법을 보여주는 디렉토리입니다. 이 방법을 사용하면 작은 데이터셋으로 빠르게 반복하여 Amazon SageMaker와 함께 컨테이너를 사용하기 전에 구조적 버그를 제거할 수 있습니다. 테스트는 이 랩의 초점이 아니지만, 시간이 있을 때 예제를 확인해 보세요.\n",
    "- `decision_trees`는 컨테이너에 설치될 파일들이 포함된 디렉토리입니다.\n",
    "\n",
    "이 간단한 애플리케이션에서는 컨테이너에 다섯 개의 파일만 설치합니다. 이 다섯 개의 파일은 Python 컨테이너의 표준 구조를 보여주지만, 다른 도구 세트나 프로그래밍 언어를 선택하여 다른 레이아웃을 가질 수도 있습니다.\n",
    "\n",
    "컨테이너에 넣을 파일들은 다음과 같습니다:\n",
    "\n",
    "- `nginx.conf`는 nginx 프론트엔드의 구성 파일입니다. 일반적으로 이 파일은 그대로 사용할 수 있습니다.\n",
    "- `predictor.py`는 Flask 웹 서버와 이 앱의 의사결정 트리 예측을 실제로 구현하는 프로그램입니다. 실제 예측 부분을 애플리케이션에 맞게 사용자 정의해야 합니다. 이 알고리즘은 간단하므로 모든 처리를 이 파일에서 수행하지만, 사용자 정의 로직을 구현하기 위해 별도의 파일을 사용할 수도 있습니다.\n",
    "- `serve`는 호스팅을 위해 컨테이너가 시작될 때 시작되는 프로그램입니다. 이는 단순히 predictor.py에 정의된 Flask 앱의 여러 인스턴스를 실행하는 gunicorn 서버를 시작합니다. 이 파일은 그대로 사용할 수 있습니다.\n",
    "- `train`은 훈련을 위해 컨테이너가 실행될 때 호출되는 프로그램입니다. 훈련 알고리즘을 구현하기 위해 이 프로그램을 수정해야 합니다.\n",
    "- `wsgi.py`는 Flask 앱을 호출하는 데 사용되는 작은 래퍼입니다. 이 파일은 그대로 사용할 수 있습니다.\n",
    "\n",
    "요약하자면, 애플리케이션을 위해 변경하고 싶을 두 파일은 `train`과 `predictor.py`입니다."
   ]
  },
  {
   "cell_type": "markdown",
   "id": "4f5d1d1a",
   "metadata": {},
   "source": [
    "### 패키지 설치\n",
    "계속 진행하려면 `Python 3 (ipykernel)` 커널을 선택해주세요.\n",
    "\n",
    "먼저 필요한 패키지들을 설치하겠습니다."
   ]
  },
  {
   "cell_type": "code",
   "execution_count": null,
   "id": "f3e840f1",
   "metadata": {
    "tags": []
   },
   "outputs": [],
   "source": [
    "# cell 00\n",
    "\n",
    "!pip install --root-user-action=ignore --upgrade pip\n",
    "!pip install --root-user-action=ignore -q pandas==2.1.4\n",
    "!pip install --root-user-action=ignore -q awswrangler==3.5.1 --no-cache"
   ]
  },
  {
   "cell_type": "markdown",
   "id": "8fa36d49",
   "metadata": {},
   "source": [
    "### Docker 설치\n",
    "\n",
    "Docker를 사용하려면 JupyterLab 애플리케이션의 터미널에서 수동으로 설치해야 합니다. Studio에서 현재 지원되는 docker 작업에 대해 숙지하시기 바랍니다 [여기를 참조하세요](https://docs.aws.amazon.com/sagemaker/latest/dg/studio-updated-local.html)."
   ]
  },
  {
   "cell_type": "code",
   "execution_count": null,
   "id": "fb9ea95b",
   "metadata": {},
   "outputs": [],
   "source": [
    "%%bash\n",
    "\n",
    "# see https://docs.docker.com/engine/install/ubuntu/#install-using-the-repository\n",
    "sudo apt-get update\n",
    "sudo apt-get install -y ca-certificates curl\n",
    "sudo install -m 0755 -d /etc/apt/keyrings\n",
    "sudo curl -fsSL https://download.docker.com/linux/ubuntu/gpg -o /etc/apt/keyrings/docker.asc\n",
    "sudo chmod a+r /etc/apt/keyrings/docker.asc\n",
    "\n",
    "# Add the repository to Apt sources:\n",
    "echo \\\n",
    "  \"deb [arch=$(dpkg --print-architecture) signed-by=/etc/apt/keyrings/docker.asc] https://download.docker.com/linux/ubuntu \\\n",
    "  $(. /etc/os-release && echo \"$VERSION_CODENAME\") stable\" | \\\n",
    "  sudo tee /etc/apt/sources.list.d/docker.list > /dev/null\n",
    "sudo apt-get update\n",
    "\n",
    "## Currently only Docker version 20.10.X is supported in Studio: see https://docs.aws.amazon.com/sagemaker/latest/dg/studio-updated-local.html\n",
    "# pick the latest patch from:\n",
    "# apt-cache madison docker-ce | awk '{ print $3 }' | grep -i 20.10\n",
    "VERSION_STRING=5:20.10.24~3-0~ubuntu-jammy\n",
    "sudo apt-get install docker-ce-cli=$VERSION_STRING docker-compose-plugin -y\n",
    "\n",
    "# validate the Docker Client is able to access Docker Server at [unix:///docker/proxy.sock]\n",
    "docker version"
   ]
  },
  {
   "cell_type": "markdown",
   "id": "1f143630",
   "metadata": {},
   "source": [
    "그런 다음 필요한 파일들을 압축 해제하고 복사하겠습니다:\n",
    "- `scikit_bring_your_own/container` → `lab03_container`\n",
    "- `scikit_bring_your_own/data` → `lab03_data`"
   ]
  },
  {
   "cell_type": "code",
   "execution_count": null,
   "id": "561ac1e9",
   "metadata": {},
   "outputs": [],
   "source": [
    "# cell 01\n",
    "\n",
    "!unzip -q scikit_bring_your_own.zip\n",
    "!mv scikit_bring_your_own/data/ ./lab03_data/\n",
    "!mv scikit_bring_your_own/container/ ./lab03_container/\n",
    "!rm -rf scikit_bring_your_own"
   ]
  },
  {
   "cell_type": "markdown",
   "id": "a71c82f0",
   "metadata": {},
   "source": [
    "### Dockerfile\n",
    "`Dockerfile`은 우리가 빌드하고자 하는 이미지를 설명합니다. 이것은 실행하고자 하는 시스템의 완전한 운영 체제 설치를 설명하는 것으로 생각할 수 있습니다. 그러나 Docker 컨테이너는 기본 작업을 위해 호스트 머신의 Linux를 활용하기 때문에 전체 운영 체제보다 훨씬 가볍습니다.\n",
    "\n",
    "Python 과학 스택을 위해, 우리는 표준 Ubuntu 설치에서 시작하여 `scikit-learn`에 필요한 것들을 설치하기 위한 일반적인 도구를 실행할 것입니다. 마지막으로, 우리의 특정 알고리즘을 구현하는 코드를 컨테이너에 추가하고 실행하기 위한 올바른 환경을 설정합니다."
   ]
  },
  {
   "cell_type": "markdown",
   "id": "d958a8c2",
   "metadata": {},
   "source": [
    "`Dockerfile` 내부를 살펴보겠습니다:"
   ]
  },
  {
   "cell_type": "code",
   "execution_count": null,
   "id": "973a81d3",
   "metadata": {
    "scrolled": true,
    "tags": []
   },
   "outputs": [],
   "source": [
    "!pygmentize lab03_container/Dockerfile"
   ]
  },
  {
   "cell_type": "markdown",
   "id": "c96d08c7",
   "metadata": {},
   "source": [
    "### 컨테이너 빌드 및 등록하기"
   ]
  },
  {
   "cell_type": "code",
   "execution_count": null,
   "id": "e786019c",
   "metadata": {
    "scrolled": true,
    "tags": []
   },
   "outputs": [],
   "source": [
    "%%sh\n",
    "# Login to ECR\n",
    "aws --region ${AWS_DEFAULT_REGION} ecr get-login-password | docker login --username AWS --password-stdin ${AWS_ACCOUNT_ID}.dkr.ecr.${AWS_DEFAULT_REGION}.amazonaws.com/sagemaker-decision-trees\n",
    "\n",
    "# If the repository doesn't exist in ECR, create it.\n",
    "aws ecr describe-repositories --repository-names \"sagemaker-decision-trees\" > /dev/null 2>&1\n",
    "\n",
    "if [ $? -ne 0 ]\n",
    "then\n",
    "    aws ecr create-repository --repository-name \"sagemaker-decision-trees\" > /dev/null\n",
    "fi\n",
    "\n",
    "cd lab03_container\n",
    "\n",
    "chmod +x decision_trees/train\n",
    "chmod +x decision_trees/serve\n",
    "\n",
    "# Build the image - it might take a few minutes to complete this step\n",
    "docker build --network sagemaker . -t ${AWS_ACCOUNT_ID}.dkr.ecr.${AWS_DEFAULT_REGION}.amazonaws.com/sagemaker-decision-trees:latest\n",
    "# Push the image to ECR\n",
    "docker push ${AWS_ACCOUNT_ID}.dkr.ecr.${AWS_DEFAULT_REGION}.amazonaws.com/sagemaker-decision-trees:latest"
   ]
  },
  {
   "cell_type": "markdown",
   "id": "b4c7ae78",
   "metadata": {},
   "source": [
    "## 설정 및 데이터 업로드"
   ]
  },
  {
   "cell_type": "markdown",
   "id": "b40eb8b3",
   "metadata": {},
   "source": [
    "### 환경 설정\n",
    "여기서는 사용할 버킷과 SageMaker 작업에 사용될 역할을 지정합니다."
   ]
  },
  {
   "cell_type": "code",
   "execution_count": null,
   "id": "dc9bab78",
   "metadata": {},
   "outputs": [],
   "source": [
    "# cell 03\n",
    "\n",
    "S3_prefix = \"DEMO-scikit-byo-iris\"\n",
    "\n",
    "# Define IAM role\n",
    "import boto3\n",
    "import re\n",
    "\n",
    "import os\n",
    "import numpy as np\n",
    "import pandas as pd\n",
    "from sagemaker import get_execution_role\n",
    "\n",
    "role = get_execution_role()"
   ]
  },
  {
   "cell_type": "markdown",
   "id": "9d572b04",
   "metadata": {},
   "source": [
    "SageMaker에 대한 연결 매개변수를 세션이 기억합니다. 모든 SageMaker 작업을 수행하기 위해 이 세션을 사용하겠습니다."
   ]
  },
  {
   "cell_type": "code",
   "execution_count": null,
   "id": "3d63c0d4",
   "metadata": {},
   "outputs": [],
   "source": [
    "# cell 04\n",
    "\n",
    "import sagemaker as sage\n",
    "from time import gmtime, strftime\n",
    "\n",
    "sess = sage.Session()"
   ]
  },
  {
   "cell_type": "markdown",
   "id": "edec0783",
   "metadata": {},
   "source": [
    "### S3 버킷에 데이터 업로드하기"
   ]
  },
  {
   "cell_type": "markdown",
   "id": "8eeaaebf",
   "metadata": {},
   "source": [
    "대량의 데이터로 대규모 모델을 훈련할 때는 일반적으로 Amazon Athena, AWS Glue 또는 Amazon EMR과 같은 빅 데이터 도구를 사용하여 S3에 데이터를 생성합니다. 이 예제에서는 `lab03_data` 디렉토리에 있는 [고전적인 Iris 데이터셋](https://en.wikipedia.org/wiki/Iris_flower_data_set)을 사용하겠습니다.\n",
    "\n",
    "[SageMaker Python SDK](https://sagemaker.readthedocs.io/en/stable/)에서 제공하는 도구를 사용하여 데이터를 기본 버킷에 업로드할 수 있습니다."
   ]
  },
  {
   "cell_type": "code",
   "execution_count": null,
   "id": "021a2f84",
   "metadata": {},
   "outputs": [],
   "source": [
    "# cell 05\n",
    "\n",
    "WORK_DIRECTORY = \"lab03_data\"\n",
    "\n",
    "data_location = sess.upload_data(WORK_DIRECTORY, key_prefix=S3_prefix)"
   ]
  },
  {
   "cell_type": "markdown",
   "id": "f6ed7d1f",
   "metadata": {},
   "source": [
    "## 모델 훈련"
   ]
  },
  {
   "cell_type": "markdown",
   "id": "cb727535",
   "metadata": {},
   "source": [
    "SageMaker를 사용하여 알고리즘을 학습시키기 위해, 컨테이너를 학습에 어떻게 사용할지 정의하는 [`estimator`](https://sagemaker.readthedocs.io/en/stable/api/training/estimators.html)를 생성합니다. 여기에는 SageMaker 학습을 실행하는 데 필요한 다음과 같은 구성이 포함됩니다:\n",
    "\n",
    "- `image_uri (str)` - Docker 이미지가 등록된 [Amazon Elastic Container Registry](https://aws.amazon.com/ecr/) 경로입니다. 이는 *cell 06*의 셸 명령어에서 구성됩니다.\n",
    "- `role (str)` - *cell 03*에서 얻은 SageMaker IAM 역할입니다.\n",
    "- `instance_count (int)` - 학습에 사용할 머신의 수입니다.\n",
    "- `instance_type (str)` - 학습에 사용할 머신의 유형입니다.\n",
    "- `output_path (str)` - 모델 아티팩트가 저장될 위치입니다.\n",
    "- `sagemaker_session (sagemaker.session.Session)` - *cell 04*에서 정의한 SageMaker 세션 객체입니다."
   ]
  },
  {
   "cell_type": "markdown",
   "id": "932a8c02",
   "metadata": {},
   "source": [
    "그런 다음 `estimator.fit()` 메서드를 사용하여 업로드한 데이터로 학습을 진행합니다.\n",
    "이 API는 Amazon SageMaker `CreateTrainingJob` API를 호출하여 모델 학습을 시작합니다. API는 `estimator`를 생성하기 위해 제공한 구성과 지정된 학습 데이터를 사용하여 Amazon SageMaker에 `CreatingTrainingJob` 요청을 보냅니다."
   ]
  },
  {
   "cell_type": "code",
   "execution_count": null,
   "id": "1bd873ac",
   "metadata": {},
   "outputs": [],
   "source": [
    "# cell 06\n",
    "\n",
    "account = sess.boto_session.client(\"sts\").get_caller_identity()[\"Account\"]\n",
    "region = sess.boto_session.region_name\n",
    "image_uri = \"{}.dkr.ecr.{}.amazonaws.com/sagemaker-decision-trees:latest\".format(account, region)\n",
    "\n",
    "tree = sage.estimator.Estimator(\n",
    "    image_uri,\n",
    "    role,\n",
    "    instance_count=1,\n",
    "    instance_type=\"ml.c4.2xlarge\",\n",
    "    output_path=\"s3://{}/output\".format(sess.default_bucket()),\n",
    "    sagemaker_session=sess,\n",
    ")\n",
    "\n",
    "file_location = data_location + \"/iris.csv\"\n",
    "tree.fit(file_location)"
   ]
  },
  {
   "cell_type": "markdown",
   "id": "d4df7a3d",
   "metadata": {},
   "source": [
    "## 모델 배포\n",
    "HTTP 엔드포인트를 사용하여 학습된 모델로 실시간 예측을 얻을 수 있습니다. 다음 단계에 따라 프로세스를 진행해 보겠습니다.\n",
    "\n",
    "모델 학습이 성공적으로 완료된 후, [`estimator.deploy()` 메서드](https://sagemaker.readthedocs.io/en/stable/estimators.html#sagemaker.estimator.Estimator.deploy)를 호출할 수 있습니다. `deploy()` 메서드는 배포 가능한 모델을 생성하고, SageMaker 호스팅 서비스 엔드포인트를 구성하며, 모델을 호스팅하기 위한 엔드포인트를 시작합니다.\n",
    "\n",
    "이 메서드는 다음 구성을 사용합니다:\n",
    "- `initial_instance_count (int)` – 모델을 배포할 인스턴스 수입니다.\n",
    "- `instance_type (str)` – 배포된 모델을 운영할 인스턴스 유형입니다.\n",
    "- `serializer (int)` – 이 예제에서는 다양한 형식(NumPy 배열, 리스트, 파일 또는 버퍼)의 입력 데이터를 CSV 형식의 문자열로 직렬화합니다."
   ]
  },
  {
   "cell_type": "code",
   "execution_count": null,
   "id": "005d7c93",
   "metadata": {},
   "outputs": [],
   "source": [
    "# cell 07\n",
    "\n",
    "from sagemaker.serializers import CSVSerializer\n",
    "\n",
    "predictor = tree.deploy(\n",
    "    initial_instance_count=1, instance_type=\"ml.m4.xlarge\", serializer=CSVSerializer()\n",
    ")"
   ]
  },
  {
   "cell_type": "markdown",
   "id": "87cb18c6",
   "metadata": {},
   "source": [
    "## 추론 실행하기"
   ]
  },
  {
   "cell_type": "markdown",
   "id": "44699fe4",
   "metadata": {},
   "source": [
    "### 테스트 데이터 준비\n",
    "예측을 수행하기 위해, 학습에 사용했던 데이터 중 일부를 추출하여 이에 대한 예측을 수행할 것입니다. 물론 이는 통계적으로 좋은 방법은 아니지만, 메커니즘이 어떻게 작동하는지 쉽게 확인할 수 있는 방법입니다."
   ]
  },
  {
   "cell_type": "code",
   "execution_count": null,
   "id": "f44ec763",
   "metadata": {
    "tags": []
   },
   "outputs": [],
   "source": [
    "print(file_location)"
   ]
  },
  {
   "cell_type": "code",
   "execution_count": null,
   "id": "73e323a6",
   "metadata": {},
   "outputs": [],
   "source": [
    "# cell 08\n",
    "import awswrangler as wr\n",
    "\n",
    "shape = wr.s3.read_csv(file_location, header=None)\n",
    "\n",
    "# shape=pd.read_csv(file_location, header=None)\n",
    "shape.sample(3)"
   ]
  },
  {
   "cell_type": "code",
   "execution_count": null,
   "id": "680d9072",
   "metadata": {},
   "outputs": [],
   "source": [
    "# cell 09\n",
    "\n",
    "# drop the label column in the training set\n",
    "shape.drop(shape.columns[[0]], axis=1, inplace=True)\n",
    "shape.sample(3)"
   ]
  },
  {
   "cell_type": "code",
   "execution_count": null,
   "id": "72e74d94",
   "metadata": {},
   "outputs": [],
   "source": [
    "# cell 10\n",
    "\n",
    "import itertools\n",
    "\n",
    "a = [50 * i for i in range(3)]\n",
    "b = [40 + i for i in range(10)]\n",
    "indices = [i + j for i, j in itertools.product(a, b)]\n",
    "\n",
    "test_data = shape.iloc[indices[:-1]]"
   ]
  },
  {
   "cell_type": "markdown",
   "id": "9c85d5ea",
   "metadata": {},
   "source": [
    "### 예측\n",
    "\n",
    "예측은 `deploy`에서 반환받은 `predictor`와 예측하려는 데이터로 `predict`를 호출하는 것만큼 간단합니다. 직렬화 도구가 데이터 변환을 대신 처리해 줍니다."
   ]
  },
  {
   "cell_type": "code",
   "execution_count": null,
   "id": "296a0d36",
   "metadata": {},
   "outputs": [],
   "source": [
    "# cell 11\n",
    "\n",
    "print(predictor.predict(test_data.values).decode(\"utf-8\"))"
   ]
  },
  {
   "cell_type": "markdown",
   "id": "486c8a07",
   "metadata": {},
   "source": [
    "## 정리\n",
    "랩을 완료한 후, [AWS 콘솔을 통해 엔드포인트를 삭제](https://docs.aws.amazon.com/sagemaker/latest/dg/ex1-cleanup.html)하거나 다음 코드를 실행하세요."
   ]
  },
  {
   "cell_type": "code",
   "execution_count": null,
   "id": "5b72a46a",
   "metadata": {},
   "outputs": [],
   "source": [
    "# cell 12\n",
    "sess.delete_endpoint(predictor.endpoint_name)"
   ]
  },
  {
   "cell_type": "markdown",
   "id": "5fb75e68",
   "metadata": {},
   "source": [
    "다운로드한 컨테이너 아티팩트와 데이터를 제거합니다."
   ]
  },
  {
   "cell_type": "code",
   "execution_count": null,
   "id": "ff4ceac6",
   "metadata": {
    "tags": []
   },
   "outputs": [],
   "source": [
    "# cell 13\n",
    "!rm -rf lab03_container lab03_data"
   ]
  },
  {
   "cell_type": "code",
   "execution_count": null,
   "id": "1a960372",
   "metadata": {},
   "outputs": [],
   "source": []
  }
 ],
 "metadata": {
  "availableInstances": [
   {
    "_defaultOrder": 0,
    "_isFastLaunch": true,
    "category": "General purpose",
    "gpuNum": 0,
    "hideHardwareSpecs": false,
    "memoryGiB": 4,
    "name": "ml.t3.medium",
    "vcpuNum": 2
   },
   {
    "_defaultOrder": 1,
    "_isFastLaunch": false,
    "category": "General purpose",
    "gpuNum": 0,
    "hideHardwareSpecs": false,
    "memoryGiB": 8,
    "name": "ml.t3.large",
    "vcpuNum": 2
   },
   {
    "_defaultOrder": 2,
    "_isFastLaunch": false,
    "category": "General purpose",
    "gpuNum": 0,
    "hideHardwareSpecs": false,
    "memoryGiB": 16,
    "name": "ml.t3.xlarge",
    "vcpuNum": 4
   },
   {
    "_defaultOrder": 3,
    "_isFastLaunch": false,
    "category": "General purpose",
    "gpuNum": 0,
    "hideHardwareSpecs": false,
    "memoryGiB": 32,
    "name": "ml.t3.2xlarge",
    "vcpuNum": 8
   },
   {
    "_defaultOrder": 4,
    "_isFastLaunch": true,
    "category": "General purpose",
    "gpuNum": 0,
    "hideHardwareSpecs": false,
    "memoryGiB": 8,
    "name": "ml.m5.large",
    "vcpuNum": 2
   },
   {
    "_defaultOrder": 5,
    "_isFastLaunch": false,
    "category": "General purpose",
    "gpuNum": 0,
    "hideHardwareSpecs": false,
    "memoryGiB": 16,
    "name": "ml.m5.xlarge",
    "vcpuNum": 4
   },
   {
    "_defaultOrder": 6,
    "_isFastLaunch": false,
    "category": "General purpose",
    "gpuNum": 0,
    "hideHardwareSpecs": false,
    "memoryGiB": 32,
    "name": "ml.m5.2xlarge",
    "vcpuNum": 8
   },
   {
    "_defaultOrder": 7,
    "_isFastLaunch": false,
    "category": "General purpose",
    "gpuNum": 0,
    "hideHardwareSpecs": false,
    "memoryGiB": 64,
    "name": "ml.m5.4xlarge",
    "vcpuNum": 16
   },
   {
    "_defaultOrder": 8,
    "_isFastLaunch": false,
    "category": "General purpose",
    "gpuNum": 0,
    "hideHardwareSpecs": false,
    "memoryGiB": 128,
    "name": "ml.m5.8xlarge",
    "vcpuNum": 32
   },
   {
    "_defaultOrder": 9,
    "_isFastLaunch": false,
    "category": "General purpose",
    "gpuNum": 0,
    "hideHardwareSpecs": false,
    "memoryGiB": 192,
    "name": "ml.m5.12xlarge",
    "vcpuNum": 48
   },
   {
    "_defaultOrder": 10,
    "_isFastLaunch": false,
    "category": "General purpose",
    "gpuNum": 0,
    "hideHardwareSpecs": false,
    "memoryGiB": 256,
    "name": "ml.m5.16xlarge",
    "vcpuNum": 64
   },
   {
    "_defaultOrder": 11,
    "_isFastLaunch": false,
    "category": "General purpose",
    "gpuNum": 0,
    "hideHardwareSpecs": false,
    "memoryGiB": 384,
    "name": "ml.m5.24xlarge",
    "vcpuNum": 96
   },
   {
    "_defaultOrder": 12,
    "_isFastLaunch": false,
    "category": "General purpose",
    "gpuNum": 0,
    "hideHardwareSpecs": false,
    "memoryGiB": 8,
    "name": "ml.m5d.large",
    "vcpuNum": 2
   },
   {
    "_defaultOrder": 13,
    "_isFastLaunch": false,
    "category": "General purpose",
    "gpuNum": 0,
    "hideHardwareSpecs": false,
    "memoryGiB": 16,
    "name": "ml.m5d.xlarge",
    "vcpuNum": 4
   },
   {
    "_defaultOrder": 14,
    "_isFastLaunch": false,
    "category": "General purpose",
    "gpuNum": 0,
    "hideHardwareSpecs": false,
    "memoryGiB": 32,
    "name": "ml.m5d.2xlarge",
    "vcpuNum": 8
   },
   {
    "_defaultOrder": 15,
    "_isFastLaunch": false,
    "category": "General purpose",
    "gpuNum": 0,
    "hideHardwareSpecs": false,
    "memoryGiB": 64,
    "name": "ml.m5d.4xlarge",
    "vcpuNum": 16
   },
   {
    "_defaultOrder": 16,
    "_isFastLaunch": false,
    "category": "General purpose",
    "gpuNum": 0,
    "hideHardwareSpecs": false,
    "memoryGiB": 128,
    "name": "ml.m5d.8xlarge",
    "vcpuNum": 32
   },
   {
    "_defaultOrder": 17,
    "_isFastLaunch": false,
    "category": "General purpose",
    "gpuNum": 0,
    "hideHardwareSpecs": false,
    "memoryGiB": 192,
    "name": "ml.m5d.12xlarge",
    "vcpuNum": 48
   },
   {
    "_defaultOrder": 18,
    "_isFastLaunch": false,
    "category": "General purpose",
    "gpuNum": 0,
    "hideHardwareSpecs": false,
    "memoryGiB": 256,
    "name": "ml.m5d.16xlarge",
    "vcpuNum": 64
   },
   {
    "_defaultOrder": 19,
    "_isFastLaunch": false,
    "category": "General purpose",
    "gpuNum": 0,
    "hideHardwareSpecs": false,
    "memoryGiB": 384,
    "name": "ml.m5d.24xlarge",
    "vcpuNum": 96
   },
   {
    "_defaultOrder": 20,
    "_isFastLaunch": false,
    "category": "General purpose",
    "gpuNum": 0,
    "hideHardwareSpecs": true,
    "memoryGiB": 0,
    "name": "ml.geospatial.interactive",
    "supportedImageNames": [
     "sagemaker-geospatial-v1-0"
    ],
    "vcpuNum": 0
   },
   {
    "_defaultOrder": 21,
    "_isFastLaunch": true,
    "category": "Compute optimized",
    "gpuNum": 0,
    "hideHardwareSpecs": false,
    "memoryGiB": 4,
    "name": "ml.c5.large",
    "vcpuNum": 2
   },
   {
    "_defaultOrder": 22,
    "_isFastLaunch": false,
    "category": "Compute optimized",
    "gpuNum": 0,
    "hideHardwareSpecs": false,
    "memoryGiB": 8,
    "name": "ml.c5.xlarge",
    "vcpuNum": 4
   },
   {
    "_defaultOrder": 23,
    "_isFastLaunch": false,
    "category": "Compute optimized",
    "gpuNum": 0,
    "hideHardwareSpecs": false,
    "memoryGiB": 16,
    "name": "ml.c5.2xlarge",
    "vcpuNum": 8
   },
   {
    "_defaultOrder": 24,
    "_isFastLaunch": false,
    "category": "Compute optimized",
    "gpuNum": 0,
    "hideHardwareSpecs": false,
    "memoryGiB": 32,
    "name": "ml.c5.4xlarge",
    "vcpuNum": 16
   },
   {
    "_defaultOrder": 25,
    "_isFastLaunch": false,
    "category": "Compute optimized",
    "gpuNum": 0,
    "hideHardwareSpecs": false,
    "memoryGiB": 72,
    "name": "ml.c5.9xlarge",
    "vcpuNum": 36
   },
   {
    "_defaultOrder": 26,
    "_isFastLaunch": false,
    "category": "Compute optimized",
    "gpuNum": 0,
    "hideHardwareSpecs": false,
    "memoryGiB": 96,
    "name": "ml.c5.12xlarge",
    "vcpuNum": 48
   },
   {
    "_defaultOrder": 27,
    "_isFastLaunch": false,
    "category": "Compute optimized",
    "gpuNum": 0,
    "hideHardwareSpecs": false,
    "memoryGiB": 144,
    "name": "ml.c5.18xlarge",
    "vcpuNum": 72
   },
   {
    "_defaultOrder": 28,
    "_isFastLaunch": false,
    "category": "Compute optimized",
    "gpuNum": 0,
    "hideHardwareSpecs": false,
    "memoryGiB": 192,
    "name": "ml.c5.24xlarge",
    "vcpuNum": 96
   },
   {
    "_defaultOrder": 29,
    "_isFastLaunch": true,
    "category": "Accelerated computing",
    "gpuNum": 1,
    "hideHardwareSpecs": false,
    "memoryGiB": 16,
    "name": "ml.g4dn.xlarge",
    "vcpuNum": 4
   },
   {
    "_defaultOrder": 30,
    "_isFastLaunch": false,
    "category": "Accelerated computing",
    "gpuNum": 1,
    "hideHardwareSpecs": false,
    "memoryGiB": 32,
    "name": "ml.g4dn.2xlarge",
    "vcpuNum": 8
   },
   {
    "_defaultOrder": 31,
    "_isFastLaunch": false,
    "category": "Accelerated computing",
    "gpuNum": 1,
    "hideHardwareSpecs": false,
    "memoryGiB": 64,
    "name": "ml.g4dn.4xlarge",
    "vcpuNum": 16
   },
   {
    "_defaultOrder": 32,
    "_isFastLaunch": false,
    "category": "Accelerated computing",
    "gpuNum": 1,
    "hideHardwareSpecs": false,
    "memoryGiB": 128,
    "name": "ml.g4dn.8xlarge",
    "vcpuNum": 32
   },
   {
    "_defaultOrder": 33,
    "_isFastLaunch": false,
    "category": "Accelerated computing",
    "gpuNum": 4,
    "hideHardwareSpecs": false,
    "memoryGiB": 192,
    "name": "ml.g4dn.12xlarge",
    "vcpuNum": 48
   },
   {
    "_defaultOrder": 34,
    "_isFastLaunch": false,
    "category": "Accelerated computing",
    "gpuNum": 1,
    "hideHardwareSpecs": false,
    "memoryGiB": 256,
    "name": "ml.g4dn.16xlarge",
    "vcpuNum": 64
   },
   {
    "_defaultOrder": 35,
    "_isFastLaunch": false,
    "category": "Accelerated computing",
    "gpuNum": 1,
    "hideHardwareSpecs": false,
    "memoryGiB": 61,
    "name": "ml.p3.2xlarge",
    "vcpuNum": 8
   },
   {
    "_defaultOrder": 36,
    "_isFastLaunch": false,
    "category": "Accelerated computing",
    "gpuNum": 4,
    "hideHardwareSpecs": false,
    "memoryGiB": 244,
    "name": "ml.p3.8xlarge",
    "vcpuNum": 32
   },
   {
    "_defaultOrder": 37,
    "_isFastLaunch": false,
    "category": "Accelerated computing",
    "gpuNum": 8,
    "hideHardwareSpecs": false,
    "memoryGiB": 488,
    "name": "ml.p3.16xlarge",
    "vcpuNum": 64
   },
   {
    "_defaultOrder": 38,
    "_isFastLaunch": false,
    "category": "Accelerated computing",
    "gpuNum": 8,
    "hideHardwareSpecs": false,
    "memoryGiB": 768,
    "name": "ml.p3dn.24xlarge",
    "vcpuNum": 96
   },
   {
    "_defaultOrder": 39,
    "_isFastLaunch": false,
    "category": "Memory Optimized",
    "gpuNum": 0,
    "hideHardwareSpecs": false,
    "memoryGiB": 16,
    "name": "ml.r5.large",
    "vcpuNum": 2
   },
   {
    "_defaultOrder": 40,
    "_isFastLaunch": false,
    "category": "Memory Optimized",
    "gpuNum": 0,
    "hideHardwareSpecs": false,
    "memoryGiB": 32,
    "name": "ml.r5.xlarge",
    "vcpuNum": 4
   },
   {
    "_defaultOrder": 41,
    "_isFastLaunch": false,
    "category": "Memory Optimized",
    "gpuNum": 0,
    "hideHardwareSpecs": false,
    "memoryGiB": 64,
    "name": "ml.r5.2xlarge",
    "vcpuNum": 8
   },
   {
    "_defaultOrder": 42,
    "_isFastLaunch": false,
    "category": "Memory Optimized",
    "gpuNum": 0,
    "hideHardwareSpecs": false,
    "memoryGiB": 128,
    "name": "ml.r5.4xlarge",
    "vcpuNum": 16
   },
   {
    "_defaultOrder": 43,
    "_isFastLaunch": false,
    "category": "Memory Optimized",
    "gpuNum": 0,
    "hideHardwareSpecs": false,
    "memoryGiB": 256,
    "name": "ml.r5.8xlarge",
    "vcpuNum": 32
   },
   {
    "_defaultOrder": 44,
    "_isFastLaunch": false,
    "category": "Memory Optimized",
    "gpuNum": 0,
    "hideHardwareSpecs": false,
    "memoryGiB": 384,
    "name": "ml.r5.12xlarge",
    "vcpuNum": 48
   },
   {
    "_defaultOrder": 45,
    "_isFastLaunch": false,
    "category": "Memory Optimized",
    "gpuNum": 0,
    "hideHardwareSpecs": false,
    "memoryGiB": 512,
    "name": "ml.r5.16xlarge",
    "vcpuNum": 64
   },
   {
    "_defaultOrder": 46,
    "_isFastLaunch": false,
    "category": "Memory Optimized",
    "gpuNum": 0,
    "hideHardwareSpecs": false,
    "memoryGiB": 768,
    "name": "ml.r5.24xlarge",
    "vcpuNum": 96
   },
   {
    "_defaultOrder": 47,
    "_isFastLaunch": false,
    "category": "Accelerated computing",
    "gpuNum": 1,
    "hideHardwareSpecs": false,
    "memoryGiB": 16,
    "name": "ml.g5.xlarge",
    "vcpuNum": 4
   },
   {
    "_defaultOrder": 48,
    "_isFastLaunch": false,
    "category": "Accelerated computing",
    "gpuNum": 1,
    "hideHardwareSpecs": false,
    "memoryGiB": 32,
    "name": "ml.g5.2xlarge",
    "vcpuNum": 8
   },
   {
    "_defaultOrder": 49,
    "_isFastLaunch": false,
    "category": "Accelerated computing",
    "gpuNum": 1,
    "hideHardwareSpecs": false,
    "memoryGiB": 64,
    "name": "ml.g5.4xlarge",
    "vcpuNum": 16
   },
   {
    "_defaultOrder": 50,
    "_isFastLaunch": false,
    "category": "Accelerated computing",
    "gpuNum": 1,
    "hideHardwareSpecs": false,
    "memoryGiB": 128,
    "name": "ml.g5.8xlarge",
    "vcpuNum": 32
   },
   {
    "_defaultOrder": 51,
    "_isFastLaunch": false,
    "category": "Accelerated computing",
    "gpuNum": 1,
    "hideHardwareSpecs": false,
    "memoryGiB": 256,
    "name": "ml.g5.16xlarge",
    "vcpuNum": 64
   },
   {
    "_defaultOrder": 52,
    "_isFastLaunch": false,
    "category": "Accelerated computing",
    "gpuNum": 4,
    "hideHardwareSpecs": false,
    "memoryGiB": 192,
    "name": "ml.g5.12xlarge",
    "vcpuNum": 48
   },
   {
    "_defaultOrder": 53,
    "_isFastLaunch": false,
    "category": "Accelerated computing",
    "gpuNum": 4,
    "hideHardwareSpecs": false,
    "memoryGiB": 384,
    "name": "ml.g5.24xlarge",
    "vcpuNum": 96
   },
   {
    "_defaultOrder": 54,
    "_isFastLaunch": false,
    "category": "Accelerated computing",
    "gpuNum": 8,
    "hideHardwareSpecs": false,
    "memoryGiB": 768,
    "name": "ml.g5.48xlarge",
    "vcpuNum": 192
   },
   {
    "_defaultOrder": 55,
    "_isFastLaunch": false,
    "category": "Accelerated computing",
    "gpuNum": 8,
    "hideHardwareSpecs": false,
    "memoryGiB": 1152,
    "name": "ml.p4d.24xlarge",
    "vcpuNum": 96
   },
   {
    "_defaultOrder": 56,
    "_isFastLaunch": false,
    "category": "Accelerated computing",
    "gpuNum": 8,
    "hideHardwareSpecs": false,
    "memoryGiB": 1152,
    "name": "ml.p4de.24xlarge",
    "vcpuNum": 96
   },
   {
    "_defaultOrder": 57,
    "_isFastLaunch": false,
    "category": "Accelerated computing",
    "gpuNum": 0,
    "hideHardwareSpecs": false,
    "memoryGiB": 32,
    "name": "ml.trn1.2xlarge",
    "vcpuNum": 8
   },
   {
    "_defaultOrder": 58,
    "_isFastLaunch": false,
    "category": "Accelerated computing",
    "gpuNum": 0,
    "hideHardwareSpecs": false,
    "memoryGiB": 512,
    "name": "ml.trn1.32xlarge",
    "vcpuNum": 128
   },
   {
    "_defaultOrder": 59,
    "_isFastLaunch": false,
    "category": "Accelerated computing",
    "gpuNum": 0,
    "hideHardwareSpecs": false,
    "memoryGiB": 512,
    "name": "ml.trn1n.32xlarge",
    "vcpuNum": 128
   }
  ],
  "instance_type": "ml.t3.medium",
  "kernelspec": {
   "display_name": "Python 3 (ipykernel)",
   "language": "python",
   "name": "python3"
  },
  "language_info": {
   "codemirror_mode": {
    "name": "ipython",
    "version": 3
   },
   "file_extension": ".py",
   "mimetype": "text/x-python",
   "name": "python",
   "nbconvert_exporter": "python",
   "pygments_lexer": "ipython3",
   "version": "3.12.9"
  }
 },
 "nbformat": 4,
 "nbformat_minor": 5
}
