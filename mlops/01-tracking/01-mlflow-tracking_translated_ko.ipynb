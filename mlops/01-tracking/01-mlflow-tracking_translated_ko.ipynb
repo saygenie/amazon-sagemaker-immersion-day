{
 "cells": [
  {
   "cell_type": "markdown",
   "id": "bdbf7555",
   "metadata": {},
   "source": [
    "# SageMaker Training with MLflow\n",
    "\n",
    "<div class=\"alert alert-block alert-info\">\n",
    "⚠️ 이 노트북과 함께 작동하는 것으로 알려진 최신 SageMaker Distribution 이미지 버전은 <code>3.1.0</code>입니다. 다른 버전에서 문제가 발생하면 버전 <code>3.1.0</code>으로 다운그레이드하세요. <b>이를 위해서는 JupyterApp을 중지하고, SageMaker Distribution 이미지를 <code>3.1.0</code>으로 다운그레이드한 다음 변경 사항을 적용하기 위해 JupyterLabApp을 재시작해야 합니다</b>.</div>\n",
    "\n",
    "<div class=\"alert alert-warning\"> 이 노트북은 SageMaker Managed MLflow가 실행 중인 인스턴스를 필요로 합니다.</div>\n",
    "\n",
    "이 실습에서는 실험 추적을 위해 SageMaker Managed MLflow를 사용하는 방법을 보여드립니다.\n",
    "몇 가지 시나리오를 보여드리며, 데이터 사이언티스트가 SageMaker Managed 인프라를 사용하여 원격 작업을 실행하기 전에 알고리즘을 테스트하기 위해 로컬 훈련 함수나 훈련 스크립트를 먼저 개발하는 워크플로우를 모방할 것입니다.\n",
    "\n",
    "## 환경 설정\n",
    "\n",
    "필요한 라이브러리를 설치합니다. `mlflow` 버전 `2.22.1`을 사용합니다.\n",
    "MLflow에 데이터를 기록하기 위해 [`sagemaker-mlflow`](https://github.com/aws/sagemaker-mlflow) 플러그인을 설치해야 합니다.\n",
    "이 플러그인은 Amazon SageMaker로 전송되는 모든 요청에 Signature V4 헤더를 생성하여 MLflow 기능을 사용하고, 추적 서버에 연결할 기능의 URL을 결정하며, SageMaker Model Registry에 모델을 등록합니다.\n",
    "이 플러그인은 AWS IAM을 사용하여 인증 및 권한 부여를 수행하는 서비스가 사용할 SigV4 알고리즘으로 토큰을 생성합니다.\n",
    "\n",
    "이 플러그인을 사용하면 `mlflow` 클라이언트 SDK를 추가 수정 없이 투명하게 사용하여 메타데이터와 아티팩트를 SageMaker Managed MLflow에 안전하게 기록할 수 있습니다."
   ]
  },
  {
   "cell_type": "code",
   "execution_count": null,
   "id": "3d80ebf6",
   "metadata": {},
   "outputs": [],
   "source": [
    "!pip install -q sagemaker[local] mlflow==2.22.1 sagemaker-mlflow"
   ]
  },
  {
   "cell_type": "markdown",
   "id": "5e7f89ec",
   "metadata": {},
   "source": [
    "필요한 라이브러리를 가져오고 클라이언트 SDK를 초기화합니다"
   ]
  },
  {
   "cell_type": "code",
   "execution_count": null,
   "id": "6e5c6660",
   "metadata": {},
   "outputs": [],
   "source": [
    "import sagemaker\n",
    "from sagemaker import get_execution_role\n",
    "from sagemaker.sklearn.estimator import SKLearn\n",
    "\n",
    "import boto3\n",
    "import numpy as np\n",
    "import pandas as pd\n",
    "import os\n",
    "import json\n",
    "\n",
    "from IPython.display import Javascript, HTML\n",
    "\n",
    "# Define session, role, and region so we can\n",
    "# perform any SageMaker tasks we need\n",
    "boto_session = boto3.Session()\n",
    "sagemaker_session = sagemaker.Session()\n",
    "role = get_execution_role()\n",
    "region = sagemaker_session.boto_region_name\n",
    "sm_client = boto_session.client(\"sagemaker\")\n",
    "\n",
    "sagemaker.__version__"
   ]
  },
  {
   "cell_type": "markdown",
   "id": "777c9dde",
   "metadata": {},
   "source": [
    "이제 우리가 작업 중인 SageMaker Domain과 Space에 대한 정보를 추출합니다.\n",
    "이 정보는 나중에 어떤 `user-profile`이 특정 MLflow 실행을 기록했는지에 대한 더 정확한 정보를 기록하는 데 유용할 것입니다."
   ]
  },
  {
   "cell_type": "code",
   "execution_count": null,
   "id": "d52b1243",
   "metadata": {},
   "outputs": [],
   "source": [
    "NOTEBOOK_METADATA_FILE = \"/opt/ml/metadata/resource-metadata.json\"\n",
    "domain_id = None\n",
    "\n",
    "if os.path.exists(NOTEBOOK_METADATA_FILE):\n",
    "    with open(NOTEBOOK_METADATA_FILE, \"rb\") as f:\n",
    "        metadata = json.loads(f.read())\n",
    "        domain_id = metadata.get('DomainId')\n",
    "        space_name = metadata.get('SpaceName')\n",
    "\n",
    "if not space_name:\n",
    "    raise Exception(f\"Cannot find the current domain. Make sure you run this notebook in a JupyterLab in the SageMaker AI Studio\")\n",
    "else:\n",
    "    print(f\"SageMaker domain id: {domain_id}\")\n",
    "\n",
    "if not space_name:\n",
    "    raise Exception(f\"Cannot find the current space name. Make sure you run this notebook in a JupyterLab in the SageMaker Studio\")\n",
    "else:\n",
    "    print(f\"Space name: {space_name}\")\n",
    "    \n",
    "r = sm_client.describe_space(DomainId=domain_id, SpaceName=space_name)\n",
    "user_profile_name = r['OwnershipSettings']['OwnerUserProfileName']\n",
    "\n",
    "print(f\"User profile name: {user_profile_name}\")"
   ]
  },
  {
   "cell_type": "markdown",
   "id": "79d46b40",
   "metadata": {},
   "source": [
    "로컬 개발을 위해 우리가 사용 중인 SageMaker Distribution 이미지에 대한 참조를 갖는 것이 유용합니다.\n",
    "아래와 같이 이 정보를 찾을 수 있습니다"
   ]
  },
  {
   "cell_type": "code",
   "execution_count": null,
   "id": "a329443a",
   "metadata": {},
   "outputs": [],
   "source": [
    "r = sm_client.describe_space(DomainId=domain_id, SpaceName=space_name)\n",
    "resource_spec = r['SpaceSettings']['JupyterLabAppSettings']['DefaultResourceSpec']\n",
    "sm_image = resource_spec.get('SageMakerImageArn', 'not defined')\n",
    "sm_image_version = resource_spec.get('SageMakerImageVersionAlias', 'not defined')\n",
    "print(f\"\"\"\n",
    "SageMaker image: \\033[1m{sm_image}\\033[0m\n",
    "SageMaker image version: \\033[1m{sm_image_version}\\033[0m\n",
    "\"\"\")\n"
   ]
  },
  {
   "cell_type": "markdown",
   "id": "b4a2b979",
   "metadata": {},
   "source": [
    "우리가 작업 중인 공간에 대한 전체 세부 정보는 다음과 같이 확인할 수 있습니다"
   ]
  },
  {
   "cell_type": "code",
   "execution_count": null,
   "id": "9f03cd4d",
   "metadata": {},
   "outputs": [],
   "source": [
    "import pprint\n",
    "\n",
    "pp = pprint.PrettyPrinter(indent=2)\n",
    "pp.pprint(r)"
   ]
  },
  {
   "cell_type": "markdown",
   "id": "9d539b4e",
   "metadata": {},
   "source": [
    "## MLflow 추적 서버\n",
    "\n",
    "AWS 주도 이벤트에서 실행 중인 경우, MLflow 추적 서버가 이미 제공되었습니다.\n",
    "또는 MLflow 추적 서버를 포함한 필요한 인프라를 생성하기 위해 CloudFormation 템플릿을 실행했는지 확인하세요."
   ]
  },
  {
   "cell_type": "code",
   "execution_count": null,
   "id": "a74fa6c6",
   "metadata": {},
   "outputs": [],
   "source": [
    "# Find an active MLflow server in the account\n",
    "tracking_servers = [s['TrackingServerArn'] for s \n",
    "                    in sm_client.list_mlflow_tracking_servers()['TrackingServerSummaries']\n",
    "                    if s['IsActive'] == 'Active']\n",
    "\n",
    "if len(tracking_servers) < 1:\n",
    "    print(\"You don't have any active MLflow servers. Trying to find a server in the status 'Creating'...\")\n",
    "\n",
    "    r = sm_client.list_mlflow_tracking_servers(\n",
    "        TrackingServerStatus='Creating',\n",
    "    )['TrackingServerSummaries']\n",
    "\n",
    "    if len(r) < 1:\n",
    "        print(\"You don't have any MLflow server in the status 'Creating'. Run the next code cell to create a new one.\")\n",
    "        mlflow_server_arn = None\n",
    "        mlflow_name = None\n",
    "    else:\n",
    "        mlflow_server_arn = r[0]['TrackingServerArn']\n",
    "        mlflow_name = r[0]['TrackingServerName']\n",
    "        print(f\"You have an MLflow server {mlflow_server_arn} in the status 'Creating', going to use this one\")\n",
    "else:\n",
    "    mlflow_server_arn = tracking_servers[0]\n",
    "    mlflow_name = tracking_servers[0].split('/')[1]\n",
    "    print(f\"You have {len(tracking_servers)} running MLflow server(s). Get the first server ARN:{mlflow_server_arn}\")\n",
    "\n",
    "mlflow_experiment_name = \"sm-immersion-day-experiment\""
   ]
  },
  {
   "cell_type": "markdown",
   "id": "55ce0fd7",
   "metadata": {},
   "source": [
    "## 데이터 준비\n",
    "\n",
    "Iris 데이터셋을 다운로드하여 `./data` 폴더에 저장해 보겠습니다"
   ]
  },
  {
   "cell_type": "code",
   "execution_count": null,
   "id": "dc9b94dc",
   "metadata": {},
   "outputs": [],
   "source": [
    "os.makedirs(\"./data\", exist_ok=True)\n",
    "\n",
    "s3_client = boto3.client(\"s3\")\n",
    "s3_client.download_file(\n",
    "    f\"sagemaker-example-files-prod-{region}\", \"datasets/tabular/iris/iris.data\", \"./data/iris.csv\"\n",
    ")\n",
    "\n",
    "df_iris = pd.read_csv(\"./data/iris.csv\", header=None)\n",
    "df_iris[4] = df_iris[4].map({\"Iris-setosa\": 0, \"Iris-versicolor\": 1, \"Iris-virginica\": 2})\n",
    "iris = df_iris[[4, 0, 1, 2, 3]].to_numpy()\n",
    "np.savetxt(\"./data/iris.csv\", iris, delimiter=\",\", fmt=\"%1.1f, %1.3f, %1.3f, %1.3f, %1.3f\")\n"
   ]
  },
  {
   "cell_type": "code",
   "execution_count": null,
   "id": "024346bb",
   "metadata": {},
   "outputs": [],
   "source": [
    "# S3 prefix for the training dataset to be uploaded to\n",
    "prefix = \"DEMO-scikit-iris\"\n",
    "\n",
    "WORK_DIRECTORY = \"data\"\n",
    "\n",
    "train_input = sagemaker_session.upload_data(\n",
    "    WORK_DIRECTORY, key_prefix=\"{}/{}\".format(prefix, WORK_DIRECTORY)\n",
    ")"
   ]
  },
  {
   "cell_type": "markdown",
   "id": "712bd3b6",
   "metadata": {},
   "source": [
    "훈련 코드를 위한 폴더 준비"
   ]
  },
  {
   "cell_type": "code",
   "execution_count": null,
   "id": "c5dd5e95",
   "metadata": {},
   "outputs": [],
   "source": [
    "!mkdir -p training_code"
   ]
  },
  {
   "cell_type": "markdown",
   "id": "c507aee5",
   "metadata": {},
   "source": [
    "훈련 데이터를 Pandas DataFrame에 저장"
   ]
  },
  {
   "cell_type": "code",
   "execution_count": null,
   "id": "8255ba58",
   "metadata": {},
   "outputs": [],
   "source": [
    "train_data = pd.read_csv('./data/iris.csv', header=None, engine=\"python\")"
   ]
  },
  {
   "cell_type": "markdown",
   "id": "04244c16",
   "metadata": {},
   "source": [
    "## 원격 함수 실행\n",
    "\n",
    "먼저 훈련 함수를 로컬에서 실행합니다. 함수 정의 상단에 주석 처리된 `@remote` 데코레이터를 확인하세요. 아래와 같이 정의된 경우, 이것은 로컬 런타임 환경에서 실행할 수 있는 일반 파이썬 함수일 뿐입니다.\n",
    "`MLFLOW_TRACKING_URI` 환경 변수를 `mlflow_server_arn`으로 설정하여 클라이언트가 원격 MLflow 추적 서버에 로그를 기록하도록 합니다.\n",
    "반면에 `LOGNAME` 환경 변수를 설정하면 실행을 기록하는 사용자를 더 쉽게 식별할 수 있습니다."
   ]
  },
  {
   "cell_type": "code",
   "execution_count": null,
   "id": "5111f615",
   "metadata": {},
   "outputs": [],
   "source": [
    "os.environ['MLFLOW_TRACKING_URI'] = mlflow_server_arn\n",
    "os.environ[\"LOGNAME\"] = user_profile_name\n",
    "os.environ[\"MLFLOW_EXPERIMENT_NAME\"] = mlflow_experiment_name\n",
    "\n",
    "# define a local function\n",
    "# @remote\n",
    "def train(train_data, max_leaf_nodes, run_name='Training-local-function-execution'):\n",
    "    import mlflow\n",
    "    from mlflow.models import infer_signature\n",
    "    from sklearn import tree\n",
    "    import pandas as pd\n",
    "\n",
    "    # Enable autologging in MLflow for SKlearn\n",
    "    mlflow.sklearn.autolog()\n",
    "\n",
    "    with mlflow.start_run(run_name=run_name) as run:\n",
    "        # labels are in the first column\n",
    "        train_y = train_data.iloc[:, 0]\n",
    "        train_X = train_data.iloc[:, 1:]\n",
    "\n",
    "        # Here we support a single hyperparameter, 'max_leaf_nodes'. Note that you can add as many\n",
    "        # as your training my require in the ArgumentParser above.\n",
    "\n",
    "        # Now use scikit-learn's decision tree classifier to train the model.\n",
    "        clf = tree.DecisionTreeClassifier(max_leaf_nodes=max_leaf_nodes)\n",
    "        clf = clf.fit(train_X, train_y)\n",
    "\n",
    "        predictions = clf.predict(train_X)\n",
    "        signature = infer_signature(train_X, predictions)\n",
    "\n",
    "        mlflow.set_tags(\n",
    "            {\n",
    "                'mlflow.source.name': \"def train(...)\",\n",
    "                'mlflow.source.type': 'LOCAL',\n",
    "            }\n",
    "        )\n",
    "\n",
    "        mlflow.sklearn.log_model(clf, \"model\", signature=signature)"
   ]
  },
  {
   "cell_type": "code",
   "execution_count": null,
   "id": "a17fd4b7",
   "metadata": {},
   "outputs": [],
   "source": [
    "train(train_data, 5)"
   ]
  },
  {
   "cell_type": "markdown",
   "id": "8cffff3f",
   "metadata": {},
   "source": [
    "이제 SageMaker AI Managed MLflow에 기록된 실행 세부 정보를 확인해 보겠습니다."
   ]
  },
  {
   "cell_type": "code",
   "execution_count": null,
   "id": "72dc05ec",
   "metadata": {},
   "outputs": [],
   "source": [
    "import mlflow\n",
    "\n",
    "experiment_id = mlflow.get_experiment_by_name(mlflow_experiment_name).experiment_id\n",
    "# get the last run in MLflow\n",
    "last_run_id = mlflow.search_runs(\n",
    "    experiment_ids=[experiment_id], \n",
    "    max_results=1, \n",
    "    order_by=[\"attributes.start_time DESC\"]\n",
    ")['run_id'][0]\n",
    "\n",
    "# get the presigned url to open the MLflow UI\n",
    "presigned_url = sm_client.create_presigned_mlflow_tracking_server_url(\n",
    "    TrackingServerName=mlflow_name,\n",
    "    ExpiresInSeconds=60,\n",
    "    SessionExpirationDurationInSeconds=1800\n",
    ")['AuthorizedUrl']\n",
    "\n",
    "mlflow_run_link = f\"{presigned_url.split('/auth')[0]}/#/experiments/{experiment_id}/runs/{last_run_id}\""
   ]
  },
  {
   "cell_type": "markdown",
   "id": "36f60025",
   "metadata": {},
   "source": [
    "먼저 사전 서명된 URL을 열어야 합니다"
   ]
  },
  {
   "cell_type": "code",
   "execution_count": null,
   "id": "c1d60e45",
   "metadata": {},
   "outputs": [],
   "source": [
    "# first open the MLflow UI - you can close a new opened window\n",
    "display(Javascript('window.open(\"{}\");'.format(presigned_url)))"
   ]
  },
  {
   "cell_type": "markdown",
   "id": "af8df4f0",
   "metadata": {},
   "source": [
    "그런 다음 마지막으로 기록된 실행의 세부 정보를 열 수 있습니다"
   ]
  },
  {
   "cell_type": "code",
   "execution_count": null,
   "id": "717f1fed",
   "metadata": {},
   "outputs": [],
   "source": [
    "display(Javascript('window.open(\"{}\");'.format(mlflow_run_link)))"
   ]
  },
  {
   "cell_type": "markdown",
   "id": "ca67ab29",
   "metadata": {},
   "source": [
    "이제 이 함수를 관리형 인프라에서 SageMaker Training 작업으로 실행할 준비를 해보겠습니다.\n",
    "먼저 `requirements.txt` 파일에 의존성을 정의합니다."
   ]
  },
  {
   "cell_type": "code",
   "execution_count": null,
   "id": "caa9afc8",
   "metadata": {},
   "outputs": [],
   "source": [
    "%%writefile training_code/requirements.txt\n",
    "mlflow==2.22.1\n",
    "sagemaker-mlflow==0.1.0"
   ]
  },
  {
   "cell_type": "markdown",
   "id": "eac3fc78",
   "metadata": {},
   "source": [
    "그런 다음 훈련 작업에 원하는 구성을 담은 `config.yml` 파일을 준비합니다.\n",
    "`@remote` 데코레이터에 대해 구성할 수 있는 옵션에 대한 자세한 내용은 [공식 문서](https://docs.aws.amazon.com/sagemaker/latest/dg/train-remote-decorator-config.html)에서 확인할 수 있습니다.\n",
    "이 경우, 추적 서버 URI를 항상 설정하지 않아도 되도록 `MLFLOW_TRACKING_URI` 환경 변수를 전달하고, 누가 무엇을 생성했는지 추적하기 위해 `LOGNAME`으로 `user_profile_name`을 전달하는 방법에 주목하세요."
   ]
  },
  {
   "cell_type": "code",
   "execution_count": null,
   "id": "baa8a29f",
   "metadata": {},
   "outputs": [],
   "source": [
    "config_yaml = f\"\"\"\n",
    "SchemaVersion: '1.0'\n",
    "SageMaker:\n",
    "  PythonSDK:\n",
    "    Modules:\n",
    "      TelemetryOptOut: true\n",
    "      RemoteFunction:\n",
    "        # role arn is not required if in SageMaker Notebook instance or SageMaker Studio\n",
    "        # Uncomment the following line and replace with the right execution role if in a local IDE\n",
    "        # RoleArn: <replace the role arn here>\n",
    "        InstanceType: ml.m5.xlarge\n",
    "        EnvironmentVariables: {{'MLFLOW_TRACKING_URI': {mlflow_server_arn}, 'LOGNAME': {user_profile_name}, 'MLFLOW_EXPERIMENT_NAME': {mlflow_experiment_name}}}\n",
    "        Dependencies: ./training_code/requirements.txt\n",
    "        IncludeLocalWorkDir: false\n",
    "        CustomFileFilter:\n",
    "          IgnoreNamePatterns:\n",
    "          - \"data/*\"\n",
    "          - \"models/*\"\n",
    "          - \"*.ipynb\"\n",
    "          - \"__pycache__\"\n",
    "\n",
    "\"\"\"\n",
    "\n",
    "print(config_yaml, file=open('config.yaml', 'w'))\n",
    "print(config_yaml)"
   ]
  },
  {
   "cell_type": "code",
   "execution_count": null,
   "id": "9c3d4d63",
   "metadata": {},
   "outputs": [],
   "source": [
    "import os\n",
    "\n",
    "# Use the current working directory as the location for SageMaker Python SDK config file\n",
    "os.environ[\"SAGEMAKER_USER_CONFIG_OVERRIDE\"] = os.getcwd()"
   ]
  },
  {
   "cell_type": "code",
   "execution_count": null,
   "id": "c0bdcc34",
   "metadata": {},
   "outputs": [],
   "source": [
    "from sagemaker.remote_function import remote\n",
    "\n",
    "# define a local function\n",
    "@remote\n",
    "def train(train_data, max_leaf_nodes, run_name='Training-remote-function-execution'):\n",
    "    import mlflow\n",
    "    from mlflow.models import infer_signature\n",
    "    from sklearn import tree\n",
    "    import pandas as pd\n",
    "\n",
    "    # Enable autologging in MLflow for SKlearn\n",
    "    mlflow.sklearn.autolog()\n",
    "\n",
    "    with mlflow.start_run(run_name=run_name) as run:\n",
    "        # labels are in the first column\n",
    "        train_y = train_data.iloc[:, 0]\n",
    "        train_X = train_data.iloc[:, 1:]\n",
    "\n",
    "        # Now use scikit-learn's decision tree classifier to train the model.\n",
    "        clf = tree.DecisionTreeClassifier(max_leaf_nodes=max_leaf_nodes)\n",
    "        clf = clf.fit(train_X, train_y)\n",
    "\n",
    "        predictions = clf.predict(train_X)\n",
    "        signature = infer_signature(train_X, predictions)\n",
    "\n",
    "        mlflow.set_tags(\n",
    "            {\n",
    "                'mlflow.source.name': \"@remote\\ndef train(...)\",\n",
    "                'mlflow.source.type': 'JOB',\n",
    "            }\n",
    "        )\n",
    "\n",
    "        mlflow.sklearn.log_model(clf, \"model\", signature=signature)"
   ]
  },
  {
   "cell_type": "code",
   "execution_count": null,
   "id": "f7cef754",
   "metadata": {},
   "outputs": [],
   "source": [
    "train_data = pd.read_csv('./data/iris.csv', header=None, engine=\"python\")"
   ]
  },
  {
   "cell_type": "markdown",
   "id": "3262eb9d",
   "metadata": {},
   "source": [
    "이제 `train` 함수의 실행은 클라우드에서 이루어지며 SageMaker SDK가 데이터/변수의 직렬화/역직렬화 및 마샬링/언마샬링을 처리합니다.\n",
    "모든 관련 파일은 패키징되어 SageMaker가 예상하는 방식으로 훈련 작업에서 사용할 수 있게 됩니다."
   ]
  },
  {
   "cell_type": "code",
   "execution_count": null,
   "id": "d919c8cb",
   "metadata": {},
   "outputs": [],
   "source": [
    "train(train_data, 2)"
   ]
  },
  {
   "cell_type": "code",
   "execution_count": null,
   "id": "1e40efcb",
   "metadata": {},
   "outputs": [],
   "source": [
    "# get the last run in MLflow\n",
    "last_run_id = mlflow.search_runs(\n",
    "    experiment_ids=[experiment_id], \n",
    "    max_results=1, \n",
    "    order_by=[\"attributes.start_time DESC\"]\n",
    ")['run_id'][0]\n",
    "\n",
    "mlflow_run_link = f\"{presigned_url.split('/auth')[0]}/#/experiments/{experiment_id}/runs/{last_run_id}\""
   ]
  },
  {
   "cell_type": "code",
   "execution_count": null,
   "id": "79bb8022",
   "metadata": {},
   "outputs": [],
   "source": [
    "display(Javascript('window.open(\"{}\");'.format(mlflow_run_link)))"
   ]
  },
  {
   "cell_type": "markdown",
   "id": "62dadd45",
   "metadata": {},
   "source": [
    "## 로컬 모드에서 SageMaker 훈련 작업 실행하기\n",
    "\n",
    "우리는 또한 자체 관리형 컨테이너를 사용하고 스크립트만 전달하는 스크립트 모드에서 SageMaker를 사용할 수 있습니다.\n",
    "먼저 모든 의존성이 이미 설치되어 있는지 확인합시다. 먼저 SageMaker AI Studio Domain에서 Docker가 활성화되어 있는지 확인합니다"
   ]
  },
  {
   "cell_type": "code",
   "execution_count": null,
   "id": "b91d0af4",
   "metadata": {},
   "outputs": [],
   "source": [
    "# check that docker enabled in the SageMaker domain\n",
    "docker_settings = sm_client.describe_domain(DomainId=domain_id)['DomainSettings'].get('DockerSettings')\n",
    "docker_enabled = False\n",
    "\n",
    "if docker_settings:\n",
    "    if docker_settings.get('EnableDockerAccess') in ['ENABLED']:\n",
    "        print(f\"The docker access is ENABLED in the domain {domain_id}\")\n",
    "        docker_enabled = True\n",
    "\n",
    "if not docker_enabled:\n",
    "    raise Exception(f\"You must enable docker access in the domain to use Studio local mode\")"
   ]
  },
  {
   "cell_type": "markdown",
   "id": "40c8a4b8",
   "metadata": {},
   "source": [
    "그리고 `docker`가 설치되어 있는지 확인합니다."
   ]
  },
  {
   "cell_type": "code",
   "execution_count": null,
   "id": "ca87196c",
   "metadata": {},
   "outputs": [],
   "source": [
    "%%bash\n",
    "\n",
    "# see https://docs.docker.com/engine/install/ubuntu/#install-using-the-repository\n",
    "sudo apt-get update\n",
    "sudo apt-get install -y ca-certificates curl\n",
    "sudo install -m 0755 -d /etc/apt/keyrings\n",
    "sudo curl -fsSL https://download.docker.com/linux/ubuntu/gpg -o /etc/apt/keyrings/docker.asc\n",
    "sudo chmod a+r /etc/apt/keyrings/docker.asc\n",
    "\n",
    "# Add the repository to Apt sources:\n",
    "echo \\\n",
    "  \"deb [arch=$(dpkg --print-architecture) signed-by=/etc/apt/keyrings/docker.asc] https://download.docker.com/linux/ubuntu \\\n",
    "  $(. /etc/os-release && echo \"$VERSION_CODENAME\") stable\" | \\\n",
    "  sudo tee /etc/apt/sources.list.d/docker.list > /dev/null\n",
    "sudo apt-get update\n",
    "\n",
    "## Currently only Docker version 20.10.X is supported in Studio: see https://docs.aws.amazon.com/sagemaker/latest/dg/studio-updated-local.html\n",
    "# pick the latest patch from:\n",
    "# apt-cache madison docker-ce | awk '{ print $3 }' | grep -i 20.10\n",
    "VERSION_STRING=5:20.10.24~3-0~ubuntu-jammy\n",
    "sudo apt-get install docker-ce-cli=$VERSION_STRING docker-compose-plugin -y\n",
    "\n",
    "# validate the Docker Client is able to access Docker Server at [unix:///docker/proxy.sock]\n",
    "docker version\n"
   ]
  },
  {
   "cell_type": "markdown",
   "id": "d3a5c08d",
   "metadata": {},
   "source": [
    "이제 훈련 데이터를 처리하기 위한 `train.py` 스크립트를 작성해 보겠습니다."
   ]
  },
  {
   "cell_type": "code",
   "execution_count": null,
   "id": "1c42dcf9",
   "metadata": {},
   "outputs": [],
   "source": [
    "%%writefile training_code/train.py\n",
    "\n",
    "from __future__ import print_function\n",
    "\n",
    "import argparse\n",
    "import os\n",
    "import pandas as pd\n",
    "\n",
    "from sklearn import tree\n",
    "\n",
    "import mlflow\n",
    "from mlflow.models import infer_signature\n",
    "\n",
    "mode = os.environ.get(\"MODE\")\n",
    "if mode is None:\n",
    "    run_name = \"Training\"\n",
    "else:\n",
    "    run_name = \"Local-Training\"\n",
    "\n",
    "if __name__ == '__main__':\n",
    "    parser = argparse.ArgumentParser()\n",
    "\n",
    "    # Hyperparameters are described here. In this simple example we are just including one hyperparameter.\n",
    "    parser.add_argument('--max_leaf_nodes', type=int, default=-1)\n",
    "\n",
    "    # Sagemaker specific arguments. Defaults are set in the environment variables.\n",
    "    parser.add_argument('--output-data-dir', type=str, default=os.environ['SM_OUTPUT_DATA_DIR'])\n",
    "    parser.add_argument('--model-dir', type=str, default=os.environ['SM_MODEL_DIR'])\n",
    "    parser.add_argument('--train', type=str, default=os.environ['SM_CHANNEL_TRAIN'])\n",
    "\n",
    "    args = parser.parse_args()\n",
    "\n",
    "    # Take the set of files and read them all into a single pandas dataframe\n",
    "    input_files = [ os.path.join(args.train, file) for file in os.listdir(args.train) if os.path.isfile(os.path.join(args.train, file))]\n",
    "    if len(input_files) == 0:\n",
    "        raise ValueError(('There are no files in {}.\\n' +\n",
    "                          'This usually indicates that the channel ({}) was incorrectly specified,\\n' +\n",
    "                          'the data specification in S3 was incorrectly specified or the role specified\\n' +\n",
    "                          'does not have permission to access the data.').format(args.train, \"train\"))\n",
    "    raw_data = [ pd.read_csv(file, header=None, engine=\"python\") for file in input_files ]\n",
    "    train_data = pd.concat(raw_data)\n",
    "    \n",
    "    # Enable autologging in MLflow for SKlearn\n",
    "    mlflow.sklearn.autolog()\n",
    "\n",
    "    with mlflow.start_run(run_name=run_name) as run:\n",
    "        # labels are in the first column\n",
    "        train_y = train_data.iloc[:, 0]\n",
    "        train_X = train_data.iloc[:, 1:]\n",
    "    \n",
    "        # Here we support a single hyperparameter, 'max_leaf_nodes'. Note that you can add as many\n",
    "        # as your training my require in the ArgumentParser above.\n",
    "        max_leaf_nodes = args.max_leaf_nodes\n",
    "    \n",
    "        # Now use scikit-learn's decision tree classifier to train the model.\n",
    "        clf = tree.DecisionTreeClassifier(max_leaf_nodes=max_leaf_nodes)\n",
    "        clf = clf.fit(train_X, train_y)\n",
    "    \n",
    "        predictions = clf.predict(train_X)\n",
    "        signature = infer_signature(train_X, predictions)\n",
    "\n",
    "        mlflow.set_tags(\n",
    "            {\n",
    "                'mlflow.source.name': \"training_code/train.py\",\n",
    "                'mlflow.source.type': 'JOB',\n",
    "            }\n",
    "        )\n",
    "    \n",
    "        mlflow.sklearn.log_model(clf, \"model\", signature=signature)\n"
   ]
  },
  {
   "cell_type": "markdown",
   "id": "94a0da2f",
   "metadata": {},
   "source": [
    "## SageMaker 로컬 모델\n",
    "\n",
    "로컬 모드에서 실행하고 MLflow 추적 서버에 로그 기록하기"
   ]
  },
  {
   "cell_type": "code",
   "execution_count": null,
   "id": "55493704",
   "metadata": {},
   "outputs": [],
   "source": [
    "from sagemaker.local import LocalSession\n",
    "\n",
    "LOCAL_SESSION = LocalSession()\n",
    "LOCAL_SESSION.config = {'local': {'local_code': True}}  # Ensure full code locality, see: https://sagemaker.readthedocs.io/en/stable/overview.html#local-mode\n",
    "\n",
    "\n",
    "sklearn_local = SKLearn(\n",
    "    entry_point=\"train.py\",\n",
    "    source_dir=\"training_code\",\n",
    "    framework_version=\"1.2-1\",\n",
    "    instance_type=\"ml.c5.xlarge\",\n",
    "    role=role,\n",
    "    sagemaker_session=LOCAL_SESSION,\n",
    "    hyperparameters={\"max_leaf_nodes\": 30},\n",
    "    keep_alive_period_in_seconds=3600,\n",
    "    environment={\n",
    "        \"MLFLOW_TRACKING_URI\": mlflow_server_arn,\n",
    "        \"MODE\": \"local-mode\",\n",
    "        \"LOGNAME\": user_profile_name,\n",
    "        \"MLFLOW_EXPERIMENT_NAME\": mlflow_experiment_name\n",
    "    },\n",
    ")\n",
    "\n",
    "sklearn_local.fit({\"train\": train_input})"
   ]
  },
  {
   "cell_type": "code",
   "execution_count": null,
   "id": "f07f7466",
   "metadata": {},
   "outputs": [],
   "source": [
    "experiment_id = mlflow.get_experiment_by_name(mlflow_experiment_name).experiment_id\n",
    "# get the last run in MLflow\n",
    "last_run_id = mlflow.search_runs(\n",
    "    experiment_ids=[experiment_id], \n",
    "    max_results=1, \n",
    "    order_by=[\"attributes.start_time DESC\"]\n",
    ")['run_id'][0]\n",
    "\n",
    "\n",
    "mlflow_run_link = f\"{presigned_url.split('/auth')[0]}/#/experiments/{experiment_id}/runs/{last_run_id}\""
   ]
  },
  {
   "cell_type": "code",
   "execution_count": null,
   "id": "91289365",
   "metadata": {},
   "outputs": [],
   "source": [
    "display(Javascript('window.open(\"{}\");'.format(mlflow_run_link)))"
   ]
  },
  {
   "cell_type": "markdown",
   "id": "d8711a04",
   "metadata": {},
   "source": [
    "관리형 인프라 모드에서 실행하고 MLflow 추적 서버에 로그 기록하기"
   ]
  },
  {
   "cell_type": "code",
   "execution_count": null,
   "id": "af4edb56",
   "metadata": {},
   "outputs": [],
   "source": [
    "sklearn = SKLearn(\n",
    "    entry_point=\"train.py\",\n",
    "    source_dir=\"training_code\",\n",
    "    framework_version=\"1.2-1\",\n",
    "    instance_type=\"ml.c5.xlarge\",\n",
    "    role=role,\n",
    "    sagemaker_session=sagemaker_session,\n",
    "    hyperparameters={\"max_leaf_nodes\": 30},\n",
    "    keep_alive_period_in_seconds=3600,\n",
    "    environment={\n",
    "        \"MLFLOW_TRACKING_URI\": mlflow_server_arn,\n",
    "        \"LOGNAME\": user_profile_name,\n",
    "        \"MLFLOW_EXPERIMENT_NAME\": mlflow_experiment_name\n",
    "    },\n",
    ")\n",
    "\n",
    "sklearn.fit({\"train\": train_input})"
   ]
  },
  {
   "cell_type": "code",
   "execution_count": null,
   "id": "f1eef7bf",
   "metadata": {},
   "outputs": [],
   "source": [
    "# get the last run in MLflow\n",
    "last_run_id = mlflow.search_runs(\n",
    "    experiment_ids=[experiment_id], \n",
    "    max_results=1, \n",
    "    order_by=[\"attributes.start_time DESC\"]\n",
    ")['run_id'][0]\n",
    "\n",
    "mlflow_run_link = f\"{presigned_url.split('/auth')[0]}/#/experiments/{experiment_id}/runs/{last_run_id}\""
   ]
  },
  {
   "cell_type": "code",
   "execution_count": null,
   "id": "5788ffc4",
   "metadata": {},
   "outputs": [],
   "source": [
    "display(Javascript('window.open(\"{}\");'.format(mlflow_run_link)))"
   ]
  },
  {
   "cell_type": "markdown",
   "id": "fce19133",
   "metadata": {},
   "source": [
    "## MLflow 모델 등록하기"
   ]
  },
  {
   "cell_type": "code",
   "execution_count": null,
   "id": "53b683e2",
   "metadata": {},
   "outputs": [],
   "source": [
    "registered_model_name = \"sm-immersion-day-model\"\n",
    "\n",
    "# construct the model URI\n",
    "model_uri = f\"runs:/{last_run_id}/model\"\n",
    "\n",
    "# register the model\n",
    "registered_model_version = mlflow.register_model(model_uri, registered_model_name)"
   ]
  },
  {
   "cell_type": "code",
   "execution_count": null,
   "id": "8a197e9d",
   "metadata": {},
   "outputs": [],
   "source": [
    "# get SageMaker model registry data for this model version\n",
    "model_package_group_name = sm_client.list_model_package_groups(NameContains=registered_model_name)['ModelPackageGroupSummaryList'][0]['ModelPackageGroupName']\n",
    "sm_model_package = sm_client.list_model_packages(\n",
    "        ModelPackageGroupName=model_package_group_name,\n",
    "        SortBy=\"CreationTime\",\n",
    "        SortOrder=\"Descending\",\n",
    "    )['ModelPackageSummaryList'][0]\n",
    "\n"
   ]
  },
  {
   "cell_type": "code",
   "execution_count": null,
   "id": "9e5b8005",
   "metadata": {},
   "outputs": [],
   "source": [
    "sm_model_package"
   ]
  },
  {
   "cell_type": "code",
   "execution_count": null,
   "id": "c63765cd",
   "metadata": {},
   "outputs": [],
   "source": [
    "model_approval_status = 'PendingManualApproval'\n",
    "\n",
    "# update SageMaker model version with mlflow cross-reference\n",
    "sm_client.update_model_package(\n",
    "        ModelPackageArn=sm_model_package['ModelPackageArn'],\n",
    "        ModelApprovalStatus=model_approval_status,\n",
    "        ApprovalDescription=\"created a new model version\",\n",
    "        CustomerMetadataProperties={\n",
    "            \"mlflow_model_name\": registered_model_version.name,\n",
    "            \"mlflow_model_uri\": model_uri,\n",
    "            \"mlflow_experiment_name\": mlflow_experiment_name,\n",
    "        },\n",
    ")\n"
   ]
  },
  {
   "cell_type": "code",
   "execution_count": null,
   "id": "d2cc2678",
   "metadata": {},
   "outputs": [],
   "source": [
    "\n",
    "\n",
    "# Show the model registry link\n",
    "display(\n",
    "    HTML('<b>See <a target=\"top\" href=\"https://studio-{}.studio.{}.sagemaker.aws/models/registered-models/{}/versions\">the model package group</a> in the Studio UI</b>'.format(\n",
    "            domain_id, region, model_package_group_name))\n",
    ")\n",
    "\n"
   ]
  }
 ],
 "metadata": {
  "kernelspec": {
   "display_name": "Python 3 (ipykernel)",
   "language": "python",
   "name": "python3"
  },
  "language_info": {
   "codemirror_mode": {
    "name": "ipython",
    "version": 3
   },
   "file_extension": ".py",
   "mimetype": "text/x-python",
   "name": "python",
   "nbconvert_exporter": "python",
   "pygments_lexer": "ipython3",
   "version": "3.12.9"
  }
 },
 "nbformat": 4,
 "nbformat_minor": 5
}
