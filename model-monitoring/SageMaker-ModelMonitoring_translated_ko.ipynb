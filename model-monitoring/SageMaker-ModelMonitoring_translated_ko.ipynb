{
 "cells": [
  {
   "cell_type": "markdown",
   "id": "75cda4d6",
   "metadata": {},
   "source": [
    "# Amazon SageMaker Model Monitor\n",
    "이 노트북은 다음 내용을 보여줍니다:\n",
    "* Amazon SageMaker에서 머신 러닝 모델을 호스팅하고 추론 요청, 결과 및 메타데이터 캡처하기\n",
    "* 기준 제약 조건을 생성하기 위해 학습 데이터셋 분석하기\n",
    "* 제약 조건 위반에 대해 실시간 엔드포인트 또는 배치 변환 모니터링하기\n",
    "\n",
    "---\n",
    "## 배경\n",
    "\n",
    "Amazon SageMaker는 모든 개발자와 데이터 사이언티스트에게 머신 러닝 모델을 빠르게 구축, 학습 및 배포할 수 있는 능력을 제공합니다. Amazon SageMaker는 전체 머신 러닝 워크플로우를 포괄하는 완전 관리형 서비스입니다. 데이터에 레이블을 지정하고 준비하며, 알고리즘을 선택하고, 모델을 학습시킨 다음 배포를 위해 튜닝 및 최적화할 수 있습니다. Amazon SageMaker를 사용하여 모델을 프로덕션에 배포하면 예측을 수행하고 이전보다 더 낮은 비용으로 운영할 수 있습니다.\n",
    "\n",
    "또한 Amazon SageMaker를 사용하면 배포한 모델의 호출에 대한 입력, 출력 및 메타데이터를 캡처할 수 있습니다. 데이터를 분석하고 품질을 모니터링할 수도 있습니다. 이 노트북에서는 Amazon SageMaker가 이러한 기능을 어떻게 제공하는지 배우게 됩니다.\n",
    "\n",
    "---\n",
    "## 설정\n",
    "\n",
    "시작하려면 다음 사전 요구 사항이 완료되었는지 확인하세요.\n",
    "\n",
    "* 모델을 호스팅할 AWS 리전을 지정합니다.\n",
    "* Amazon SageMaker에 Amazon Simple Storage Service(Amazon S3)의 데이터에 접근할 수 있는 권한을 부여하는 데 사용되는 IAM 역할 ARN이 있어야 합니다. 필요한 권한을 미세 조정하는 방법은 문서를 참조하세요.\n",
    "* 모델 학습에 사용된 데이터, 추가 모델 데이터 및 모델 호출에서 캡처된 데이터를 저장하는 데 사용되는 S3 버킷을 생성합니다. 시연 목적으로 이들 모두에 동일한 버킷을 사용하고 있습니다. 실제로는 서로 다른 보안 정책으로 이들을 분리하고 싶을 수 있습니다."
   ]
  },
  {
   "cell_type": "code",
   "execution_count": null,
   "id": "37098f93",
   "metadata": {
    "isConfigCell": true
   },
   "outputs": [],
   "source": [
    "%%time\n",
    "# cell 01\n",
    "\n",
    "# Handful of configuration\n",
    "%pip install boto3 --upgrade\n",
    "\n",
    "import os\n",
    "import boto3\n",
    "import re\n",
    "import json\n",
    "from sagemaker import get_execution_role, session\n",
    "\n",
    "region= boto3.Session().region_name\n",
    "\n",
    "role = get_execution_role()\n",
    "print(\"RoleArn: {}\".format(role))\n",
    "\n",
    "# You can use a different bucket, but make sure the role you chose for this notebook\n",
    "# has the s3:PutObject permissions. This is the bucket into which the data is captured\n",
    "bucket =  session.Session(boto3.Session()).default_bucket()\n",
    "print(\"Demo Bucket: {}\".format(bucket))\n",
    "prefix = 'sagemaker/DEMO-ModelMonitor'\n",
    "\n",
    "data_capture_prefix = '{}/datacapture'.format(prefix)\n",
    "s3_capture_upload_path = 's3://{}/{}'.format(bucket, data_capture_prefix)\n",
    "reports_prefix = '{}/reports'.format(prefix)\n",
    "s3_report_path = 's3://{}/{}'.format(bucket,reports_prefix)\n",
    "code_prefix = '{}/code'.format(prefix)\n",
    "s3_code_preprocessor_uri = 's3://{}/{}/{}'.format(bucket,code_prefix, 'preprocessor.py')\n",
    "s3_code_postprocessor_uri = 's3://{}/{}/{}'.format(bucket,code_prefix, 'postprocessor.py')\n",
    "\n",
    "print(\"Capture path: {}\".format(s3_capture_upload_path))\n",
    "print(\"Report path: {}\".format(s3_report_path))\n",
    "print(\"Preproc Code path: {}\".format(s3_code_preprocessor_uri))\n",
    "print(\"Postproc Code path: {}\".format(s3_code_postprocessor_uri))"
   ]
  },
  {
   "cell_type": "markdown",
   "id": "0eb1b2af",
   "metadata": {},
   "source": [
    "이 노트북의 실행 역할이 진행에 필요한 권한을 가지고 있는지 빠르게 확인할 수 있습니다. 위에서 지정한 S3 버킷에 간단한 테스트 객체를 넣어보세요. 이 명령이 실패하면, 해당 역할에 버킷에 대한 `s3:PutObject` 권한을 추가한 후 다시 시도하세요."
   ]
  },
  {
   "cell_type": "code",
   "execution_count": null,
   "id": "9a91f056",
   "metadata": {},
   "outputs": [],
   "source": [
    "# cell 02\n",
    "# Upload some test files\n",
    "boto3.Session().resource('s3').Bucket(bucket).Object(\"test_upload/test.txt\").upload_file('test_data/upload-test-file.txt')\n",
    "print(\"Success! You are all set to proceed.\")"
   ]
  },
  {
   "cell_type": "markdown",
   "id": "097e19d0",
   "metadata": {
    "jp-MarkdownHeadingCollapsed": true,
    "tags": []
   },
   "source": [
    "# 옵션 1: 실시간 엔드포인트를 통한 모델 모니터링"
   ]
  },
  {
   "cell_type": "markdown",
   "id": "50819737",
   "metadata": {
    "tags": []
   },
   "source": [
    "## PART A: Amazon SageMaker 엔드포인트에서 실시간 추론 데이터 캡처하기\n",
    "데이터 캡처 기능을 실제로 보여주기 위한 엔드포인트를 생성합니다.\n",
    "\n",
    "### 사전 훈련된 모델을 Amazon S3에 업로드하기\n",
    "이 코드는 배포할 준비가 된 사전 훈련된 XGBoost 모델을 업로드합니다. 이 모델은 SageMaker의 XGB Churn Prediction 노트북을 사용하여 훈련되었습니다. 이 단계에서 자신의 사전 훈련된 모델을 사용할 수도 있습니다. 이미 Amazon S3에 사전 훈련된 모델이 있다면, s3_key를 지정하여 추가할 수 있습니다."
   ]
  },
  {
   "cell_type": "code",
   "execution_count": null,
   "id": "eda8fe16",
   "metadata": {},
   "outputs": [],
   "source": [
    "# cell 03\n",
    "model_file = open(\"model/xgb-churn-prediction-model.tar.gz\", 'rb')\n",
    "s3_key = os.path.join(prefix, 'xgb-churn-prediction-model.tar.gz')\n",
    "boto3.Session().resource('s3').Bucket(bucket).Object(s3_key).upload_fileobj(model_file)"
   ]
  },
  {
   "cell_type": "markdown",
   "id": "7cf4fb72",
   "metadata": {
    "tags": []
   },
   "source": [
    "### Amazon SageMaker에 모델 배포하기\n",
    "사전 훈련된 이탈 예측 모델을 배포하는 것부터 시작하겠습니다. 여기서는 이미지와 모델 데이터로 모델 객체를 생성합니다."
   ]
  },
  {
   "cell_type": "code",
   "execution_count": null,
   "id": "585cf3d4",
   "metadata": {},
   "outputs": [],
   "source": [
    "# cell 04\n",
    "from time import gmtime, strftime\n",
    "from sagemaker.model import Model\n",
    "from sagemaker.image_uris import retrieve\n",
    "\n",
    "model_name = \"DEMO-xgb-churn-pred-model-monitor-\" + strftime(\"%Y-%m-%d-%H-%M-%S\", gmtime())\n",
    "model_url = 'https://{}.s3-{}.amazonaws.com/{}/xgb-churn-prediction-model.tar.gz'.format(bucket, region, prefix)\n",
    "image_uri = retrieve(region=boto3.Session().region_name, framework='xgboost', version='0.90-2')\n",
    "\n",
    "model = Model(image_uri=image_uri, model_data=model_url, role=role)"
   ]
  },
  {
   "cell_type": "markdown",
   "id": "556902ce",
   "metadata": {},
   "source": [
    "모델 데이터 품질 모니터링을 위한 데이터 캡처를 활성화하기 위해, `DataCaptureConfig`라는 새로운 캡처 옵션을 지정합니다. 이 구성을 통해 요청 페이로드, 응답 페이로드 또는 둘 다 캡처할 수 있습니다. 캡처 구성은 모든 변형에 적용됩니다. 배포를 진행하겠습니다."
   ]
  },
  {
   "cell_type": "code",
   "execution_count": null,
   "id": "99318f7b",
   "metadata": {},
   "outputs": [],
   "source": [
    "# cell 05\n",
    "from sagemaker.model_monitor import DataCaptureConfig\n",
    "\n",
    "endpoint_name = 'DEMO-xgb-churn-pred-model-monitor-' + strftime(\"%Y-%m-%d-%H-%M-%S\", gmtime())\n",
    "print(\"EndpointName={}\".format(endpoint_name))\n",
    "\n",
    "data_capture_config = DataCaptureConfig(\n",
    "                        enable_capture=True,\n",
    "                        sampling_percentage=100,\n",
    "                        destination_s3_uri=s3_capture_upload_path)\n",
    "\n",
    "predictor = model.deploy(initial_instance_count=1,\n",
    "                instance_type='ml.m4.xlarge',\n",
    "                endpoint_name=endpoint_name,\n",
    "                data_capture_config=data_capture_config)"
   ]
  },
  {
   "cell_type": "markdown",
   "id": "af950a41",
   "metadata": {
    "tags": []
   },
   "source": [
    "### 배포된 모델 호출하기\n",
    "\n",
    "이제 이 엔드포인트로 데이터를 전송하여 실시간으로 추론을 얻을 수 있습니다. 이전 단계에서 데이터 캡처를 활성화했기 때문에, 요청 및 응답 페이로드는 일부 추가 메타데이터와 함께 DataCaptureConfig에서 지정한 Amazon Simple Storage Service(Amazon S3) 위치에 저장됩니다."
   ]
  },
  {
   "cell_type": "markdown",
   "id": "5b606449",
   "metadata": {},
   "source": [
    "이 단계는 포함된 샘플 데이터로 약 2분 동안 엔드포인트를 호출합니다. 데이터는 지정된 샘플링 비율에 따라 캡처되며, 데이터 캡처 옵션이 꺼질 때까지 캡처가 계속됩니다."
   ]
  },
  {
   "cell_type": "code",
   "execution_count": null,
   "id": "60f6162c",
   "metadata": {},
   "outputs": [],
   "source": [
    "# cell 06\n",
    "from sagemaker.predictor import Predictor\n",
    "import sagemaker\n",
    "import time\n",
    "\n",
    "predictor = Predictor(endpoint_name=endpoint_name, serializer=sagemaker.serializers.CSVSerializer())\n",
    "\n",
    "# get a subset of test data for a quick test\n",
    "!head -120 test_data/test-dataset-input-cols.csv > test_data/test_sample.csv\n",
    "print(\"Sending test traffic to the endpoint {}. \\nPlease wait...\".format(endpoint_name))\n",
    "\n",
    "with open('test_data/test_sample.csv', 'r') as f:\n",
    "    for row in f:\n",
    "        payload = row.rstrip('\\n')\n",
    "        response = predictor.predict(data=payload)\n",
    "        time.sleep(0.5)\n",
    "        \n",
    "print(\"Done!\")        "
   ]
  },
  {
   "cell_type": "markdown",
   "id": "4e987206",
   "metadata": {
    "tags": []
   },
   "source": [
    "### 캡처된 데이터 보기\n",
    "\n",
    "이제 Amazon S3에 저장된 데이터 캡처 파일을 나열해 보겠습니다. 호출이 발생한 시간을 기준으로 정리된 다양한 시간대의 파일들을 볼 수 있을 것입니다. Amazon S3 경로 형식은 다음과 같습니다:\n",
    "\n",
    "`s3://{destination-bucket-prefix}/{endpoint-name}/{variant-name}/yyyy/mm/dd/hh/filename.jsonl`"
   ]
  },
  {
   "cell_type": "code",
   "execution_count": null,
   "id": "53afa300",
   "metadata": {
    "scrolled": true
   },
   "outputs": [],
   "source": [
    "# cell 07\n",
    "s3_client = boto3.Session().client('s3')\n",
    "current_endpoint_capture_prefix = '{}/{}'.format(data_capture_prefix, endpoint_name)\n",
    "result = s3_client.list_objects(Bucket=bucket, Prefix=current_endpoint_capture_prefix)\n",
    "capture_files = [capture_file.get(\"Key\") for capture_file in result.get('Contents')]\n",
    "print(\"Found Capture Files:\")\n",
    "print(\"\\n \".join(capture_files))"
   ]
  },
  {
   "cell_type": "markdown",
   "id": "e5ac7961",
   "metadata": {},
   "source": [
    "다음으로, 단일 캡처 파일의 내용을 확인해보겠습니다. 여기서는 Amazon SageMaker 특정 JSON-line 형식의 파일에 캡처된 모든 데이터를 볼 수 있습니다. 캡처된 파일의 처음 몇 줄을 빠르게 살펴보겠습니다."
   ]
  },
  {
   "cell_type": "code",
   "execution_count": null,
   "id": "f9e9aa01",
   "metadata": {},
   "outputs": [],
   "source": [
    "# cell 08\n",
    "def get_obj_body(obj_key):\n",
    "    return s3_client.get_object(Bucket=bucket, Key=obj_key).get('Body').read().decode(\"utf-8\")\n",
    "\n",
    "capture_file = get_obj_body(capture_files[-1])\n",
    "print(capture_file[:2000])"
   ]
  },
  {
   "cell_type": "markdown",
   "id": "27de55f4",
   "metadata": {},
   "source": [
    "I'll translate the content once you provide the JSON file. Please share the content you'd like me to translate to Korean."
   ]
  },
  {
   "cell_type": "code",
   "execution_count": null,
   "id": "8dd18492",
   "metadata": {
    "scrolled": true
   },
   "outputs": [],
   "source": [
    "# cell 09\n",
    "import json\n",
    "print(json.dumps(json.loads(capture_file.split('\\n')[0]), indent=2))"
   ]
  },
  {
   "cell_type": "markdown",
   "id": "c6ca7249",
   "metadata": {},
   "source": [
    "보시다시피, 각 추론 요청은 jsonl 파일에서 한 줄로 캡처됩니다. 이 줄에는 입력과 출력이 함께 병합되어 있습니다. 예제에서는 ContentType을 `text/csv`로 제공했으며, 이는 `observedContentType` 값에 반영됩니다. 또한 캡처 형식에서 입력 및 출력 페이로드를 인코딩하는 데 사용한 인코딩을 `encoding` 값으로 표시합니다.\n",
    "\n",
    "요약하자면, 새로운 파라미터를 사용하여 엔드포인트에 대한 입력 또는 출력 페이로드를 캡처하는 방법을 살펴보았습니다. 또한 캡처된 형식이 Amazon S3에서 어떻게 보이는지도 확인했습니다. 다음으로, Amazon SageMaker가 Amazon S3에 수집된 데이터를 모니터링하는 데 어떻게 도움이 되는지 계속 살펴보겠습니다."
   ]
  },
  {
   "cell_type": "markdown",
   "id": "b048bedf",
   "metadata": {
    "tags": []
   },
   "source": [
    "## PART B: 모델 모니터 - 기준선 설정 및 지속적 모니터링"
   ]
  },
  {
   "cell_type": "markdown",
   "id": "bdd15650",
   "metadata": {},
   "source": [
    "데이터를 수집하는 것 외에도, Amazon SageMaker는 엔드포인트에서 관찰된 데이터를 모니터링하고 평가할 수 있는 기능을 제공합니다. 이를 위해:\n",
    "1. 실시간 트래픽을 비교할 기준선(베이스라인)을 생성합니다.\n",
    "1. 기준선이 준비되면, 지속적으로 평가하고 기준선과 비교하는 일정을 설정합니다."
   ]
  },
  {
   "cell_type": "markdown",
   "id": "67e29739",
   "metadata": {
    "tags": []
   },
   "source": [
    "### 1. 제약 조건 제안과 기준/훈련 데이터셋"
   ]
  },
  {
   "cell_type": "markdown",
   "id": "b5280bce",
   "metadata": {},
   "source": [
    "모델을 훈련시킨 훈련 데이터셋은 일반적으로 좋은 기준 데이터셋입니다. 훈련 데이터셋의 데이터 스키마와 추론 데이터셋의 스키마가 정확히 일치해야 함(즉, 특성의 수와 순서)에 유의하세요.\n",
    "\n",
    "훈련 데이터셋에서 Amazon SageMaker에 기준 `constraints`(제약 조건)를 제안하고 데이터를 탐색하기 위한 설명적인 `statistics`(통계)를 생성하도록 요청할 수 있습니다. 이 예제에서는 이 예제에 포함된 사전 훈련된 모델을 훈련시키는 데 사용된 훈련 데이터셋을 업로드하세요. 이미 Amazon S3에 데이터셋이 있다면 직접 가리킬 수 있습니다."
   ]
  },
  {
   "cell_type": "code",
   "execution_count": null,
   "id": "c3941754",
   "metadata": {},
   "outputs": [],
   "source": [
    "# cell 10\n",
    "# copy over the training dataset to Amazon S3 (if you already have it in Amazon S3, you could reuse it)\n",
    "baseline_prefix = prefix + '/baselining'\n",
    "baseline_data_prefix = baseline_prefix + '/data'\n",
    "baseline_results_prefix = baseline_prefix + '/results'\n",
    "\n",
    "baseline_data_uri = 's3://{}/{}'.format(bucket,baseline_data_prefix)\n",
    "baseline_results_uri = 's3://{}/{}'.format(bucket, baseline_results_prefix)\n",
    "print('Baseline data uri: {}'.format(baseline_data_uri))\n",
    "print('Baseline results uri: {}'.format(baseline_results_uri))\n"
   ]
  },
  {
   "cell_type": "code",
   "execution_count": null,
   "id": "af294480",
   "metadata": {},
   "outputs": [],
   "source": [
    "# cell 11\n",
    "training_data_file = open(\"test_data/training-dataset-with-header.csv\", 'rb')\n",
    "s3_key = os.path.join(baseline_prefix, 'data', 'training-dataset-with-header.csv')\n",
    "boto3.Session().resource('s3').Bucket(bucket).Object(s3_key).upload_fileobj(training_data_file)"
   ]
  },
  {
   "cell_type": "markdown",
   "id": "34c8df77",
   "metadata": {
    "tags": []
   },
   "source": [
    "#### 학습 데이터셋으로 기준 작업 생성하기"
   ]
  },
  {
   "cell_type": "markdown",
   "id": "17bb2c0f",
   "metadata": {},
   "source": [
    "이제 Amazon S3에 학습 데이터가 준비되었으니, 제약 조건을 `suggest`하는 작업을 시작하겠습니다. `DefaultModelMonitor.suggest_baseline(..)`은 제약 조건을 생성하기 위해 Amazon SageMaker에서 제공하는 Model Monitor 컨테이너를 사용하여 `ProcessingJob`을 시작합니다."
   ]
  },
  {
   "cell_type": "code",
   "execution_count": null,
   "id": "2e7c8bee",
   "metadata": {},
   "outputs": [],
   "source": [
    "# cell 12\n",
    "from sagemaker.model_monitor import DefaultModelMonitor\n",
    "from sagemaker.model_monitor.dataset_format import DatasetFormat\n",
    "\n",
    "my_default_monitor = DefaultModelMonitor(\n",
    "    role=role,\n",
    "    instance_count=1,\n",
    "    instance_type='ml.m5.xlarge',\n",
    "    volume_size_in_gb=20,\n",
    "    max_runtime_in_seconds=3600,\n",
    ")\n",
    "\n",
    "my_default_monitor_baseline = my_default_monitor.suggest_baseline(\n",
    "    baseline_dataset=baseline_data_uri+'/training-dataset-with-header.csv',\n",
    "    dataset_format=DatasetFormat.csv(header=True),\n",
    "    output_s3_uri=baseline_results_uri,\n",
    "    wait=True\n",
    ")"
   ]
  },
  {
   "cell_type": "markdown",
   "id": "ca88d206",
   "metadata": {
    "tags": []
   },
   "source": [
    "#### 생성된 제약 조건 및 통계 탐색하기"
   ]
  },
  {
   "cell_type": "code",
   "execution_count": null,
   "id": "00f5d1b0",
   "metadata": {},
   "outputs": [],
   "source": [
    "# cell 13\n",
    "s3_client = boto3.Session().client('s3')\n",
    "result = s3_client.list_objects(Bucket=bucket, Prefix=baseline_results_prefix)\n",
    "report_files = [report_file.get(\"Key\") for report_file in result.get('Contents')]\n",
    "print(\"Found Files:\")\n",
    "print(\"\\n \".join(report_files))"
   ]
  },
  {
   "cell_type": "code",
   "execution_count": null,
   "id": "ecdd4307",
   "metadata": {},
   "outputs": [],
   "source": [
    "# cell 14\n",
    "import pandas as pd\n",
    "\n",
    "baseline_job = my_default_monitor.latest_baselining_job\n",
    "schema_df = pd.json_normalize(baseline_job.baseline_statistics().body_dict[\"features\"])\n",
    "schema_df.head(10)"
   ]
  },
  {
   "cell_type": "code",
   "execution_count": null,
   "id": "3576f9e6",
   "metadata": {},
   "outputs": [],
   "source": [
    "# cell 15\n",
    "constraints_df = pd.json_normalize(baseline_job.suggested_constraints().body_dict[\"features\"])\n",
    "constraints_df.head(10)"
   ]
  },
  {
   "cell_type": "markdown",
   "id": "08d1ffc8",
   "metadata": {
    "tags": []
   },
   "source": [
    "### 2. 데이터 품질 문제를 위한 수집된 데이터 분석하기\n",
    "\n",
    "위에서 데이터를 수집했으면, Monitoring Schedules를 사용하여 데이터를 분석하고 모니터링하세요."
   ]
  },
  {
   "cell_type": "markdown",
   "id": "522fa903",
   "metadata": {},
   "source": [
    "#### 일정 생성하기"
   ]
  },
  {
   "cell_type": "code",
   "execution_count": null,
   "id": "1d47d0c8",
   "metadata": {},
   "outputs": [],
   "source": [
    "# cell 16\n",
    "# First, copy over some test scripts to the S3 bucket so that they can be used for pre and post processing\n",
    "boto3.Session().resource('s3').Bucket(bucket).Object(code_prefix+\"/preprocessor.py\").upload_file('preprocessor.py')\n",
    "boto3.Session().resource('s3').Bucket(bucket).Object(code_prefix+\"/postprocessor.py\").upload_file('postprocessor.py')"
   ]
  },
  {
   "cell_type": "markdown",
   "id": "652fc64d",
   "metadata": {},
   "source": [
    "앞서 생성한 엔드포인트에 대한 모델 모니터링 일정을 생성할 수 있습니다. 기준 리소스(제약 조건 및 통계)를 사용하여 실시간 트래픽과 비교할 수 있습니다."
   ]
  },
  {
   "cell_type": "code",
   "execution_count": null,
   "id": "49133d64",
   "metadata": {},
   "outputs": [],
   "source": [
    "# cell 17\n",
    "from sagemaker.model_monitor import CronExpressionGenerator\n",
    "from time import gmtime, strftime\n",
    "\n",
    "mon_schedule_name = 'DEMO-xgb-churn-pred-model-monitor-schedule-' + strftime(\"%Y-%m-%d-%H-%M-%S\", gmtime())\n",
    "my_default_monitor.create_monitoring_schedule(\n",
    "    monitor_schedule_name=mon_schedule_name,\n",
    "    endpoint_input=predictor.endpoint_name,\n",
    "    #record_preprocessor_script=pre_processor_script,\n",
    "    post_analytics_processor_script=s3_code_postprocessor_uri,\n",
    "    output_s3_uri=s3_report_path,\n",
    "    statistics=my_default_monitor.baseline_statistics(),\n",
    "    constraints=my_default_monitor.suggested_constraints(),\n",
    "    schedule_cron_expression=CronExpressionGenerator.hourly(),\n",
    "    enable_cloudwatch_metrics=True,\n",
    "\n",
    ")"
   ]
  },
  {
   "cell_type": "markdown",
   "id": "a17dbbbc",
   "metadata": {},
   "source": [
    "#### 인공 트래픽 생성 시작하기\n",
    "아래 셀은 엔드포인트로 트래픽을 보내는 스레드를 시작합니다. 이 스레드를 종료하려면 커널을 중지해야 합니다. 트래픽이 없으면 처리할 데이터가 없기 때문에 모니터링 작업이 `Failed`로 표시됩니다."
   ]
  },
  {
   "cell_type": "code",
   "execution_count": null,
   "id": "96617f37",
   "metadata": {},
   "outputs": [],
   "source": [
    "# cell 18\n",
    "from threading import Thread\n",
    "from time import sleep\n",
    "import time\n",
    "\n",
    "endpoint_name=predictor.endpoint_name\n",
    "runtime_client = boto3.client('runtime.sagemaker')\n",
    "\n",
    "# (just repeating code from above for convenience/ able to run this section independently)\n",
    "def invoke_endpoint(ep_name, file_name, runtime_client):\n",
    "    with open(file_name, 'r') as f:\n",
    "        for row in f:\n",
    "            payload = row.rstrip('\\n')\n",
    "            response = runtime_client.invoke_endpoint(EndpointName=ep_name,\n",
    "                                          ContentType='text/csv', \n",
    "                                          Body=payload)\n",
    "            response['Body'].read()\n",
    "            time.sleep(1)\n",
    "            \n",
    "def invoke_endpoint_forever():\n",
    "    while True:\n",
    "        invoke_endpoint(endpoint_name, 'test_data/test-dataset-input-cols.csv', runtime_client)\n",
    "        \n",
    "thread = Thread(target = invoke_endpoint_forever)\n",
    "thread.start()\n",
    "\n",
    "# Note that you need to stop the kernel to stop the invocations"
   ]
  },
  {
   "cell_type": "markdown",
   "id": "a2352720",
   "metadata": {},
   "source": [
    "#### 일정 설명 및 검사하기\n",
    "일정을 설명하면 MonitoringScheduleStatus가 Scheduled로 변경되는 것을 확인할 수 있습니다."
   ]
  },
  {
   "cell_type": "code",
   "execution_count": null,
   "id": "fc930e9a",
   "metadata": {},
   "outputs": [],
   "source": [
    "# cell 19\n",
    "desc_schedule_result = my_default_monitor.describe_schedule()\n",
    "print('Schedule status: {}'.format(desc_schedule_result['MonitoringScheduleStatus']))"
   ]
  },
  {
   "cell_type": "markdown",
   "id": "ef847eb3",
   "metadata": {},
   "source": [
    "#### 실행 목록 보기\n",
    "일정은 이전에 지정한 간격으로 작업을 시작합니다. 여기서는 최근 다섯 번의 실행을 나열합니다. 시간별 일정을 생성한 후 이를 시작하는 경우, 실행 목록이 비어 있을 수 있습니다. 실행이 시작되는 것을 보려면 시간 경계(UTC 기준)를 넘길 때까지 기다려야 할 수 있습니다. 아래 코드에는 대기 로직이 포함되어 있습니다.\n",
    "\n",
    "참고: 시간별 일정이라도 Amazon SageMaker는 실행을 예약하기 위해 20분의 버퍼 기간을 가집니다. 실행이 시간 경계로부터 0분에서 약 20분 사이에 시작되는 것을 볼 수 있습니다. 이는 예상된 동작이며 백엔드의 부하 분산을 위해 수행됩니다."
   ]
  },
  {
   "cell_type": "code",
   "execution_count": null,
   "id": "e2670933",
   "metadata": {},
   "outputs": [],
   "source": [
    "# cell 20\n",
    "mon_executions = my_default_monitor.list_executions()\n",
    "print(\"We created a hourly schedule above and it will kick off executions ON the hour (plus 0 - 20 min buffer.\\nWe will have to wait till we hit the hour...\")\n",
    "\n",
    "while len(mon_executions) == 0:\n",
    "    print(\"Waiting for the 1st execution to happen...\")\n",
    "    time.sleep(60)\n",
    "    mon_executions = my_default_monitor.list_executions()    "
   ]
  },
  {
   "cell_type": "markdown",
   "id": "de709723",
   "metadata": {},
   "source": [
    "#### 특정 실행 검사하기(최신 실행)\n",
    "이전 셀에서 최신 완료 또는 실패한 예약 실행을 선택했습니다. 다음은 가능한 최종 상태와 각각의 의미입니다:\n",
    "* Completed - 모니터링 실행이 완료되었으며 위반 보고서에서 문제가 발견되지 않았음을 의미합니다.\n",
    "* CompletedWithViolations - 실행은 완료되었지만 제약 조건 위반이 감지되었음을 의미합니다.\n",
    "* Failed - 클라이언트 오류(아마도 잘못된 역할 권한) 또는 인프라 문제로 인해 모니터링 실행이 실패했습니다. 정확히 무슨 일이 일어났는지 확인하려면 FailureReason과 ExitMessage를 추가로 검토해야 합니다.\n",
    "* Stopped - 작업이 최대 실행 시간을 초과했거나 수동으로 중지되었습니다."
   ]
  },
  {
   "cell_type": "code",
   "execution_count": null,
   "id": "0e3d7e86",
   "metadata": {},
   "outputs": [],
   "source": [
    "# cell 21\n",
    "latest_execution = mon_executions[-1] # latest execution's index is -1, second to last is -2 and so on..\n",
    "time.sleep(60)\n",
    "latest_execution.wait(logs=False)\n",
    "\n",
    "print(\"Latest execution status: {}\".format(latest_execution.describe()['ProcessingJobStatus']))\n",
    "print(\"Latest execution result: {}\".format(latest_execution.describe()['ExitMessage']))\n",
    "\n",
    "latest_job = latest_execution.describe()\n",
    "if (latest_job['ProcessingJobStatus'] != 'Completed'):\n",
    "        print(\"====STOP==== \\n No completed executions to inspect further. Please wait till an execution completes or investigate previously reported failures.\")"
   ]
  },
  {
   "cell_type": "code",
   "execution_count": null,
   "id": "2aadc56d",
   "metadata": {},
   "outputs": [],
   "source": [
    "# cell 22\n",
    "report_uri=latest_execution.output.destination\n",
    "print('Report Uri: {}'.format(report_uri))"
   ]
  },
  {
   "cell_type": "markdown",
   "id": "37df5274",
   "metadata": {},
   "source": [
    "#### 생성된 보고서 목록"
   ]
  },
  {
   "cell_type": "code",
   "execution_count": null,
   "id": "788673ef",
   "metadata": {},
   "outputs": [],
   "source": [
    "# cell 23\n",
    "from urllib.parse import urlparse\n",
    "s3uri = urlparse(report_uri)\n",
    "report_bucket = s3uri.netloc\n",
    "report_key = s3uri.path.lstrip('/')\n",
    "print('Report bucket: {}'.format(report_bucket))\n",
    "print('Report key: {}'.format(report_key))\n",
    "\n",
    "s3_client = boto3.Session().client('s3')\n",
    "result = s3_client.list_objects(Bucket=report_bucket, Prefix=report_key)\n",
    "report_files = [report_file.get(\"Key\") for report_file in result.get('Contents')]\n",
    "print(\"Found Report Files:\")\n",
    "print(\"\\n \".join(report_files))"
   ]
  },
  {
   "cell_type": "markdown",
   "id": "8c721b7d",
   "metadata": {},
   "source": [
    "#### 위반 보고서"
   ]
  },
  {
   "cell_type": "markdown",
   "id": "6b7b8a73",
   "metadata": {},
   "source": [
    "기준선과 비교하여 위반 사항이 있으면 여기에 나열됩니다."
   ]
  },
  {
   "cell_type": "code",
   "execution_count": null,
   "id": "8d2f2a8b",
   "metadata": {},
   "outputs": [],
   "source": [
    "# cell 24\n",
    "violations = my_default_monitor.latest_monitoring_constraint_violations()\n",
    "pd.set_option('display.max_colwidth', None)\n",
    "constraints_df = pd.json_normalize(violations.body_dict[\"violations\"])\n",
    "constraints_df.head(10)"
   ]
  },
  {
   "cell_type": "markdown",
   "id": "5e9c2701",
   "metadata": {},
   "source": [
    "#### 기타 명령어\n",
    "모니터링 일정을 시작하고 중지할 수도 있습니다."
   ]
  },
  {
   "cell_type": "code",
   "execution_count": null,
   "id": "2e29a5b4",
   "metadata": {},
   "outputs": [],
   "source": [
    "# cell 25\n",
    "#my_default_monitor.stop_monitoring_schedule()\n",
    "#my_default_monitor.start_monitoring_schedule()"
   ]
  },
  {
   "cell_type": "markdown",
   "id": "bb3d4024",
   "metadata": {},
   "source": [
    "## 리소스 삭제하기\n",
    "\n",
    "데이터를 계속 캡처하기 위해 엔드포인트를 실행 상태로 유지할 수 있습니다. 더 많은 데이터를 수집하거나 이 엔드포인트를 더 이상 사용할 계획이 없다면, 추가 요금이 발생하지 않도록 엔드포인트를 삭제해야 합니다. 엔드포인트를 삭제해도 모델 호출 중에 캡처된 데이터는 삭제되지 않습니다. 해당 데이터는 직접 삭제할 때까지 Amazon S3에 유지됩니다.\n",
    "\n",
    "하지만 그 전에 먼저 일정을 삭제해야 합니다."
   ]
  },
  {
   "cell_type": "code",
   "execution_count": null,
   "id": "b6a7d4fb",
   "metadata": {},
   "outputs": [],
   "source": [
    "# cell 26\n",
    "my_default_monitor.delete_monitoring_schedule()\n",
    "time.sleep(60) # actually wait for the deletion"
   ]
  },
  {
   "cell_type": "code",
   "execution_count": null,
   "id": "cd701226",
   "metadata": {
    "scrolled": true
   },
   "outputs": [],
   "source": [
    "# cell 27\n",
    "predictor.delete_endpoint()"
   ]
  },
  {
   "cell_type": "code",
   "execution_count": null,
   "id": "f03009d5",
   "metadata": {},
   "outputs": [],
   "source": [
    "# cell 28\n",
    "predictor.delete_model()"
   ]
  },
  {
   "cell_type": "markdown",
   "id": "f634c739",
   "metadata": {
    "tags": []
   },
   "source": [
    "# 옵션 2: 배치 변환을 통한 모델 모니터링"
   ]
  },
  {
   "cell_type": "markdown",
   "id": "c4be845f",
   "metadata": {
    "tags": []
   },
   "source": [
    "## 파트 A: 배치 변환 작업에서 데이터 캡처하기\n",
    "데이터 캡처 기능을 실제로 보여주기 위해 배치 변환 작업을 생성합니다.\n",
    "\n",
    "### 1) 사전 훈련된 모델을 Amazon S3에 업로드하기\n",
    "이 코드는 배포할 준비가 된 사전 훈련된 XGBoost 모델을 업로드합니다. 이 모델은 SageMaker의 XGB Churn Prediction 노트북을 사용하여 훈련되었습니다. 이 단계에서 자신의 사전 훈련된 모델을 사용할 수도 있습니다. Amazon S3에 이미 사전 훈련된 모델이 있는 경우, s3_key를 지정하여 추가할 수 있습니다."
   ]
  },
  {
   "cell_type": "code",
   "execution_count": null,
   "id": "17b2e616",
   "metadata": {
    "tags": []
   },
   "outputs": [],
   "source": [
    "model_file = open(\"model/xgb-churn-prediction-model.tar.gz\", \"rb\")\n",
    "s3_key = os.path.join(prefix, \"xgb-churn-prediction-model.tar.gz\")\n",
    "boto3.Session().resource(\"s3\").Bucket(bucket).Object(s3_key).upload_fileobj(model_file)"
   ]
  },
  {
   "cell_type": "code",
   "execution_count": null,
   "id": "4e6cf345",
   "metadata": {
    "tags": []
   },
   "outputs": [],
   "source": [
    "from time import gmtime, strftime\n",
    "from sagemaker.model import Model\n",
    "from sagemaker.image_uris import retrieve\n",
    "\n",
    "model_name = \"DEMO-xgb-churn-pred-model-monitor-\" + strftime(\"%Y-%m-%d-%H-%M-%S\", gmtime())\n",
    "model_url = \"https://{}.s3-{}.amazonaws.com/{}/xgb-churn-prediction-model.tar.gz\".format(\n",
    "    bucket, region, prefix\n",
    ")\n",
    "\n",
    "image_uri = retrieve(\"xgboost\", boto3.Session().region_name, \"0.90-1\")\n",
    "\n",
    "model = Model(image_uri=image_uri, model_data=model_url, role=role)"
   ]
  },
  {
   "cell_type": "markdown",
   "id": "307c3a04",
   "metadata": {},
   "source": [
    "### 2) 배치 추론에 사용될 테스트 데이터 업로드하기"
   ]
  },
  {
   "cell_type": "code",
   "execution_count": null,
   "id": "d1b47e09",
   "metadata": {
    "tags": []
   },
   "outputs": [],
   "source": [
    "!aws s3 cp test_data/test-dataset-input-cols.csv s3://{bucket}/transform-input/test-dataset-input-cols.csv"
   ]
  },
  {
   "cell_type": "markdown",
   "id": "80002495",
   "metadata": {},
   "source": [
    "### 3) 배치 변환 작업 생성하기"
   ]
  },
  {
   "cell_type": "code",
   "execution_count": null,
   "id": "a522af2e",
   "metadata": {
    "tags": []
   },
   "outputs": [],
   "source": [
    "from sagemaker.inputs import BatchDataCaptureConfig"
   ]
  },
  {
   "cell_type": "code",
   "execution_count": null,
   "id": "81bcd3b0",
   "metadata": {
    "scrolled": true,
    "tags": []
   },
   "outputs": [],
   "source": [
    "transfomer = model.transformer(\n",
    "    instance_count=1,\n",
    "    instance_type=\"ml.m4.xlarge\",\n",
    "    accept=\"text/csv\",\n",
    "    assemble_with=\"Line\",\n",
    ")\n",
    "\n",
    "transfomer.transform(\n",
    "    \"s3://{}/transform-input\".format(bucket),\n",
    "    content_type=\"text/csv\",\n",
    "    split_type=\"Line\",\n",
    "    # configure the data capturing\n",
    "    batch_data_capture_config=BatchDataCaptureConfig(\n",
    "        destination_s3_uri=s3_capture_upload_path,\n",
    "    ),\n",
    "    wait=True,\n",
    ")"
   ]
  },
  {
   "cell_type": "markdown",
   "id": "7265752d",
   "metadata": {},
   "source": [
    "### 4) 배치 변환 캡처 데이터 검사하기\n",
    "\n",
    "`s3_capture_upload_path` 아래에는 두 개의 디렉토리가 있습니다. 하나는 `/input`이고 다른 하나는 `/output`입니다. `/input` 아래에는 변환 입력에 대한 캡처된 데이터 파일이 있고, `/output` 아래에는 변환 출력에 대한 캡처된 데이터 파일이 있습니다. 배치 변환 데이터 캡처는 엔드포인트 데이터 캡처와 달리, 데이터를 캡처하여 s3에 로그하지 않습니다. 이는 엄청난 양의 중복을 생성할 수 있기 때문입니다. 대신, 배치 변환은 매니페스트에 데이터를 캡처합니다. 매니페스트에는 소스 변환 입력 또는 출력 s3 위치가 포함됩니다.\n",
    "\n",
    "캡처된 데이터를 살펴보겠습니다."
   ]
  },
  {
   "cell_type": "code",
   "execution_count": null,
   "id": "11a6e2ba",
   "metadata": {
    "tags": []
   },
   "outputs": [],
   "source": [
    "!aws s3 ls {s3_capture_upload_path}/input/ --recursive"
   ]
  },
  {
   "cell_type": "code",
   "execution_count": null,
   "id": "96ed6b1e",
   "metadata": {
    "tags": []
   },
   "outputs": [],
   "source": [
    "s3 = boto3.client(\"s3\")\n",
    "\n",
    "captured_input_s3_key = [\n",
    "    k[\"Key\"]\n",
    "    for k in s3.list_objects_v2(Bucket=bucket, Prefix=f\"{data_capture_prefix}/input/\")[\"Contents\"]\n",
    "]\n",
    "assert len(captured_input_s3_key) > 0"
   ]
  },
  {
   "cell_type": "code",
   "execution_count": null,
   "id": "ec0cc3f7",
   "metadata": {
    "tags": []
   },
   "outputs": [],
   "source": [
    "sample_input_body = s3.get_object(Bucket=bucket, Key=captured_input_s3_key[0])[\"Body\"]\n",
    "sample_input_content = json.loads(sample_input_body.read())"
   ]
  },
  {
   "cell_type": "code",
   "execution_count": null,
   "id": "07e06e86",
   "metadata": {
    "tags": []
   },
   "outputs": [],
   "source": [
    "sample_input_content"
   ]
  },
  {
   "cell_type": "markdown",
   "id": "329ba8be",
   "metadata": {},
   "source": [
    "데이터 중복을 피하기 위해 캡처된 데이터는 매니페스트 파일입니다. 각 매니페스트는 소스 객체의 Amazon S3 위치를 포함하는 JSONL 파일입니다."
   ]
  },
  {
   "cell_type": "code",
   "execution_count": null,
   "id": "40effcc2",
   "metadata": {
    "tags": []
   },
   "outputs": [],
   "source": [
    "!aws s3 ls {s3_capture_upload_path}/output/ --recursive"
   ]
  },
  {
   "cell_type": "code",
   "execution_count": null,
   "id": "a5d6cc21",
   "metadata": {
    "tags": []
   },
   "outputs": [],
   "source": [
    "captured_input_s3_key = [\n",
    "    k[\"Key\"]\n",
    "    for k in s3.list_objects_v2(Bucket=bucket, Prefix=f\"{data_capture_prefix}/output/\")[\"Contents\"]\n",
    "]\n",
    "assert len(captured_input_s3_key) > 0\n",
    "sample_output_body = s3.get_object(Bucket=bucket, Key=captured_input_s3_key[0])[\"Body\"]\n",
    "sample_output_content = json.loads(sample_output_body.read())"
   ]
  },
  {
   "cell_type": "code",
   "execution_count": null,
   "id": "2cceca3d",
   "metadata": {
    "tags": []
   },
   "outputs": [],
   "source": [
    "sample_output_content"
   ]
  },
  {
   "cell_type": "markdown",
   "id": "b12aa8a0",
   "metadata": {},
   "source": [
    "요약하자면, 새로운 매개변수를 사용하여 배치 변환 작업의 입력 또는 출력 페이로드를 캡처하는 방법을 확인했습니다. 또한 Amazon S3에서 캡처된 형식이 어떻게 보이는지도 확인했습니다. 다음으로, Amazon SageMaker가 Amazon S3에서 수집된 데이터를 모니터링하는 데 어떻게 도움이 되는지 계속 살펴보겠습니다."
   ]
  },
  {
   "cell_type": "markdown",
   "id": "9f7498bc",
   "metadata": {
    "tags": []
   },
   "source": [
    "## 파트 B: 모델 모니터 - 기준선 및 지속적 모니터링\n",
    "\n",
    "### 5) 모델 모니터에서 사용할 기준선 생성하기\n",
    "\n",
    "데이터 수집 외에도 Amazon SageMaker는 배치 변환이 관찰한 데이터를 모니터링하고 평가하는 기능을 제공합니다. 이를 위해:\n",
    "1. 실시간 트래픽과 비교할 기준선을 생성합니다.\n",
    "1. 기준선이 준비되면 지속적으로 평가하고 기준선과 비교하는 일정을 설정합니다.\n",
    "\n",
    "일반적으로 이 작업은 변환 작업과 병행하여 수행할 수 있습니다.\n",
    "\n",
    "모델을 훈련시킨 훈련 데이터셋은 일반적으로 좋은 기준선 데이터셋입니다. 훈련 데이터셋 스키마와 추론 데이터셋 스키마가 정확히 일치해야 합니다(즉, 특성의 수와 순서).\n",
    "\n",
    "훈련 데이터셋에서 Amazon SageMaker에게 기준선 `제약 조건` 세트를 제안하고 데이터를 탐색하기 위한 설명적 `통계`를 생성하도록 요청할 수 있습니다. 이 예제에서는 이 예제에 포함된 사전 훈련된 모델을 훈련하는 데 사용된 훈련 데이터셋을 업로드합니다. Amazon S3에 이미 있는 경우 직접 가리킬 수 있습니다."
   ]
  },
  {
   "cell_type": "code",
   "execution_count": null,
   "id": "9da312ed",
   "metadata": {
    "tags": []
   },
   "outputs": [],
   "source": [
    "# copy over the training dataset to Amazon S3 (if you already have it in Amazon S3, you could reuse it)\n",
    "baseline_prefix = prefix + \"/baselining\"\n",
    "baseline_data_prefix = baseline_prefix + \"/data\"\n",
    "baseline_results_prefix = baseline_prefix + \"/results\"\n",
    "\n",
    "baseline_data_uri = \"s3://{}/{}\".format(bucket, baseline_data_prefix)\n",
    "baseline_results_uri = \"s3://{}/{}\".format(bucket, baseline_results_prefix)\n",
    "print(\"Baseline data uri: {}\".format(baseline_data_uri))\n",
    "print(\"Baseline results uri: {}\".format(baseline_results_uri))"
   ]
  },
  {
   "cell_type": "code",
   "execution_count": null,
   "id": "3ca02160",
   "metadata": {
    "tags": []
   },
   "outputs": [],
   "source": [
    "training_data_file = open(\"test_data/training-dataset-with-header.csv\", \"rb\")\n",
    "s3_key = os.path.join(baseline_prefix, \"data\", \"training-dataset-with-header.csv\")\n",
    "boto3.Session().resource(\"s3\").Bucket(bucket).Object(s3_key).upload_fileobj(training_data_file)"
   ]
  },
  {
   "cell_type": "markdown",
   "id": "7cf14fb8",
   "metadata": {},
   "source": [
    "이제 Amazon S3에 훈련 데이터가 준비되었으므로, 제약 조건을 `제안`하는 작업을 시작합니다. `DefaultModelMonitor.suggest_baseline(..)` 은 제약 조건을 생성하기 위해 Amazon SageMaker에서 제공하는 Model Monitor 컨테이너를 사용하여 `ProcessingJob`을 시작합니다."
   ]
  },
  {
   "cell_type": "code",
   "execution_count": null,
   "id": "e8c4f9a3",
   "metadata": {
    "tags": []
   },
   "outputs": [],
   "source": [
    "from sagemaker.model_monitor import DefaultModelMonitor\n",
    "from sagemaker.model_monitor.dataset_format import DatasetFormat\n",
    "\n",
    "my_default_monitor = DefaultModelMonitor(\n",
    "    role=role,\n",
    "    instance_count=1,\n",
    "    instance_type=\"ml.m5.xlarge\",\n",
    "    volume_size_in_gb=20,\n",
    "    max_runtime_in_seconds=3600,\n",
    ")\n",
    "\n",
    "my_default_monitor.suggest_baseline(\n",
    "    baseline_dataset=baseline_data_uri + \"/training-dataset-with-header.csv\",\n",
    "    dataset_format=DatasetFormat.csv(header=True),\n",
    "    output_s3_uri=baseline_results_uri,\n",
    "    wait=True,\n",
    ")"
   ]
  },
  {
   "cell_type": "markdown",
   "id": "ecb826b6",
   "metadata": {
    "tags": []
   },
   "source": [
    "### 생성된 제약 조건 및 통계 탐색"
   ]
  },
  {
   "cell_type": "code",
   "execution_count": null,
   "id": "48e9d251",
   "metadata": {
    "tags": []
   },
   "outputs": [],
   "source": [
    "s3_client = boto3.Session().client(\"s3\")\n",
    "result = s3_client.list_objects(Bucket=bucket, Prefix=baseline_results_prefix)\n",
    "report_files = [report_file.get(\"Key\") for report_file in result.get(\"Contents\")]\n",
    "print(\"Found Files:\")\n",
    "print(\"\\n \".join(report_files))"
   ]
  },
  {
   "cell_type": "code",
   "execution_count": null,
   "id": "12356be7",
   "metadata": {
    "tags": []
   },
   "outputs": [],
   "source": [
    "import pandas as pd\n",
    "\n",
    "baseline_job = my_default_monitor.latest_baselining_job\n",
    "schema_df = pd.json_normalize(baseline_job.baseline_statistics().body_dict[\"features\"])\n",
    "schema_df.head(10)"
   ]
  },
  {
   "cell_type": "code",
   "execution_count": null,
   "id": "9f446756",
   "metadata": {
    "tags": []
   },
   "outputs": [],
   "source": [
    "constraints_df = pd.json_normalize(\n",
    "    baseline_job.suggested_constraints().body_dict[\"features\"]\n",
    ")\n",
    "constraints_df.head(10)"
   ]
  },
  {
   "cell_type": "markdown",
   "id": "9fda65e4",
   "metadata": {},
   "source": [
    "### 6) 모니터링 일정"
   ]
  },
  {
   "cell_type": "markdown",
   "id": "7222550d",
   "metadata": {},
   "source": [
    "### 일정 생성"
   ]
  },
  {
   "cell_type": "markdown",
   "id": "035651f3",
   "metadata": {},
   "source": [
    "모델 모니터링 일정을 생성할 수 있습니다. 기준 리소스(제약 조건 및 통계)를 사용하여 배치 변환 추론 입력 및 출력과 비교합니다."
   ]
  },
  {
   "cell_type": "code",
   "execution_count": null,
   "id": "53f23059",
   "metadata": {
    "tags": []
   },
   "outputs": [],
   "source": [
    "from sagemaker.model_monitor import CronExpressionGenerator\n",
    "from sagemaker.model_monitor import BatchTransformInput\n",
    "from sagemaker.model_monitor import MonitoringDatasetFormat\n",
    "from time import gmtime, strftime\n",
    "\n",
    "statistics_path = \"{}/statistics.json\".format(baseline_results_uri)\n",
    "constraints_path = \"{}/constraints.json\".format(baseline_results_uri)\n",
    "\n",
    "mon_schedule_name = \"DEMO-xgb-churn-pred-model-monitor-schedule-\" + strftime(\n",
    "    \"%Y-%m-%d-%H-%M-%S\", gmtime()\n",
    ")\n",
    "my_default_monitor.create_monitoring_schedule(\n",
    "    monitor_schedule_name=mon_schedule_name,\n",
    "    batch_transform_input=BatchTransformInput(\n",
    "        data_captured_destination_s3_uri=s3_capture_upload_path,\n",
    "        destination=\"/opt/ml/processing/input\",\n",
    "        dataset_format=MonitoringDatasetFormat.csv(header=False),\n",
    "    ),\n",
    "    output_s3_uri=s3_report_path,\n",
    "    statistics=statistics_path,\n",
    "    constraints=constraints_path,\n",
    "    schedule_cron_expression=CronExpressionGenerator.hourly(),\n",
    "    enable_cloudwatch_metrics=True,\n",
    ")"
   ]
  },
  {
   "cell_type": "markdown",
   "id": "b29b064a",
   "metadata": {},
   "source": [
    "---"
   ]
  },
  {
   "cell_type": "markdown",
   "id": "d46bfafa",
   "metadata": {},
   "source": [
    "### 7) 일정 설명 및 검사\n",
    "\n",
    "일정을 설명하면 MonitoringScheduleStatus가 Scheduled로 변경되는 것을 확인할 수 있습니다."
   ]
  },
  {
   "cell_type": "code",
   "execution_count": null,
   "id": "416ca754",
   "metadata": {
    "tags": []
   },
   "outputs": [],
   "source": [
    "desc_schedule_result = my_default_monitor.describe_schedule()\n",
    "print(\"Schedule status: {}\".format(desc_schedule_result[\"MonitoringScheduleStatus\"]))"
   ]
  },
  {
   "cell_type": "markdown",
   "id": "828847d9",
   "metadata": {},
   "source": [
    "### 실행 목록 조회\n",
    "일정은 이전에 지정한 간격으로 작업을 시작합니다. 여기서는 최근 다섯 개의 실행을 나열합니다. 시간별 일정을 생성한 후 이를 실행하는 경우 실행 목록이 비어 있을 수 있습니다. 실행이 시작되는 것을 보려면 (UTC 기준) 시간 경계를 넘어갈 때까지 기다려야 할 수 있습니다. 아래 코드에는 대기 로직이 포함되어 있습니다.\n",
    "\n",
    "참고: 시간별 일정이라도 Amazon SageMaker는 실행을 예약하기 위한 20분의 버퍼 기간을 가집니다. 실행이 시간 경계로부터 0분에서 약 20분 사이에 시작되는 것을 볼 수 있습니다. 이는 예상된 동작이며 백엔드의 부하 분산을 위해 수행됩니다."
   ]
  },
  {
   "cell_type": "code",
   "execution_count": null,
   "id": "17b393da",
   "metadata": {
    "scrolled": true,
    "tags": []
   },
   "outputs": [],
   "source": [
    "import time\n",
    "\n",
    "mon_executions = my_default_monitor.list_executions()\n",
    "print(\n",
    "    \"We created a hourly schedule above and it will kick off executions ON the hour (plus 0 - 20 min buffer.\\nWe will have to wait till we hit the hour...\"\n",
    ")\n",
    "\n",
    "while len(mon_executions) == 0:\n",
    "    print(\"Waiting for the 1st execution to happen...\")\n",
    "    time.sleep(60)\n",
    "    mon_executions = my_default_monitor.list_executions()"
   ]
  },
  {
   "cell_type": "markdown",
   "id": "ce087acd",
   "metadata": {},
   "source": [
    "### 특정 실행 검사(최신 실행)\n",
    "이전 셀에서 최근에 완료되거나 실패한 예약된 실행을 선택했습니다. 다음은 가능한 최종 상태와 각각의 의미입니다:\n",
    "* Completed - 모니터링 실행이 완료되었으며 위반 보고서에서 문제가 발견되지 않았음을 의미합니다.\n",
    "* CompletedWithViolations - 실행은 완료되었지만 제약 조건 위반이 감지되었음을 의미합니다.\n",
    "* Failed - 모니터링 실행이 실패했습니다. 클라이언트 오류(아마도 잘못된 역할 권한) 또는 인프라 문제 때문일 수 있습니다. 정확히 무슨 일이 일어났는지 확인하려면 FailureReason과 ExitMessage를 추가로 검토해야 합니다.\n",
    "* Stopped - 작업이 최대 실행 시간을 초과했거나 수동으로 중지되었습니다."
   ]
  },
  {
   "cell_type": "code",
   "execution_count": null,
   "id": "60940f1e",
   "metadata": {
    "tags": []
   },
   "outputs": [],
   "source": [
    "latest_execution = mon_executions[\n",
    "    -1\n",
    "]  # latest execution's index is -1, second to last is -2 and so on..\n",
    "# time.sleep(60)\n",
    "latest_execution.wait(logs=False)\n",
    "\n",
    "print(\"Latest execution status: {}\".format(latest_execution.describe()[\"ProcessingJobStatus\"]))\n",
    "print(\"Latest execution result: {}\".format(latest_execution.describe()[\"ExitMessage\"]))\n",
    "\n",
    "latest_job = latest_execution.describe()\n",
    "if latest_job[\"ProcessingJobStatus\"] != \"Completed\":\n",
    "    print(\n",
    "        \"====STOP==== \\n No completed executions to inspect further. Please wait till an execution completes or investigate previously reported failures.\"\n",
    "    )"
   ]
  },
  {
   "cell_type": "code",
   "execution_count": null,
   "id": "aa3d20ea",
   "metadata": {},
   "outputs": [],
   "source": [
    "report_uri = latest_execution.output.destination\n",
    "print(\"Report Uri: {}\".format(report_uri))"
   ]
  },
  {
   "cell_type": "markdown",
   "id": "a6ec3910",
   "metadata": {},
   "source": [
    "### 생성된 보고서 목록"
   ]
  },
  {
   "cell_type": "code",
   "execution_count": null,
   "id": "c2e95f6c",
   "metadata": {},
   "outputs": [],
   "source": [
    "from urllib.parse import urlparse\n",
    "\n",
    "s3uri = urlparse(report_uri)\n",
    "report_bucket = s3uri.netloc\n",
    "report_key = s3uri.path.lstrip(\"/\")\n",
    "print(\"Report bucket: {}\".format(report_bucket))\n",
    "print(\"Report key: {}\".format(report_key))\n",
    "\n",
    "s3_client = boto3.Session().client(\"s3\")\n",
    "result = s3_client.list_objects(Bucket=report_bucket, Prefix=report_key)\n",
    "report_files = [report_file.get(\"Key\") for report_file in result.get(\"Contents\")]\n",
    "print(\"Found Report Files:\")\n",
    "print(\"\\n \".join(report_files))"
   ]
  },
  {
   "cell_type": "markdown",
   "id": "a7607ed2",
   "metadata": {},
   "source": [
    "### 위반 보고서"
   ]
  },
  {
   "cell_type": "markdown",
   "id": "93f4c0e6",
   "metadata": {},
   "source": [
    "기준선과 비교하여 위반 사항이 있으면 여기에 나열됩니다."
   ]
  },
  {
   "cell_type": "code",
   "execution_count": null,
   "id": "0b1c8296",
   "metadata": {},
   "outputs": [],
   "source": [
    "violations = my_default_monitor.latest_monitoring_constraint_violations()\n",
    "constraints_df = pd.json_normalize(violations.body_dict[\"violations\"])\n",
    "constraints_df.head(10)"
   ]
  },
  {
   "cell_type": "markdown",
   "id": "ecc0e789",
   "metadata": {},
   "source": [
    "### 기타 명령\n",
    "모니터링 일정을 시작하고 중지할 수도 있습니다."
   ]
  },
  {
   "cell_type": "code",
   "execution_count": null,
   "id": "9036be16",
   "metadata": {},
   "outputs": [],
   "source": [
    "# my_default_monitor.stop_monitoring_schedule()\n",
    "# my_default_monitor.start_monitoring_schedule()"
   ]
  },
  {
   "cell_type": "markdown",
   "id": "a5879e05",
   "metadata": {},
   "source": [
    "## 8) 리소스 삭제"
   ]
  },
  {
   "cell_type": "code",
   "execution_count": null,
   "id": "fef16564",
   "metadata": {},
   "outputs": [],
   "source": [
    "# my_default_monitor.stop_monitoring_schedule()\n",
    "# my_default_monitor.delete_monitoring_schedule()\n",
    "# time.sleep(60)  # actually wait for the deletion"
   ]
  },
  {
   "cell_type": "code",
   "execution_count": null,
   "id": "3769187a",
   "metadata": {
    "scrolled": true
   },
   "outputs": [],
   "source": [
    "# predictor.delete_model()"
   ]
  }
 ],
 "metadata": {
  "anaconda-cloud": {},
  "availableInstances": [
   {
    "_defaultOrder": 0,
    "_isFastLaunch": true,
    "category": "General purpose",
    "gpuNum": 0,
    "memoryGiB": 4,
    "name": "ml.t3.medium",
    "vcpuNum": 2
   },
   {
    "_defaultOrder": 1,
    "_isFastLaunch": false,
    "category": "General purpose",
    "gpuNum": 0,
    "memoryGiB": 8,
    "name": "ml.t3.large",
    "vcpuNum": 2
   },
   {
    "_defaultOrder": 2,
    "_isFastLaunch": false,
    "category": "General purpose",
    "gpuNum": 0,
    "memoryGiB": 16,
    "name": "ml.t3.xlarge",
    "vcpuNum": 4
   },
   {
    "_defaultOrder": 3,
    "_isFastLaunch": false,
    "category": "General purpose",
    "gpuNum": 0,
    "memoryGiB": 32,
    "name": "ml.t3.2xlarge",
    "vcpuNum": 8
   },
   {
    "_defaultOrder": 4,
    "_isFastLaunch": true,
    "category": "General purpose",
    "gpuNum": 0,
    "memoryGiB": 8,
    "name": "ml.m5.large",
    "vcpuNum": 2
   },
   {
    "_defaultOrder": 5,
    "_isFastLaunch": false,
    "category": "General purpose",
    "gpuNum": 0,
    "memoryGiB": 16,
    "name": "ml.m5.xlarge",
    "vcpuNum": 4
   },
   {
    "_defaultOrder": 6,
    "_isFastLaunch": false,
    "category": "General purpose",
    "gpuNum": 0,
    "memoryGiB": 32,
    "name": "ml.m5.2xlarge",
    "vcpuNum": 8
   },
   {
    "_defaultOrder": 7,
    "_isFastLaunch": false,
    "category": "General purpose",
    "gpuNum": 0,
    "memoryGiB": 64,
    "name": "ml.m5.4xlarge",
    "vcpuNum": 16
   },
   {
    "_defaultOrder": 8,
    "_isFastLaunch": false,
    "category": "General purpose",
    "gpuNum": 0,
    "memoryGiB": 128,
    "name": "ml.m5.8xlarge",
    "vcpuNum": 32
   },
   {
    "_defaultOrder": 9,
    "_isFastLaunch": false,
    "category": "General purpose",
    "gpuNum": 0,
    "memoryGiB": 192,
    "name": "ml.m5.12xlarge",
    "vcpuNum": 48
   },
   {
    "_defaultOrder": 10,
    "_isFastLaunch": false,
    "category": "General purpose",
    "gpuNum": 0,
    "memoryGiB": 256,
    "name": "ml.m5.16xlarge",
    "vcpuNum": 64
   },
   {
    "_defaultOrder": 11,
    "_isFastLaunch": false,
    "category": "General purpose",
    "gpuNum": 0,
    "memoryGiB": 384,
    "name": "ml.m5.24xlarge",
    "vcpuNum": 96
   },
   {
    "_defaultOrder": 12,
    "_isFastLaunch": false,
    "category": "General purpose",
    "gpuNum": 0,
    "memoryGiB": 8,
    "name": "ml.m5d.large",
    "vcpuNum": 2
   },
   {
    "_defaultOrder": 13,
    "_isFastLaunch": false,
    "category": "General purpose",
    "gpuNum": 0,
    "memoryGiB": 16,
    "name": "ml.m5d.xlarge",
    "vcpuNum": 4
   },
   {
    "_defaultOrder": 14,
    "_isFastLaunch": false,
    "category": "General purpose",
    "gpuNum": 0,
    "memoryGiB": 32,
    "name": "ml.m5d.2xlarge",
    "vcpuNum": 8
   },
   {
    "_defaultOrder": 15,
    "_isFastLaunch": false,
    "category": "General purpose",
    "gpuNum": 0,
    "memoryGiB": 64,
    "name": "ml.m5d.4xlarge",
    "vcpuNum": 16
   },
   {
    "_defaultOrder": 16,
    "_isFastLaunch": false,
    "category": "General purpose",
    "gpuNum": 0,
    "memoryGiB": 128,
    "name": "ml.m5d.8xlarge",
    "vcpuNum": 32
   },
   {
    "_defaultOrder": 17,
    "_isFastLaunch": false,
    "category": "General purpose",
    "gpuNum": 0,
    "memoryGiB": 192,
    "name": "ml.m5d.12xlarge",
    "vcpuNum": 48
   },
   {
    "_defaultOrder": 18,
    "_isFastLaunch": false,
    "category": "General purpose",
    "gpuNum": 0,
    "memoryGiB": 256,
    "name": "ml.m5d.16xlarge",
    "vcpuNum": 64
   },
   {
    "_defaultOrder": 19,
    "_isFastLaunch": false,
    "category": "General purpose",
    "gpuNum": 0,
    "memoryGiB": 384,
    "name": "ml.m5d.24xlarge",
    "vcpuNum": 96
   },
   {
    "_defaultOrder": 20,
    "_isFastLaunch": true,
    "category": "Compute optimized",
    "gpuNum": 0,
    "memoryGiB": 4,
    "name": "ml.c5.large",
    "vcpuNum": 2
   },
   {
    "_defaultOrder": 21,
    "_isFastLaunch": false,
    "category": "Compute optimized",
    "gpuNum": 0,
    "memoryGiB": 8,
    "name": "ml.c5.xlarge",
    "vcpuNum": 4
   },
   {
    "_defaultOrder": 22,
    "_isFastLaunch": false,
    "category": "Compute optimized",
    "gpuNum": 0,
    "memoryGiB": 16,
    "name": "ml.c5.2xlarge",
    "vcpuNum": 8
   },
   {
    "_defaultOrder": 23,
    "_isFastLaunch": false,
    "category": "Compute optimized",
    "gpuNum": 0,
    "memoryGiB": 32,
    "name": "ml.c5.4xlarge",
    "vcpuNum": 16
   },
   {
    "_defaultOrder": 24,
    "_isFastLaunch": false,
    "category": "Compute optimized",
    "gpuNum": 0,
    "memoryGiB": 72,
    "name": "ml.c5.9xlarge",
    "vcpuNum": 36
   },
   {
    "_defaultOrder": 25,
    "_isFastLaunch": false,
    "category": "Compute optimized",
    "gpuNum": 0,
    "memoryGiB": 96,
    "name": "ml.c5.12xlarge",
    "vcpuNum": 48
   },
   {
    "_defaultOrder": 26,
    "_isFastLaunch": false,
    "category": "Compute optimized",
    "gpuNum": 0,
    "memoryGiB": 144,
    "name": "ml.c5.18xlarge",
    "vcpuNum": 72
   },
   {
    "_defaultOrder": 27,
    "_isFastLaunch": false,
    "category": "Compute optimized",
    "gpuNum": 0,
    "memoryGiB": 192,
    "name": "ml.c5.24xlarge",
    "vcpuNum": 96
   },
   {
    "_defaultOrder": 28,
    "_isFastLaunch": true,
    "category": "Accelerated computing",
    "gpuNum": 1,
    "memoryGiB": 16,
    "name": "ml.g4dn.xlarge",
    "vcpuNum": 4
   },
   {
    "_defaultOrder": 29,
    "_isFastLaunch": false,
    "category": "Accelerated computing",
    "gpuNum": 1,
    "memoryGiB": 32,
    "name": "ml.g4dn.2xlarge",
    "vcpuNum": 8
   },
   {
    "_defaultOrder": 30,
    "_isFastLaunch": false,
    "category": "Accelerated computing",
    "gpuNum": 1,
    "memoryGiB": 64,
    "name": "ml.g4dn.4xlarge",
    "vcpuNum": 16
   },
   {
    "_defaultOrder": 31,
    "_isFastLaunch": false,
    "category": "Accelerated computing",
    "gpuNum": 1,
    "memoryGiB": 128,
    "name": "ml.g4dn.8xlarge",
    "vcpuNum": 32
   },
   {
    "_defaultOrder": 32,
    "_isFastLaunch": false,
    "category": "Accelerated computing",
    "gpuNum": 4,
    "memoryGiB": 192,
    "name": "ml.g4dn.12xlarge",
    "vcpuNum": 48
   },
   {
    "_defaultOrder": 33,
    "_isFastLaunch": false,
    "category": "Accelerated computing",
    "gpuNum": 1,
    "memoryGiB": 256,
    "name": "ml.g4dn.16xlarge",
    "vcpuNum": 64
   },
   {
    "_defaultOrder": 34,
    "_isFastLaunch": false,
    "category": "Accelerated computing",
    "gpuNum": 1,
    "memoryGiB": 61,
    "name": "ml.p3.2xlarge",
    "vcpuNum": 8
   },
   {
    "_defaultOrder": 35,
    "_isFastLaunch": false,
    "category": "Accelerated computing",
    "gpuNum": 4,
    "memoryGiB": 244,
    "name": "ml.p3.8xlarge",
    "vcpuNum": 32
   },
   {
    "_defaultOrder": 36,
    "_isFastLaunch": false,
    "category": "Accelerated computing",
    "gpuNum": 8,
    "memoryGiB": 488,
    "name": "ml.p3.16xlarge",
    "vcpuNum": 64
   },
   {
    "_defaultOrder": 37,
    "_isFastLaunch": false,
    "category": "Accelerated computing",
    "gpuNum": 8,
    "memoryGiB": 768,
    "name": "ml.p3dn.24xlarge",
    "vcpuNum": 96
   },
   {
    "_defaultOrder": 38,
    "_isFastLaunch": false,
    "category": "Memory Optimized",
    "gpuNum": 0,
    "memoryGiB": 16,
    "name": "ml.r5.large",
    "vcpuNum": 2
   },
   {
    "_defaultOrder": 39,
    "_isFastLaunch": false,
    "category": "Memory Optimized",
    "gpuNum": 0,
    "memoryGiB": 32,
    "name": "ml.r5.xlarge",
    "vcpuNum": 4
   },
   {
    "_defaultOrder": 40,
    "_isFastLaunch": false,
    "category": "Memory Optimized",
    "gpuNum": 0,
    "memoryGiB": 64,
    "name": "ml.r5.2xlarge",
    "vcpuNum": 8
   },
   {
    "_defaultOrder": 41,
    "_isFastLaunch": false,
    "category": "Memory Optimized",
    "gpuNum": 0,
    "memoryGiB": 128,
    "name": "ml.r5.4xlarge",
    "vcpuNum": 16
   },
   {
    "_defaultOrder": 42,
    "_isFastLaunch": false,
    "category": "Memory Optimized",
    "gpuNum": 0,
    "memoryGiB": 256,
    "name": "ml.r5.8xlarge",
    "vcpuNum": 32
   },
   {
    "_defaultOrder": 43,
    "_isFastLaunch": false,
    "category": "Memory Optimized",
    "gpuNum": 0,
    "memoryGiB": 384,
    "name": "ml.r5.12xlarge",
    "vcpuNum": 48
   },
   {
    "_defaultOrder": 44,
    "_isFastLaunch": false,
    "category": "Memory Optimized",
    "gpuNum": 0,
    "memoryGiB": 512,
    "name": "ml.r5.16xlarge",
    "vcpuNum": 64
   },
   {
    "_defaultOrder": 45,
    "_isFastLaunch": false,
    "category": "Memory Optimized",
    "gpuNum": 0,
    "memoryGiB": 768,
    "name": "ml.r5.24xlarge",
    "vcpuNum": 96
   },
   {
    "_defaultOrder": 46,
    "_isFastLaunch": false,
    "category": "Accelerated computing",
    "gpuNum": 1,
    "memoryGiB": 16,
    "name": "ml.g5.xlarge",
    "vcpuNum": 4
   },
   {
    "_defaultOrder": 47,
    "_isFastLaunch": false,
    "category": "Accelerated computing",
    "gpuNum": 1,
    "memoryGiB": 32,
    "name": "ml.g5.2xlarge",
    "vcpuNum": 8
   },
   {
    "_defaultOrder": 48,
    "_isFastLaunch": false,
    "category": "Accelerated computing",
    "gpuNum": 1,
    "memoryGiB": 64,
    "name": "ml.g5.4xlarge",
    "vcpuNum": 16
   },
   {
    "_defaultOrder": 49,
    "_isFastLaunch": false,
    "category": "Accelerated computing",
    "gpuNum": 1,
    "memoryGiB": 128,
    "name": "ml.g5.8xlarge",
    "vcpuNum": 32
   },
   {
    "_defaultOrder": 50,
    "_isFastLaunch": false,
    "category": "Accelerated computing",
    "gpuNum": 1,
    "memoryGiB": 256,
    "name": "ml.g5.16xlarge",
    "vcpuNum": 64
   },
   {
    "_defaultOrder": 51,
    "_isFastLaunch": false,
    "category": "Accelerated computing",
    "gpuNum": 4,
    "memoryGiB": 192,
    "name": "ml.g5.12xlarge",
    "vcpuNum": 48
   },
   {
    "_defaultOrder": 52,
    "_isFastLaunch": false,
    "category": "Accelerated computing",
    "gpuNum": 4,
    "memoryGiB": 384,
    "name": "ml.g5.24xlarge",
    "vcpuNum": 96
   },
   {
    "_defaultOrder": 53,
    "_isFastLaunch": false,
    "category": "Accelerated computing",
    "gpuNum": 8,
    "memoryGiB": 768,
    "name": "ml.g5.48xlarge",
    "vcpuNum": 192
   }
  ],
  "kernelspec": {
   "display_name": "Python 3 (ipykernel)",
   "language": "python",
   "name": "python3"
  },
  "language_info": {
   "codemirror_mode": {
    "name": "ipython",
    "version": 3
   },
   "file_extension": ".py",
   "mimetype": "text/x-python",
   "name": "python",
   "nbconvert_exporter": "python",
   "pygments_lexer": "ipython3",
   "version": "3.10.14"
  },
  "notice": "Copyright 2017 Amazon.com, Inc. or its affiliates. All Rights Reserved.  Licensed under the Apache License, Version 2.0 (the \"License\"). You may not use this file except in compliance with the License. A copy of the License is located at http://aws.amazon.com/apache2.0/ or in the \"license\" file accompanying this file. This file is distributed on an \"AS IS\" BASIS, WITHOUT WARRANTIES OR CONDITIONS OF ANY KIND, either express or implied. See the License for the specific language governing permissions and limitations under the License."
 },
 "nbformat": 4,
 "nbformat_minor": 5
}
