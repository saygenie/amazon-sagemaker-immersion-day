{
 "cells": [
  {
   "cell_type": "markdown",
   "id": "eb4f9b7e",
   "metadata": {},
   "source": [
    "# SageMaker JumpStart - 이미지 생성"
   ]
  },
  {
   "cell_type": "markdown",
   "id": "7ce18b8d",
   "metadata": {},
   "source": [
    "***\n",
    "Amazon [SageMaker JumpStart](https://docs.aws.amazon.com/sagemaker/latest/dg/studio-jumpstart.html)에 오신 것을 환영합니다! JumpStart를 사용하면 SageMaker Studio에서 원클릭으로 또는 [SageMaker JumpStart API](https://sagemaker.readthedocs.io/en/stable/overview.html#use-prebuilt-models-with-sagemaker-jumpstart)를 통해 다양한 머신 러닝 작업을 해결할 수 있습니다. 이 데모 노트북에서는 JumpStart API를 사용하여 최첨단 Stable Diffusion 모델로 텍스트에서 이미지를 생성하는 방법을 보여드립니다. 또한 모델을 사용자의 데이터셋에 맞게 미세 조정하는 방법도 보여드립니다.\n",
    "\n",
    "Stable Diffusion은 텍스트 프롬프트만으로 사실적인 이미지를 생성할 수 있게 해주는 텍스트-이미지 변환 모델입니다. 확산 모델은 실제 이미지에 추가된 노이즈를 제거하는 방법을 학습함으로써 훈련됩니다. 이 노이즈 제거 과정은 사실적인 이미지를 생성합니다. 이러한 모델은 생성 과정을 텍스트에 조건화함으로써 텍스트만으로도 이미지를 생성할 수 있습니다. 예를 들어, Stable Diffusion은 잠재 확산 모델로, 순수한 노이즈 이미지에서 형태를 인식하고 이러한 형태가 입력 텍스트의 단어와 일치하면 점진적으로 이 형태들을 선명하게 만듭니다.\n",
    "\n",
    "Stable Diffusion과 같은 대규모 모델을 훈련하고 배포하며 추론을 실행하는 것은 종종 cuda 메모리 부족, 페이로드 크기 제한 초과 등과 같은 문제를 포함하여 어려운 과정입니다. JumpStart는 철저히 테스트된 즉시 사용 가능한 스크립트를 제공함으로써 이 과정을 단순화합니다. 또한 권장 인스턴스 유형, 이미지 생성 과정을 안내하는 매개변수 선택 방법, 프롬프트 엔지니어링 등 프로세스의 각 단계에 대한 지침을 제공합니다. 더욱이, 자체 코드를 작성하지 않고도 JumpStart의 80개 이상의 확산 모델 중 어느 것이든 배포하고 추론을 실행할 수 있습니다.\n",
    "\n",
    "이 노트북에서는 JumpStart를 사용하여 어떤 주제/물체/환경/장면이든 매우 사실적이고 예술적인 이미지를 생성하는 방법을 배우게 됩니다. 이는 귀여운 강아지의 이미지처럼 간단할 수도 있고, 극적인 일몰 조명과 긴 그림자가 있는 시네마틱한 분위기의 greg rutkowski 스타일로 pixer가 아름답게 장식한 아늑한 주방의 초현실적 이미지처럼 상세할 수도 있습니다. 이는 이커머스 비즈니스 요구를 위한 제품 디자인 및 카탈로그 구축, 또는 사실적인 예술 작품이나 스톡 이미지 생성에 활용될 수 있습니다.\n",
    "\n",
    "\n",
    "모델 라이선스: 이 모델을 사용함으로써, 귀하는 [CreativeML Open RAIL-M++ 라이선스](https://huggingface.co/stabilityai/stable-diffusion-2/blob/main/LICENSE-MODEL)에 동의하는 것입니다.\n",
    "\n",
    "***"
   ]
  },
  {
   "cell_type": "markdown",
   "id": "98135951",
   "metadata": {},
   "source": [
    "1. [설정](#1.-Set-Up)\n",
    "2. [사전 훈련된 모델로 추론 실행](#2.-Run-inference-on-the-pre-trained-model)\n",
    "    * [모델 선택](#2.1.-Select-a-Model)\n",
    "    * [JumpStart 아티팩트 검색 및 엔드포인트 배포](#2.2.-Retrieve-JumpStart-Artifacts-&-Deploy-an-Endpoint)\n",
    "    * [엔드포인트 쿼리 및 응답 파싱](#2.3.-Query-endpoint-and-parse-response)\n",
    "    * [지원되는 추론 매개변수](#2.4.-Supported-Inference-parameters)\n",
    "    * [압축된 이미지 출력](#2.5.-Compressed-Image-Output)\n",
    "    * [프롬프트 엔지니어링](#2.6.-Prompt-Engineering)"
   ]
  },
  {
   "cell_type": "markdown",
   "id": "700e6d8e",
   "metadata": {},
   "source": [
    "참고: 이 노트북은 Python 3(Data Science 2.0) 커널이 있는 Amazon SageMaker Studio의 ml.t3.medium 인스턴스와 conda_python3 커널이 있는 Amazon SageMaker Notebook 인스턴스에서 테스트되었습니다. Workshop Studio 계정을 사용하는 경우 Data Science 2.0 커널을 사용하고 있는지 확인하세요.\n",
    "\n",
    "참고: 사전 훈련된 모델을 배포하려면 `ml.g4dn.2xlarge` 인스턴스 유형을 사용할 수 있습니다. 해당 리전에서 `ml.g5.2xlarge`를 사용할 수 있다면, 배포에 해당 인스턴스 유형을 사용하는 것을 권장합니다."
   ]
  },
  {
   "cell_type": "markdown",
   "id": "35f32e9b",
   "metadata": {},
   "source": [
    "### 1. Stable diffusion 모델 배포하기"
   ]
  },
  {
   "cell_type": "markdown",
   "id": "4e26970e",
   "metadata": {},
   "source": [
    "***\n",
    "노트북을 실행하기 전에 설정을 위한 몇 가지 초기 단계가 필요합니다. 이 노트북은 sagemaker와 ipywidgets의 최신 버전이 필요합니다.\n",
    "\n",
    "***"
   ]
  },
  {
   "cell_type": "code",
   "execution_count": null,
   "id": "a93443a5",
   "metadata": {
    "tags": []
   },
   "outputs": [],
   "source": [
    "!pip install ipywidgets==7.0.0 --quiet\n",
    "!pip install --upgrade pip\n",
    "!pip install --upgrade sagemaker\n",
    "!pip install langchain\n",
    "!pip install datasets"
   ]
  },
  {
   "cell_type": "markdown",
   "id": "9a9a1d38",
   "metadata": {},
   "source": [
    "#### 권한 및 환경 변수\n",
    "\n",
    "***\n",
    "Amazon SageMaker에서 호스팅하기 위해서는 AWS 서비스 사용을 설정하고 인증해야 합니다. 여기서는 현재 노트북과 연결된 실행 역할을 SageMaker 접근 권한이 있는 AWS 계정 역할로 사용합니다.\n",
    "\n",
    "***"
   ]
  },
  {
   "cell_type": "code",
   "execution_count": null,
   "id": "cce3db44",
   "metadata": {
    "tags": []
   },
   "outputs": [],
   "source": [
    "from sagemaker.predictor import Predictor\n",
    "import sagemaker, boto3, json\n",
    "from sagemaker import get_execution_role\n",
    "from sagemaker.serializers import JSONSerializer\n",
    "from sagemaker.deserializers import JSONDeserializer\n",
    "\n",
    "aws_role = get_execution_role()\n",
    "aws_region = boto3.Session().region_name\n",
    "sess = sagemaker.Session()"
   ]
  },
  {
   "cell_type": "code",
   "execution_count": null,
   "id": "f6794068",
   "metadata": {},
   "outputs": [],
   "source": [
    "model_id = 'model-imagegeneration-stabilityai-stable-diffusion-xl-base-1-0'"
   ]
  },
  {
   "cell_type": "code",
   "execution_count": null,
   "id": "ad46f74a",
   "metadata": {},
   "outputs": [],
   "source": [
    "from sagemaker.jumpstart.model import JumpStartModel\n",
    "\n",
    "try:\n",
    "    model = JumpStartModel(model_id=model_id, instance_type=\"ml.g5.4xlarge\")\n",
    "    predictor = model.deploy()\n",
    "except Exception as e:\n",
    "    print(str(e))"
   ]
  },
  {
   "cell_type": "code",
   "execution_count": null,
   "id": "656336be",
   "metadata": {},
   "outputs": [],
   "source": [
    "endpoint_name =predictor.endpoint_name\n",
    "region = aws_region\n",
    "print(f\"SageMaker Endpoint with Stable Diffusion deployed: {endpoint_name}\")"
   ]
  },
  {
   "cell_type": "markdown",
   "id": "f6385fbf",
   "metadata": {},
   "source": [
    "## 2. 사전 훈련된 모델로 추론 실행하기\n",
    "\n",
    "***\n",
    "\n",
    "JumpStart를 사용하면 새로운 데이터셋으로 먼저 미세 조정하지 않고도 사전 훈련된 모델에서 추론을 수행할 수 있습니다.\n",
    "***"
   ]
  },
  {
   "cell_type": "code",
   "execution_count": null,
   "id": "d951f851",
   "metadata": {
    "tags": []
   },
   "outputs": [],
   "source": [
    "# Create a SageMaker predictor object\n",
    "model_predictor = Predictor(\n",
    "    endpoint_name=endpoint_name,\n",
    "    serializer=JSONSerializer(),\n",
    "    deserializer=JSONDeserializer()\n",
    ")\n",
    "\n",
    "model_predictor.endpoint "
   ]
  },
  {
   "cell_type": "markdown",
   "id": "72bd8d6c",
   "metadata": {},
   "source": [
    "### 2.2 Stable Diffusion 엔드포인트 쿼리하기\n",
    "\n",
    "### 지원되는 기능\n",
    "\n",
    "***\n",
    "이 모델은 추론을 수행하는 동안 많은 고급 매개변수를 지원합니다. 다음과 같은 매개변수가 포함됩니다:\n",
    "\n",
    "* **text**: 이미지 생성을 안내하는 프롬프트. 반드시 지정해야 하며 문자열이어야 합니다.\n",
    "* **width**: 생성된 이미지의 너비. 지정된 경우 8로 나눌 수 있는 양의 정수여야 합니다.\n",
    "* **height**: 생성된 이미지의 높이. 지정된 경우 8로 나눌 수 있는 양의 정수여야 합니다. 이미지 크기는 256x256보다 커야 합니다.\n",
    "* **sampler**: 사용 가능한 샘플러는 EulerEDMSampler, HeunEDMSampler, EulerAncestralSampler, DPMPP2SAncestralSampler, DPMPP2MSampler, LinearMultistepSampler입니다.\n",
    "* **cfg_scale**: cfg_scale 값이 높을수록 이미지 품질을 희생하면서 프롬프트와 더 밀접하게 관련된 이미지가 생성됩니다. 지정된 경우 부동 소수점이어야 합니다. cfg_scale<=1은 무시됩니다.\n",
    "* **steps**: 이미지 생성 중 디노이징 단계 수. 단계가 많을수록 이미지 품질이 높아집니다. 지정된 경우 양의 정수여야 합니다.\n",
    "* **seed**: 재현성을 위해 무작위 상태를 고정합니다. 지정된 경우 정수여야 합니다.\n",
    "* **use_refiner**: 리파이너는 기본적으로 SDXL 모델과 함께 사용됩니다. 이 매개변수를 사용하여 비활성화할 수 있습니다.\n",
    "* **init_image**: 시작점으로 사용할 이미지.\n",
    "* **image_strength**: 참조 이미지를 변환하는 정도를 나타냅니다. 0과 1 사이여야 합니다.\n",
    "* **refiner_steps**: 리파이너의 이미지 생성 중 디노이징 단계 수. 단계가 많을수록 이미지 품질이 높아집니다. 지정된 경우 양의 정수여야 합니다.\n",
    "* **refiner_strength**: 리파이너에 입력 이미지를 변환하는 정도를 나타냅니다.\n",
    "* **negative_prompt**: 이 프롬프트에 반하는 이미지 생성을 안내합니다. 지정된 경우 문자열이어야 합니다. 음수 가중치와 함께 text_prompts에 지정됩니다.\n",
    "\n",
    "\n",
    "***\n",
    "### 텍스트에서 이미지로\n",
    "\n",
    "***"
   ]
  },
  {
   "cell_type": "code",
   "execution_count": null,
   "id": "0ea325d6",
   "metadata": {
    "tags": []
   },
   "outputs": [],
   "source": [
    "from PIL import Image\n",
    "import io\n",
    "import base64\n",
    "import json\n",
    "import boto3\n",
    "from typing import Union, Tuple\n",
    "import os"
   ]
  },
  {
   "cell_type": "code",
   "execution_count": null,
   "id": "357f6bc6",
   "metadata": {
    "tags": []
   },
   "outputs": [],
   "source": [
    "payload = {\n",
    "    \"text_prompts\": [{\"text\": \"jaguar in the Amazon rainforest\"}],\n",
    "    \"width\": 1024,\n",
    "    \"height\": 1024,\n",
    "    \"sampler\": \"DPMPP2MSampler\",\n",
    "    \"cfg_scale\": 7.0,\n",
    "    \"steps\": 50,\n",
    "    \"seed\": 133,\n",
    "    \"use_refiner\": True,\n",
    "    \"refiner_steps\": 40,\n",
    "    \"refiner_strength\": 0.2,\n",
    "}"
   ]
  },
  {
   "cell_type": "code",
   "execution_count": null,
   "id": "5ac2a30f",
   "metadata": {
    "pycharm": {
     "is_executing": true
    },
    "tags": []
   },
   "outputs": [],
   "source": [
    "def decode_and_show(model_response) -> None:\n",
    "    \"\"\"\n",
    "    Decodes and displays an image from SDXL output\n",
    "\n",
    "    Args:\n",
    "        model_response (GenerationResponse): The response object from the deployed  model.\n",
    "\n",
    "    Returns:\n",
    "        None\n",
    "    \"\"\"\n",
    "    image = Image.open(io.BytesIO(base64.b64decode(model_response)))\n",
    "    display(image)\n",
    "    image.close()\n",
    "\n",
    "\n",
    "response = model_predictor.predict(payload)\n",
    "# If you get time out error please check the endpoint logs in cloudWatch for model loading status\n",
    "# and invoke it again\n",
    "decode_and_show(response[\"generated_image\"])"
   ]
  },
  {
   "cell_type": "markdown",
   "id": "d3dfddc8",
   "metadata": {
    "pycharm": {
     "is_executing": true
    },
    "tags": []
   },
   "source": [
    "### 이미지에서 이미지로\n",
    "\n",
    "***\n",
    "이미지를 입력으로 사용하는 추론을 수행하려면 이미지를 base64로 인코딩된 문자열로 init_image에 전달해야 합니다.\n",
    "\n",
    "다음은 이미지를 base64로 인코딩된 문자열로 변환하는 도우미 함수입니다:\n",
    "\n",
    "***### 2.4. 지원되는 추론 매개변수\n",
    "\n",
    "***\n",
    "이 모델은 추론을 수행하는 동안 많은 고급 매개변수도 지원합니다. 다음과 같은 매개변수가 있습니다:\n",
    "\n",
    "* **prompt**: 이미지 생성을 안내하는 프롬프트. 반드시 지정해야 하며 문자열 또는 문자열 목록일 수 있습니다.\n",
    "* **width**: 생성된 이미지의 너비. 지정된 경우 8로 나눌 수 있는 양의 정수여야 합니다.\n",
    "* **height**: 생성된 이미지의 높이. 지정된 경우 8로 나눌 수 있는 양의 정수여야 합니다.\n",
    "* **num_inference_steps**: 이미지 생성 중 디노이징 단계 수. 단계가 많을수록 이미지 품질이 높아집니다. 지정된 경우 양의 정수여야 합니다.\n",
    "* **guidance_scale**: 높은 가이던스 스케일은 이미지 품질을 희생하면서 프롬프트와 밀접하게 관련된 이미지를 생성합니다. 지정된 경우 부동 소수점이어야 합니다. guidance_scale<=1은 무시됩니다.\n",
    "* **negative_prompt**: 이 프롬프트에 반하는 이미지 생성을 안내합니다. 지정된 경우 문자열 또는 문자열 목록이어야 하며 guidance_scale과 함께 사용됩니다. guidance_scale이 비활성화된 경우 이것도 비활성화됩니다. 또한 prompt가 문자열 목록인 경우 negative_prompt도 문자열 목록이어야 합니다.\n",
    "* **num_images_per_prompt**: 프롬프트당 반환되는 이미지 수. 지정된 경우 양의 정수여야 합니다.\n",
    "* **seed**: 재현성을 위해 무작위 상태를 고정합니다. 지정된 경우 정수여야 합니다.\n",
    "\n",
    "***"
   ]
  },
  {
   "cell_type": "code",
   "execution_count": null,
   "id": "dd3fc61a",
   "metadata": {
    "pycharm": {
     "is_executing": true
    },
    "tags": []
   },
   "outputs": [],
   "source": [
    "def encode_image(\n",
    "    image_path: str, resize: bool = True, size: Tuple[int, int] = (1024, 1024)\n",
    ") -> Union[str, None]:\n",
    "    \"\"\"\n",
    "    Encode an image as a base64 string, optionally resizing it to a supported resolution.\n",
    "\n",
    "    Args:\n",
    "        image_path (str): The path to the image file.\n",
    "        resize (bool, optional): Whether to resize the image. Defaults to True.\n",
    "\n",
    "    Returns:\n",
    "        Union[str, None]: The encoded image as a string, or None if encoding failed.\n",
    "    \"\"\"\n",
    "    assert os.path.exists(image_path)\n",
    "\n",
    "    if resize:\n",
    "        image = Image.open(image_path)\n",
    "        image = image.resize(size)\n",
    "        image.save(\"image_path_resized.png\")\n",
    "        image_path = \"image_path_resized.png\"\n",
    "    image = Image.open(image_path)\n",
    "    assert image.size == size\n",
    "    with open(image_path, \"rb\") as image_file:\n",
    "        img_byte_array = image_file.read()\n",
    "        # Encode the byte array as a Base64 string\n",
    "        try:\n",
    "            base64_str = base64.b64encode(img_byte_array).decode(\"utf-8\")\n",
    "            return base64_str\n",
    "        except Exception as e:\n",
    "            print(f\"Failed to encode image {image_path} as base64 string.\")\n",
    "            print(e)\n",
    "            return None\n",
    "    image.close()"
   ]
  },
  {
   "cell_type": "markdown",
   "id": "4a2d6395",
   "metadata": {
    "pycharm": {
     "is_executing": true
    },
    "tags": []
   },
   "source": [
    "이번에는 이미지와 프롬프트를 모두 모델에 입력해 보겠습니다. image_strength를 설정하여 이미지와 프롬프트의 상대적 중요도를 조정할 수 있습니다. 데모를 위해 강아지 사진을 사용하겠습니다."
   ]
  },
  {
   "cell_type": "code",
   "execution_count": null,
   "id": "e5b9169a",
   "metadata": {
    "pycharm": {
     "is_executing": true
    },
    "tags": []
   },
   "outputs": [],
   "source": [
    "# Here is the original image:\n",
    "region = boto3.Session().region_name\n",
    "s3_bucket = f\"jumpstart-cache-prod-{region}\"\n",
    "key_prefix = \"model-metadata/assets\"\n",
    "input_img_file_name = \"dog_suit.jpg\"\n",
    "\n",
    "s3 = boto3.client(\"s3\")\n",
    "\n",
    "s3.download_file(s3_bucket, f\"{key_prefix}/{input_img_file_name}\", input_img_file_name)\n",
    "image = Image.open(input_img_file_name)\n",
    "display(image)\n",
    "image.close()"
   ]
  },
  {
   "cell_type": "code",
   "execution_count": null,
   "id": "aac07d75",
   "metadata": {
    "tags": []
   },
   "outputs": [],
   "source": [
    "size = (512, 512)\n",
    "dog_data = encode_image(input_img_file_name, size=size)\n",
    "\n",
    "payload = {\n",
    "    \"text_prompts\": [{\"text\": \"dog in embroidery\"}],\n",
    "    \"init_image\": dog_data,\n",
    "    \"cfg_scale\": 9,\n",
    "    \"image_strength\": 0.8,\n",
    "    \"seed\": 42,\n",
    "}\n",
    "\n",
    "response = model_predictor.predict(payload)\n",
    "decode_and_show(response[\"generated_image\"])"
   ]
  },
  {
   "cell_type": "markdown",
   "id": "45f441fa",
   "metadata": {},
   "source": [
    "### 2.6. 프롬프트 엔지니어링\n",
    "---\n",
    "좋은 프롬프트를 작성하는 것은 때로 예술과 같습니다. 특정 프롬프트가 주어진 모델에서 만족스러운 이미지를 생성할지 예측하기는 종종 어렵습니다. 그러나 효과적인 것으로 관찰된 특정 템플릿들이 있습니다. 일반적으로 프롬프트는 크게 세 부분으로 나눌 수 있습니다: (i) 이미지 유형(사진/스케치/그림 등), (ii) 설명(주제/객체/환경/장면 등) 및 (iii) 이미지 스타일(사실적/예술적/예술 유형 등). 이 세 부분을 개별적으로 변경하여 이미지의 변형을 생성할 수 있습니다. 형용사는 이미지 생성 과정에서 중요한 역할을 하는 것으로 알려져 있습니다. 또한, 더 많은 세부 사항을 추가하면 생성 과정에 도움이 됩니다.\n",
    "\n",
    "사실적인 이미지를 생성하려면 \"a photo of\", \"a photograph of\", \"realistic\" 또는 \"hyper realistic\"과 같은 문구를 사용할 수 있습니다. 예술가의 작품 스타일로 이미지를 생성하려면 \"by Pablo Piccaso\" 또는 \"oil painting by Rembrandt\" 또는 \"landscape art by Frederic Edwin Church\" 또는 \"pencil drawing by Albrecht Dürer\"와 같은 문구를 사용할 수 있습니다. 다양한 예술가의 스타일을 조합할 수도 있습니다. 카테고리별 예술적 이미지를 생성하려면 \"lion on a beach, abstract\"와 같이 프롬프트에 예술 카테고리를 추가할 수 있습니다. 다른 카테고리로는 \"oil painting\", \"pencil drawing\", \"pop art\", \"digital art\", \"anime\", \"cartoon\", \"futurism\", \"watercolor\", \"manga\" 등이 있습니다. 또한 35mm 와이드 렌즈나 85mm 와이드 렌즈와 같은 조명이나 카메라 렌즈에 대한 세부 정보와 프레이밍(인물/풍경/클로즈업 등)에 대한 세부 정보를 포함할 수 있습니다.\n",
    "\n",
    "모델은 동일한 프롬프트가 여러 번 주어져도 다른 이미지를 생성한다는 점에 유의하세요. 따라서 여러 이미지를 생성하고 응용 프로그램에 가장 적합한 이미지를 선택할 수 있습니다.\n",
    "\n",
    "---"
   ]
  },
  {
   "cell_type": "code",
   "execution_count": null,
   "id": "15ab184b",
   "metadata": {
    "collapsed": false,
    "jupyter": {
     "outputs_hidden": false
    }
   },
   "outputs": [],
   "source": [
    "prompts = [\n",
    "    \"a beautiful illustration of a young cybertronic hyderabadi american woman, round face, cateye glasses, purple colors, intricate, sharp focus, illustration, highly detailed, digital painting, concept art, matte, art by wlop and artgerm and greg rutkowski and alphonse mucha, masterpiece\",\n",
    "    \"a photorealistic hyperrealistic render of an interior of a beautifully decorated cozy kitchen by pixar, greg rutkowski, wlop, artgerm, dramatic moody sunset lighting, long shadows, volumetric, cinematic atmosphere, octane render, artstation, 8 k\",\n",
    "    \"symmetry!! portrait of nicolas cage, long hair in the wind, smile, happy, white vest, intricate, elegant, highly detailed, digital painting, artstation, concept art, smooth, sharp focus, illustration, art by artgerm and greg rutkowski and alphonse mucha\",\n",
    "    \"a stunningly detailed stained glass window of a beautiful poison ivy with green skin wearing a business suit, dark eyeliner, intricate, elegant, highly detailed, digital painting, artstation, concept art, sharp focus, illustration, art by greg rutkowski and alphonse mucha\",\n",
    "    \"a fantasy style portrait painting of rachel lane / alison brie / sally kellerman hybrid in the style of francois boucher oil painting unreal 5 daz. rpg portrait, extremely detailed artgerm greg rutkowski alphonse mucha\",\n",
    "    \"symmetry!! portrait of vanessa hudgens in the style of horizon zero dawn, machine face, intricate, elegant, highly detailed, digital painting, artstation, concept art, smooth, sharp focus, illustration, art by artgerm and greg rutkowski and alphonse mucha, 8 k\",\n",
    "    \"landscape of the beautiful city of paris rebuilt near the pacific ocean in sunny california, amazing weather, sandy beach, palm trees, splendid haussmann architecture, digital painting, highly detailed, intricate, without duplication, art by craig mullins, greg rutkwowski, concept art, matte painting, trending on artstation\",\n",
    "]\n",
    "for prompt in prompts:\n",
    "    payload = {\"text_prompts\": [{\"text\": prompt}],\n",
    "    \"width\": 1024,\n",
    "    \"height\": 1024,\n",
    "    \"sampler\": \"DPMPP2MSampler\",\n",
    "    \"cfg_scale\": 7.0,\n",
    "    \"steps\": 50,\n",
    "    \"seed\": 133,\n",
    "    \"use_refiner\": True,\n",
    "    \"refiner_steps\": 40,\n",
    "    \"refiner_strength\": 0.2,}\n",
    "    response = model_predictor.predict(payload)\n",
    "    decode_and_show(response[\"generated_image\"])"
   ]
  },
  {
   "cell_type": "code",
   "execution_count": null,
   "id": "5e921755",
   "metadata": {},
   "outputs": [],
   "source": [
    "# Delete the SageMaker endpoint\n",
    "model_predictor.delete_model()\n",
    "model_predictor.delete_endpoint()"
   ]
  }
 ],
 "metadata": {
  "availableInstances": [
   {
    "_defaultOrder": 0,
    "_isFastLaunch": true,
    "category": "General purpose",
    "gpuNum": 0,
    "hideHardwareSpecs": false,
    "memoryGiB": 4,
    "name": "ml.t3.medium",
    "vcpuNum": 2
   },
   {
    "_defaultOrder": 1,
    "_isFastLaunch": false,
    "category": "General purpose",
    "gpuNum": 0,
    "hideHardwareSpecs": false,
    "memoryGiB": 8,
    "name": "ml.t3.large",
    "vcpuNum": 2
   },
   {
    "_defaultOrder": 2,
    "_isFastLaunch": false,
    "category": "General purpose",
    "gpuNum": 0,
    "hideHardwareSpecs": false,
    "memoryGiB": 16,
    "name": "ml.t3.xlarge",
    "vcpuNum": 4
   },
   {
    "_defaultOrder": 3,
    "_isFastLaunch": false,
    "category": "General purpose",
    "gpuNum": 0,
    "hideHardwareSpecs": false,
    "memoryGiB": 32,
    "name": "ml.t3.2xlarge",
    "vcpuNum": 8
   },
   {
    "_defaultOrder": 4,
    "_isFastLaunch": true,
    "category": "General purpose",
    "gpuNum": 0,
    "hideHardwareSpecs": false,
    "memoryGiB": 8,
    "name": "ml.m5.large",
    "vcpuNum": 2
   },
   {
    "_defaultOrder": 5,
    "_isFastLaunch": false,
    "category": "General purpose",
    "gpuNum": 0,
    "hideHardwareSpecs": false,
    "memoryGiB": 16,
    "name": "ml.m5.xlarge",
    "vcpuNum": 4
   },
   {
    "_defaultOrder": 6,
    "_isFastLaunch": false,
    "category": "General purpose",
    "gpuNum": 0,
    "hideHardwareSpecs": false,
    "memoryGiB": 32,
    "name": "ml.m5.2xlarge",
    "vcpuNum": 8
   },
   {
    "_defaultOrder": 7,
    "_isFastLaunch": false,
    "category": "General purpose",
    "gpuNum": 0,
    "hideHardwareSpecs": false,
    "memoryGiB": 64,
    "name": "ml.m5.4xlarge",
    "vcpuNum": 16
   },
   {
    "_defaultOrder": 8,
    "_isFastLaunch": false,
    "category": "General purpose",
    "gpuNum": 0,
    "hideHardwareSpecs": false,
    "memoryGiB": 128,
    "name": "ml.m5.8xlarge",
    "vcpuNum": 32
   },
   {
    "_defaultOrder": 9,
    "_isFastLaunch": false,
    "category": "General purpose",
    "gpuNum": 0,
    "hideHardwareSpecs": false,
    "memoryGiB": 192,
    "name": "ml.m5.12xlarge",
    "vcpuNum": 48
   },
   {
    "_defaultOrder": 10,
    "_isFastLaunch": false,
    "category": "General purpose",
    "gpuNum": 0,
    "hideHardwareSpecs": false,
    "memoryGiB": 256,
    "name": "ml.m5.16xlarge",
    "vcpuNum": 64
   },
   {
    "_defaultOrder": 11,
    "_isFastLaunch": false,
    "category": "General purpose",
    "gpuNum": 0,
    "hideHardwareSpecs": false,
    "memoryGiB": 384,
    "name": "ml.m5.24xlarge",
    "vcpuNum": 96
   },
   {
    "_defaultOrder": 12,
    "_isFastLaunch": false,
    "category": "General purpose",
    "gpuNum": 0,
    "hideHardwareSpecs": false,
    "memoryGiB": 8,
    "name": "ml.m5d.large",
    "vcpuNum": 2
   },
   {
    "_defaultOrder": 13,
    "_isFastLaunch": false,
    "category": "General purpose",
    "gpuNum": 0,
    "hideHardwareSpecs": false,
    "memoryGiB": 16,
    "name": "ml.m5d.xlarge",
    "vcpuNum": 4
   },
   {
    "_defaultOrder": 14,
    "_isFastLaunch": false,
    "category": "General purpose",
    "gpuNum": 0,
    "hideHardwareSpecs": false,
    "memoryGiB": 32,
    "name": "ml.m5d.2xlarge",
    "vcpuNum": 8
   },
   {
    "_defaultOrder": 15,
    "_isFastLaunch": false,
    "category": "General purpose",
    "gpuNum": 0,
    "hideHardwareSpecs": false,
    "memoryGiB": 64,
    "name": "ml.m5d.4xlarge",
    "vcpuNum": 16
   },
   {
    "_defaultOrder": 16,
    "_isFastLaunch": false,
    "category": "General purpose",
    "gpuNum": 0,
    "hideHardwareSpecs": false,
    "memoryGiB": 128,
    "name": "ml.m5d.8xlarge",
    "vcpuNum": 32
   },
   {
    "_defaultOrder": 17,
    "_isFastLaunch": false,
    "category": "General purpose",
    "gpuNum": 0,
    "hideHardwareSpecs": false,
    "memoryGiB": 192,
    "name": "ml.m5d.12xlarge",
    "vcpuNum": 48
   },
   {
    "_defaultOrder": 18,
    "_isFastLaunch": false,
    "category": "General purpose",
    "gpuNum": 0,
    "hideHardwareSpecs": false,
    "memoryGiB": 256,
    "name": "ml.m5d.16xlarge",
    "vcpuNum": 64
   },
   {
    "_defaultOrder": 19,
    "_isFastLaunch": false,
    "category": "General purpose",
    "gpuNum": 0,
    "hideHardwareSpecs": false,
    "memoryGiB": 384,
    "name": "ml.m5d.24xlarge",
    "vcpuNum": 96
   },
   {
    "_defaultOrder": 20,
    "_isFastLaunch": false,
    "category": "General purpose",
    "gpuNum": 0,
    "hideHardwareSpecs": true,
    "memoryGiB": 0,
    "name": "ml.geospatial.interactive",
    "supportedImageNames": [
     "sagemaker-geospatial-v1-0"
    ],
    "vcpuNum": 0
   },
   {
    "_defaultOrder": 21,
    "_isFastLaunch": true,
    "category": "Compute optimized",
    "gpuNum": 0,
    "hideHardwareSpecs": false,
    "memoryGiB": 4,
    "name": "ml.c5.large",
    "vcpuNum": 2
   },
   {
    "_defaultOrder": 22,
    "_isFastLaunch": false,
    "category": "Compute optimized",
    "gpuNum": 0,
    "hideHardwareSpecs": false,
    "memoryGiB": 8,
    "name": "ml.c5.xlarge",
    "vcpuNum": 4
   },
   {
    "_defaultOrder": 23,
    "_isFastLaunch": false,
    "category": "Compute optimized",
    "gpuNum": 0,
    "hideHardwareSpecs": false,
    "memoryGiB": 16,
    "name": "ml.c5.2xlarge",
    "vcpuNum": 8
   },
   {
    "_defaultOrder": 24,
    "_isFastLaunch": false,
    "category": "Compute optimized",
    "gpuNum": 0,
    "hideHardwareSpecs": false,
    "memoryGiB": 32,
    "name": "ml.c5.4xlarge",
    "vcpuNum": 16
   },
   {
    "_defaultOrder": 25,
    "_isFastLaunch": false,
    "category": "Compute optimized",
    "gpuNum": 0,
    "hideHardwareSpecs": false,
    "memoryGiB": 72,
    "name": "ml.c5.9xlarge",
    "vcpuNum": 36
   },
   {
    "_defaultOrder": 26,
    "_isFastLaunch": false,
    "category": "Compute optimized",
    "gpuNum": 0,
    "hideHardwareSpecs": false,
    "memoryGiB": 96,
    "name": "ml.c5.12xlarge",
    "vcpuNum": 48
   },
   {
    "_defaultOrder": 27,
    "_isFastLaunch": false,
    "category": "Compute optimized",
    "gpuNum": 0,
    "hideHardwareSpecs": false,
    "memoryGiB": 144,
    "name": "ml.c5.18xlarge",
    "vcpuNum": 72
   },
   {
    "_defaultOrder": 28,
    "_isFastLaunch": false,
    "category": "Compute optimized",
    "gpuNum": 0,
    "hideHardwareSpecs": false,
    "memoryGiB": 192,
    "name": "ml.c5.24xlarge",
    "vcpuNum": 96
   },
   {
    "_defaultOrder": 29,
    "_isFastLaunch": true,
    "category": "Accelerated computing",
    "gpuNum": 1,
    "hideHardwareSpecs": false,
    "memoryGiB": 16,
    "name": "ml.g4dn.xlarge",
    "vcpuNum": 4
   },
   {
    "_defaultOrder": 30,
    "_isFastLaunch": false,
    "category": "Accelerated computing",
    "gpuNum": 1,
    "hideHardwareSpecs": false,
    "memoryGiB": 32,
    "name": "ml.g4dn.2xlarge",
    "vcpuNum": 8
   },
   {
    "_defaultOrder": 31,
    "_isFastLaunch": false,
    "category": "Accelerated computing",
    "gpuNum": 1,
    "hideHardwareSpecs": false,
    "memoryGiB": 64,
    "name": "ml.g4dn.4xlarge",
    "vcpuNum": 16
   },
   {
    "_defaultOrder": 32,
    "_isFastLaunch": false,
    "category": "Accelerated computing",
    "gpuNum": 1,
    "hideHardwareSpecs": false,
    "memoryGiB": 128,
    "name": "ml.g4dn.8xlarge",
    "vcpuNum": 32
   },
   {
    "_defaultOrder": 33,
    "_isFastLaunch": false,
    "category": "Accelerated computing",
    "gpuNum": 4,
    "hideHardwareSpecs": false,
    "memoryGiB": 192,
    "name": "ml.g4dn.12xlarge",
    "vcpuNum": 48
   },
   {
    "_defaultOrder": 34,
    "_isFastLaunch": false,
    "category": "Accelerated computing",
    "gpuNum": 1,
    "hideHardwareSpecs": false,
    "memoryGiB": 256,
    "name": "ml.g4dn.16xlarge",
    "vcpuNum": 64
   },
   {
    "_defaultOrder": 35,
    "_isFastLaunch": false,
    "category": "Accelerated computing",
    "gpuNum": 1,
    "hideHardwareSpecs": false,
    "memoryGiB": 61,
    "name": "ml.p3.2xlarge",
    "vcpuNum": 8
   },
   {
    "_defaultOrder": 36,
    "_isFastLaunch": false,
    "category": "Accelerated computing",
    "gpuNum": 4,
    "hideHardwareSpecs": false,
    "memoryGiB": 244,
    "name": "ml.p3.8xlarge",
    "vcpuNum": 32
   },
   {
    "_defaultOrder": 37,
    "_isFastLaunch": false,
    "category": "Accelerated computing",
    "gpuNum": 8,
    "hideHardwareSpecs": false,
    "memoryGiB": 488,
    "name": "ml.p3.16xlarge",
    "vcpuNum": 64
   },
   {
    "_defaultOrder": 38,
    "_isFastLaunch": false,
    "category": "Accelerated computing",
    "gpuNum": 8,
    "hideHardwareSpecs": false,
    "memoryGiB": 768,
    "name": "ml.p3dn.24xlarge",
    "vcpuNum": 96
   },
   {
    "_defaultOrder": 39,
    "_isFastLaunch": false,
    "category": "Memory Optimized",
    "gpuNum": 0,
    "hideHardwareSpecs": false,
    "memoryGiB": 16,
    "name": "ml.r5.large",
    "vcpuNum": 2
   },
   {
    "_defaultOrder": 40,
    "_isFastLaunch": false,
    "category": "Memory Optimized",
    "gpuNum": 0,
    "hideHardwareSpecs": false,
    "memoryGiB": 32,
    "name": "ml.r5.xlarge",
    "vcpuNum": 4
   },
   {
    "_defaultOrder": 41,
    "_isFastLaunch": false,
    "category": "Memory Optimized",
    "gpuNum": 0,
    "hideHardwareSpecs": false,
    "memoryGiB": 64,
    "name": "ml.r5.2xlarge",
    "vcpuNum": 8
   },
   {
    "_defaultOrder": 42,
    "_isFastLaunch": false,
    "category": "Memory Optimized",
    "gpuNum": 0,
    "hideHardwareSpecs": false,
    "memoryGiB": 128,
    "name": "ml.r5.4xlarge",
    "vcpuNum": 16
   },
   {
    "_defaultOrder": 43,
    "_isFastLaunch": false,
    "category": "Memory Optimized",
    "gpuNum": 0,
    "hideHardwareSpecs": false,
    "memoryGiB": 256,
    "name": "ml.r5.8xlarge",
    "vcpuNum": 32
   },
   {
    "_defaultOrder": 44,
    "_isFastLaunch": false,
    "category": "Memory Optimized",
    "gpuNum": 0,
    "hideHardwareSpecs": false,
    "memoryGiB": 384,
    "name": "ml.r5.12xlarge",
    "vcpuNum": 48
   },
   {
    "_defaultOrder": 45,
    "_isFastLaunch": false,
    "category": "Memory Optimized",
    "gpuNum": 0,
    "hideHardwareSpecs": false,
    "memoryGiB": 512,
    "name": "ml.r5.16xlarge",
    "vcpuNum": 64
   },
   {
    "_defaultOrder": 46,
    "_isFastLaunch": false,
    "category": "Memory Optimized",
    "gpuNum": 0,
    "hideHardwareSpecs": false,
    "memoryGiB": 768,
    "name": "ml.r5.24xlarge",
    "vcpuNum": 96
   },
   {
    "_defaultOrder": 47,
    "_isFastLaunch": false,
    "category": "Accelerated computing",
    "gpuNum": 1,
    "hideHardwareSpecs": false,
    "memoryGiB": 16,
    "name": "ml.g5.xlarge",
    "vcpuNum": 4
   },
   {
    "_defaultOrder": 48,
    "_isFastLaunch": false,
    "category": "Accelerated computing",
    "gpuNum": 1,
    "hideHardwareSpecs": false,
    "memoryGiB": 32,
    "name": "ml.g5.2xlarge",
    "vcpuNum": 8
   },
   {
    "_defaultOrder": 49,
    "_isFastLaunch": false,
    "category": "Accelerated computing",
    "gpuNum": 1,
    "hideHardwareSpecs": false,
    "memoryGiB": 64,
    "name": "ml.g5.4xlarge",
    "vcpuNum": 16
   },
   {
    "_defaultOrder": 50,
    "_isFastLaunch": false,
    "category": "Accelerated computing",
    "gpuNum": 1,
    "hideHardwareSpecs": false,
    "memoryGiB": 128,
    "name": "ml.g5.8xlarge",
    "vcpuNum": 32
   },
   {
    "_defaultOrder": 51,
    "_isFastLaunch": false,
    "category": "Accelerated computing",
    "gpuNum": 1,
    "hideHardwareSpecs": false,
    "memoryGiB": 256,
    "name": "ml.g5.16xlarge",
    "vcpuNum": 64
   },
   {
    "_defaultOrder": 52,
    "_isFastLaunch": false,
    "category": "Accelerated computing",
    "gpuNum": 4,
    "hideHardwareSpecs": false,
    "memoryGiB": 192,
    "name": "ml.g5.12xlarge",
    "vcpuNum": 48
   },
   {
    "_defaultOrder": 53,
    "_isFastLaunch": false,
    "category": "Accelerated computing",
    "gpuNum": 4,
    "hideHardwareSpecs": false,
    "memoryGiB": 384,
    "name": "ml.g5.24xlarge",
    "vcpuNum": 96
   },
   {
    "_defaultOrder": 54,
    "_isFastLaunch": false,
    "category": "Accelerated computing",
    "gpuNum": 8,
    "hideHardwareSpecs": false,
    "memoryGiB": 768,
    "name": "ml.g5.48xlarge",
    "vcpuNum": 192
   },
   {
    "_defaultOrder": 55,
    "_isFastLaunch": false,
    "category": "Accelerated computing",
    "gpuNum": 8,
    "hideHardwareSpecs": false,
    "memoryGiB": 1152,
    "name": "ml.p4d.24xlarge",
    "vcpuNum": 96
   },
   {
    "_defaultOrder": 56,
    "_isFastLaunch": false,
    "category": "Accelerated computing",
    "gpuNum": 8,
    "hideHardwareSpecs": false,
    "memoryGiB": 1152,
    "name": "ml.p4de.24xlarge",
    "vcpuNum": 96
   },
   {
    "_defaultOrder": 57,
    "_isFastLaunch": false,
    "category": "Accelerated computing",
    "gpuNum": 0,
    "hideHardwareSpecs": false,
    "memoryGiB": 32,
    "name": "ml.trn1.2xlarge",
    "vcpuNum": 8
   },
   {
    "_defaultOrder": 58,
    "_isFastLaunch": false,
    "category": "Accelerated computing",
    "gpuNum": 0,
    "hideHardwareSpecs": false,
    "memoryGiB": 512,
    "name": "ml.trn1.32xlarge",
    "vcpuNum": 128
   },
   {
    "_defaultOrder": 59,
    "_isFastLaunch": false,
    "category": "Accelerated computing",
    "gpuNum": 0,
    "hideHardwareSpecs": false,
    "memoryGiB": 512,
    "name": "ml.trn1n.32xlarge",
    "vcpuNum": 128
   }
  ],
  "instance_type": "ml.t3.medium",
  "kernelspec": {
   "display_name": "Python 3 (ipykernel)",
   "language": "python",
   "name": "python3"
  },
  "language_info": {
   "codemirror_mode": {
    "name": "ipython",
    "version": 3
   },
   "file_extension": ".py",
   "mimetype": "text/x-python",
   "name": "python",
   "nbconvert_exporter": "python",
   "pygments_lexer": "ipython3",
   "version": "3.10.13"
  },
  "pycharm": {
   "stem_cell": {
    "cell_type": "raw",
    "metadata": {
     "collapsed": false
    },
    "source": []
   }
  }
 },
 "nbformat": 4,
 "nbformat_minor": 5
}
